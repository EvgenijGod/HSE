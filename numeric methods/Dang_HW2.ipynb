{
 "cells": [
  {
   "cell_type": "code",
   "execution_count": 1,
   "metadata": {},
   "outputs": [],
   "source": [
    "import numpy as np\n",
    "import matplotlib.pyplot as plt\n",
    "%matplotlib inline"
   ]
  },
  {
   "cell_type": "markdown",
   "metadata": {},
   "source": [
    "# Домашнее задание 2\n",
    "\n",
    "Дедлайн: 19.03.2021, 2359\n",
    "\n",
    "## Методы интегрирования (30 баллов)\n",
    "\n",
    "Пусть $f: R \\to R$ -- некоторая (достаточно) гладкая функция, с известными значениями $f(x_i)$ в точках $x_i$. Требуется вычислить интеграл\n",
    "$$\n",
    "\\int_a^b f(x) dx.\n",
    "$$\n",
    "Для этого будем использовать составные формулы Ньютона-Котеса.\n",
    "\n",
    "### Составные формулы для произвольной сетки\n",
    "\n",
    "Будем полагать сетку произвольной, если сетка равномерная (что на практике бывает не всегда), то формулы хорошо известны.\n",
    "\n",
    "#### Запись формул (5 баллов)\n",
    "\n",
    "Формулы Ньютона-Котеса -- формулы, которые получаются при интегрировании интерполяционного многочлена. Пусть мы используем $K$ элементарных отрезков, на каждом из которых есть $n$ узлов (включая два крайних). Выпишите простую и составную формулу интегрирования. \n",
    "\n",
    "#### ВАШЕ РЕШЕНИЕ ЗДЕСЬ\n",
    "\n",
    "*Запишем интерполяционный многочлен Ньютона и распишем произведение:*\n",
    "\n",
    "$$N_{n}(x) = a_0 + a_1(x-x_0) + a_2(x-x_0)(x-x_1) + ... + a_n(x-x_0)(x-x_1)...(x-x_{n-1})=\\sum\\limits_{p=0}^{n}a_p\\prod_{j=0}^{p-1}(x-x_j)$$\n",
    "\n",
    "$$\\prod_{j=0}^{p-1}(x-x_j) = \\sum\\limits_{d=0}^{p}\\biggr(x^d \\underbrace{(-1)^{p-d} \\cdot \\sum_{\\substack{ j_1,...,j_{p-d} = \\overline{0,p-1} \\\\ j_1 < j_2 <...<j_{p-d}} }x_{j_1}x_{j_2}...x_{j_{p-d}}}_{c_{p,d}}\\biggr)$$\n",
    "\n",
    "$$N_{n}(x) = \\sum\\limits_{p=0}^{n}a_p(x^p + c_{p,p-1}x^{p-1} + ... c_{p,1}x + c_{p,0}) = \\sum\\limits_{p=0}^{n}a_p\\sum\\limits_{d=0}^{p}x^d c_{p,d}$$\n",
    "\n",
    "*Простая формула на отрезке $[x_k, x_{k+1}]$:*\n",
    "\n",
    "$$I_k = \\int\\limits_{x_k}^{x_{k+1}}N_{n}^{k}(x)\\,dx = \\int\\limits_{x_k}^{x_{k+1}}\\sum\\limits_{p=0}^{n}a_p^k\\sum\\limits_{d=0}^{p}x^d c^k_{p,d}\\,dx = \\sum\\limits_{p=0}^{n}a_p^k\\sum\\limits_{d=0}^{p}c^k_{p,d}\\frac{x_{k+1}^{d+1} - x_k^{d+1}}{d+1}$$\n",
    "\n",
    "*$a^k, c^k$ - обозначения параметров (не возведение в степень $k$) для конкретного отрезка $[x_k, x_{k+1}]$*\n",
    "\n",
    "*Составная формула:*\n",
    "$$\\int\\limits_{a}^{b}f(x)\\,dx \\approx \\sum\\limits_{k=0}^{K-1}I_k = \\sum\\limits_{k=0}^{K-1}\\sum\\limits_{p=0}^{n}a_p^k\\sum\\limits_{d=0}^{p}c^k_{p,d}\\frac{x_{k+1}^{d+1} - x_k^{d+1}}{d+1}$$\n",
    "Выпишите аналогичные формулы, которые получаются при интерполировании функции $f$ кубическим сплайном дефекта 1.\n",
    "\n",
    "#### ВАШЕ РЕШЕНИЕ ЗДЕСЬ\n",
    "*Выпишем формулу интерполяции кубическим сплайном дефекта 1:*\n",
    "\n",
    "$$f(x) \\approx \\sum\\limits_{k=0}^{K-1}S_k = \\sum\\limits_{k=0}^{K-1}\\sum\\limits_{i=0}^{n-1}\\left(\\frac{1}{6\\tau^{k}_{i}}(m^{k}_{i}(x^{k}_{i+1}-x)^3 + m^{k}_{i+1}(x-x^{k}_{i})^3) + a^{k}_{i} x + b^{k}_{i}\\right)I\\{x \\in [x^{k}_{i}, x^{k}_{i+1}]\\}$$\n",
    "\n",
    "*Найдём формулу интегрирования на одном из $n-1$ отрезков $[x^{k}_{i}, x^{k}_{i+1}]$ из элементарного отрезка $[x_k, x_{k+1}]$ ($k, i$ - индексы):*\n",
    "\n",
    "$$I^{k}_{i} = \\int\\limits_{x^{k}_{i}}^{x^{k}_{i+1}}S^{k}_{i}\\,dx = \\left(\\frac{1}{24\\tau^{k}_{i}}(-m^{k}_{i}(x^{k}_{i+1}-x)^4 + m^{k}_{i+1}(x-x^{k}_{i})^4) + \\frac{a^{k}_{i} x^2}{2} + b^{k}_{i}x\\right) \\Biggr\\rvert_{x^{k}_{i}}^{x^{k}_{i+1}}=$$\n",
    "$$=\\frac{(\\tau^{k}_{i})^3}{24}(m^{k}_{i} + m^{k}_{i+1}) + \\frac{a^{k}_{i} \\tau^{k}_{i}(x^{k}_{i} + x^{k}_{i+1})}{2} + b^{k}_{i} \\tau^{k}_{i}$$\n",
    "\n",
    "*Тогда простая формула (на элементарном отрезке $[x_k, x_{k+1}]$) равна:*\n",
    "$$I_k = \\sum\\limits_{i=0}^{n-1}I^{k}_{i} = \\sum\\limits_{i=0}^{n-1}\\left(\\frac{(\\tau^{k}_{i})^3}{24}(m^{k}_{i} + m^{k}_{i+1}) + \\frac{a^{k}_{i} \\tau^{k}_{i}(x^{k}_{i} + x^{k}_{i+1})}{2} + b^{k}_{i} \\tau^{k}_{i}\\right)$$\n",
    "\n",
    "*Запишем составную формулу:*\n",
    "$$\\int\\limits_{a}^{b}f(x)\\,dx \\approx \\sum\\limits_{k=0}^{K-1}I_k = \\sum\\limits_{k=0}^{K-1}\\sum\\limits_{i=0}^{n-1}\\left(\\frac{(\\tau^{k}_{i})^3}{24}(m^{k}_{i} + m^{k}_{i+1}) + \\frac{a^{k}_{i} \\tau^{k}_{i}(x^{k}_{i} + x^{k}_{i+1})}{2} + b^{k}_{i} \\tau^{k}_{i}\\right)=$$\n",
    "$$=\\sum\\limits_{k^{\\prime}=0}^{nK - (K-1)}\\left(\\frac{\\tau_{k^{\\prime}}^3}{24}(m_{k^{\\prime}} + m_{k^{\\prime}+1}) + \\frac{a_{k^{\\prime}} \\tau_{k^{\\prime}}(x_{k^{\\prime}} + x_{k^{\\prime}+1})}{2} + b_{k^{\\prime}} \\tau_{k^{\\prime}}\\right)$$\n",
    "\n",
    "#### Программная реализация (10 баллов)\n",
    "\n",
    "Реализуйте два метода интегрирования: с кубическими сплайнами дефекта 1 и с формулами Ньютона-Котеса. Для вычисления коэффициентов интерполяции можете использовать готовые решения из предыдущих домашних и семинарских работ."
   ]
  },
  {
   "cell_type": "code",
   "execution_count": 315,
   "metadata": {},
   "outputs": [],
   "source": [
    "#YOUR CODE everywhere\n",
    "class NewtonPolyInterpolator:\n",
    "    #recall the code from seminars, beware of possible errors there\n",
    "    def __init__(self,xGrid,fGrid):\n",
    "        #Computes spline coefficients\n",
    "        #xGrid float64 [N]\n",
    "        #fGrid float64 [N]\n",
    "        self.xGrid = xGrid\n",
    "        self.fGrid = fGrid\n",
    "        self.ComputeCoefs(self.xGrid, self.fGrid)\n",
    "    \n",
    "    def ComputeDifferences(self):\n",
    "        self.diffs = [self.fGrid]\n",
    "        for i in np.arange(1, len(self.fGrid)):\n",
    "            diff = np.array([(self.diffs[-1][k+1]-self.diffs[-1][k]) / (self.xGrid[i+k]-self.xGrid[k])\\\n",
    "                            for k in np.arange(len(self.diffs[-1])-1)])\n",
    "            self.diffs = self.diffs + [diff]\n",
    "    \n",
    "    def ComputeCoefs(self, xs, fs):\n",
    "        self.ComputeDifferences()\n",
    "        self.coefs = np.array([self.diffs[k][0] for k in np.arange(len(self.diffs))])\n",
    "    \n",
    "class PiecewiseNewtonInterpolator:\n",
    "    def __init__(self,xs,fs,n=1):\n",
    "        #IN:\n",
    "        # xs [K*n - (K-1)]\n",
    "        # fs [K*n - (K-1)]  -- interpolation grid\n",
    "        # n -- degree of interpolant+1 (K=2 means we use linear functions)\n",
    "        #Store the list of coefficients corresponding to elementary ranges\n",
    "        self.xs = xs\n",
    "        self.fs = fs\n",
    "        self.n = n\n",
    "        self.coefs = self.ComputeCoefs(xs, fs)\n",
    "        \n",
    "    def ComputeCoefs(self, xs, fs):\n",
    "        coefs = []\n",
    "        for k in range((len(xs)-1)//(self.n-1)):\n",
    "            subgrid = range(k * (self.n - 1), (k + 1) * (self.n - 1) + 1)\n",
    "            interp = NewtonPolyInterpolator(xs[subgrid], fs[subgrid])\n",
    "            coefs.append(interp.coefs)\n",
    "        return coefs\n",
    "    \n",
    "    def Compute(self,xs):\n",
    "        #IN:\n",
    "        # xs [batch]\n",
    "        #OUT:\n",
    "        # interpFs [batch] -- values of interpolant in points xs\n",
    "        res = []\n",
    "        n = len(self.xs[::self.n - 1]) - 1\n",
    "        itrv_idx = np.searchsorted(self.xs[::self.n-1], xs, side='right') - 1\n",
    "        itrv_idx[itrv_idx == n] -= 1    # n + 1 to n\n",
    "\n",
    "        for x, itrv in zip(xs, itrv_idx):\n",
    "            subgrid = self.xs[range(itrv * (self.n - 1), (itrv + 1) * (self.n - 1) + 1)]\n",
    "            vals = np.cumprod(x-subgrid[None,:], axis=-1)[:,:-1]\n",
    "            vals = np.concatenate([np.ones([1,1]), vals], axis=-1)\n",
    "            res.append((vals @ self.coefs[itrv])[0])\n",
    "        return res\n",
    "    \n",
    "class CubicSplineInterpolator:\n",
    "    def __init__(self,xs,fs):\n",
    "        #IN:\n",
    "        # xs [n]\n",
    "        # fs [n]  -- interpolation grid\n",
    "        #Store the list of coefficients corresponding to elementary ranges\n",
    "\n",
    "        self.sppa= 0\n",
    "        self.sppb= 0\n",
    "        self.xs = xs #you will need it\n",
    "        self.coeffs = self.ComputeCoefficients(xs,fs)\n",
    "    \n",
    "    def tdma(self, a, b, c, f):\n",
    "        n = len(f)\n",
    "        # calculate alpha, beta (forward pass)\n",
    "        alpha = [-c[0] / b[0]]\n",
    "        beta = [f[0] / b[0]]\n",
    "        for i in range(1,n):\n",
    "            alpha.append(-c[i]/(a[i]*alpha[i-1] + b[i]))\n",
    "            beta.append((f[i] - a[i]*beta[i-1])/(a[i]*alpha[i-1]+b[i]))\n",
    "\n",
    "        # calculate x (backward pass)\n",
    "        x = np.zeros(n)\n",
    "        x[n-1] = beta[n-1]\n",
    "\n",
    "        for i in range(n-2, -1, -1):\n",
    "            x[i] = alpha[i] * x[i+1] + beta[i]\n",
    "\n",
    "        return x\n",
    "\n",
    "    def ComputeCoefficients(self,xGrid,fGrid):\n",
    "        #returns coefficients for cubic spline based on interpolation Grid\n",
    "        #input\n",
    "        #    xGrid float64 [N]\n",
    "        #    fGrid float64 [N]\n",
    "        #output\n",
    "        #    coeffs\n",
    "        \n",
    "        #Your code here\n",
    "        \n",
    "        taus = xGrid[1:] - xGrid[:-1]\n",
    "        n = len(taus)    # n + 1 points, n intervals\n",
    "        \n",
    "        # calculate tridiagonal system of equations using tdma\n",
    "        a = np.concatenate((np.zeros(1), taus[1:n-1] / 6))\n",
    "        b = (taus[:n-1] + taus[1:]) / 3\n",
    "        c = np.concatenate((taus[1:n-1] / 6, np.zeros(1)))\n",
    "        f = (fGrid[2:] - fGrid[1:n]) / taus[1:] - (fGrid[1:n] - fGrid[:n-1]) / taus[:n-1]\n",
    "        m_coefs = self.tdma(a, b, c, f)    # m_1, ..., m_{n-1}\n",
    "        m_coefs = np.concatenate((np.array([self.sppa]), m_coefs, np.array([self.sppb])))    # m_0,...,m_n\n",
    "        a_coefs = (fGrid[1:] - fGrid[:n]) / taus - (m_coefs[1:] - m_coefs[:n]) * taus / 6\n",
    "        b_coefs = fGrid[:n] - m_coefs[:n] * (taus ** 2) / 6 - a_coefs * xGrid[:n]\n",
    "        self.coefs = (m_coefs, a_coefs, b_coefs)\n",
    "        return self.coefs\n",
    "        \n",
    "    def Compute(self,xs):\n",
    "        #IN:\n",
    "        # xs [batch]\n",
    "        #OUT:\n",
    "        # interpFs [batch] -- values of interpolant in points xs\n",
    "        n = len(self.xs) - 1\n",
    "        m, a, b = self.coefs\n",
    "        taus = self.xs[1:] - self.xs[:-1]\n",
    "        intervals_idx = np.searchsorted(self.xs, xs, side='right') - 1\n",
    "        intervals_idx[intervals_idx == n] -= 1    # n + 1 to n\n",
    "        return 1 / (6 * taus[intervals_idx]) * (m[intervals_idx] * (self.xs[intervals_idx + 1] - xs)**3 + \\\n",
    "                                                m[intervals_idx + 1] * (xs - self.xs[intervals_idx])**3) + \\\n",
    "                                                a[intervals_idx] * xs + b[intervals_idx]    \n",
    "    #you can take the interpolants from the previous assignments\n",
    "    #boundary conditions: set as S''(a)=S''(b)=0    \n",
    "\n",
    "    \n",
    "def NewtonCotesIntegral(xs,fs,n=1):\n",
    "        #IN:\n",
    "        # xs [K*n - (K-1)]\n",
    "        # fs [K*n - (K-1)]  -- interpolation grid\n",
    "        # n -- degree of interpolant+1 (n=2 means we use linear functions)\n",
    "        #OUT:\n",
    "        # number \n",
    "        #YOUR CODE\n",
    "        \n",
    "        #(1) Compute interpolation coefficients\n",
    "        #(2) Compute approximately the integral using the formulas above\n",
    "\n",
    "        newt_interp = PiecewiseNewtonInterpolator(xs, fs, n)\n",
    "        a_list = newt_interp.coefs\n",
    "        xs_big_idx = range(0,len(xs),n-1)\n",
    "        res = 0\n",
    "        for i,a in enumerate(a_list):\n",
    "            vals = []\n",
    "            for p,a_ in enumerate(a):\n",
    "                cs = []\n",
    "                for d in range(p+1):\n",
    "                    c = 0\n",
    "                    for subset_idx in combinations(range(p), p-d):\n",
    "                        c += np.prod(xs[xs_big_idx[i]:xs_big_idx[i+1]][list(subset_idx)])\n",
    "                    cs.append(c * (-1) ** (p-d) * (xs[xs_big_idx][i+1]**(d+1)-xs[xs_big_idx][i]**(d+1)) / (d+1))\n",
    "                vals.append(np.sum(cs))\n",
    "            res += np.array(vals).T @ a\n",
    "        return res\n",
    "        \n",
    "def CubicSplineIntegral(xs,fs):\n",
    "        #IN:\n",
    "        # xs [n]\n",
    "        # fs [n]  -- interpolation grid\n",
    "        #OUT:\n",
    "        # number \n",
    "        #YOUR CODE\n",
    "        \n",
    "        #(1) Compute interpolation coefficients\n",
    "        #(2) Compute approximately the integral using the formulas above\n",
    "\n",
    "        spline_interp = CubicSplineInterpolator(xs, fs)\n",
    "        n = len(xs) - 1\n",
    "        m, a, b = spline_interp.coefs\n",
    "        taus = spline_interp.xs[1:] - spline_interp.xs[:-1]\n",
    "        itrv_idx = np.searchsorted(xs, xs, side='right') - 1\n",
    "        itrv_idx[itrv_idx == n] -= 1    # n + 1 to n\n",
    "        \n",
    "        return np.sum(taus[itrv_idx] * (m[itrv_idx] + m[itrv_idx + 1]) / 24 \\\n",
    "            + a[itrv_idx]*(xs[itrv_idx+1]**2 - xs[itrv_idx]**2) / 2 + b[itrv_idx] * taus[itrv_idx])\n",
    "    "
   ]
  },
  {
   "cell_type": "markdown",
   "metadata": {},
   "source": [
    "Протестируем."
   ]
  },
  {
   "cell_type": "code",
   "execution_count": 244,
   "metadata": {},
   "outputs": [],
   "source": [
    "def testF(x):\n",
    "    return np.exp(-x)\n",
    "\n",
    "#integrate this function with your methods and compare to true answer\n",
    "#!!example\n",
    "#eps=0.001\n",
    "#assert np.abs(someTrueVal-CubicSplineIntegral(some parameters))<eps\n"
   ]
  },
  {
   "cell_type": "code",
   "execution_count": 317,
   "metadata": {},
   "outputs": [],
   "source": [
    "import scipy.integrate as integrate\n",
    "true_val = integrate.quad(testF, 1, 15)[0]"
   ]
  },
  {
   "cell_type": "code",
   "execution_count": 330,
   "metadata": {},
   "outputs": [],
   "source": [
    "knots_num = 10\n",
    "x0=1\n",
    "x1=15\n",
    "h = (x1 - x0) / (knots_num - 1)\n",
    "xs = np.arange(x0, x1 + h / 2, h)\n",
    "fs = testF(xs)"
   ]
  },
  {
   "cell_type": "code",
   "execution_count": 331,
   "metadata": {},
   "outputs": [
    {
     "name": "stdout",
     "output_type": "stream",
     "text": [
      "Cubic spline error:0.0003\n"
     ]
    }
   ],
   "source": [
    "print('Cubic spline error:%.4f' % np.abs(CubicSplineIntegral(xs,fs) - true_val))"
   ]
  },
  {
   "cell_type": "code",
   "execution_count": 332,
   "metadata": {},
   "outputs": [
    {
     "name": "stdout",
     "output_type": "stream",
     "text": [
      "Newton-Cotes error:0.0092\n"
     ]
    }
   ],
   "source": [
    "print('Newton-Cotes error:%.4f' % np.abs(NewtonCotesIntegral(xs,fs,3) - true_val))"
   ]
  },
  {
   "cell_type": "markdown",
   "metadata": {},
   "source": [
    "#### Исследование сходимости (15 баллов)\n",
    "\n",
    "Для функции, приведённой ниже, нарисуйте ошибку интегрирования $\\left\\vert \\int_a^b f(x)dx - Integrator(xs,fs) \\right\\vert$ для реализованных интеграторов при разных сетках на элементарных отрезках (равномерная, чебышёвская) и разном числе узлов $N$. В качестве разных методов на формулах Ньютона-Котеса используйте $K=1,2,3,5,7$.  Какой метод является точнее? Попробуйте оценить порядок точности схемы экспериментально с помощью рассмотрения графика в $log-log$ осях. Как с его помощью можно оценить порядок точности?\n",
    "\n",
    "Примечание: для вычисления точного значения интеграла можете использовать какой-нибудь очень точный метод; например, что-то из scipy.integrate или wolfram."
   ]
  },
  {
   "cell_type": "code",
   "execution_count": 333,
   "metadata": {},
   "outputs": [],
   "source": [
    "def testF(x):\n",
    "    return np.exp(-0.1*x) + 1/x * np.sin(1*np.pi * x)+ np.exp(0.07*x)\n",
    "\n",
    "# YOUR DRAWINGS HERE AND CONCLUSIONS BELOW"
   ]
  },
  {
   "cell_type": "code",
   "execution_count": 345,
   "metadata": {},
   "outputs": [],
   "source": [
    "def get_even_grid(x0, x1, n, F, K):\n",
    "    '''\n",
    "    K: number of elementary intervals\n",
    "    n: number of nodes for each interval\n",
    "    x0, x1: border grid values\n",
    "    F: function\n",
    "    '''\n",
    "    total_n = n * K - (K - 1)\n",
    "    h = (x1 - x0) / (total_n - 1)\n",
    "    xs = np.arange(x0, x1 + h / 2, h)\n",
    "    return xs, F(xs)\n",
    "\n",
    "def get_cheb_grid (x0, x1, n, F, K):\n",
    "    '''\n",
    "    K: number of elementary intervals\n",
    "    n: number of nodes for each interval\n",
    "    x0, x1: border grid values\n",
    "    F: function\n",
    "    '''\n",
    "    xs = []\n",
    "    xs_grid = np.linspace(x0,x1,K+1)\n",
    "    for k in range(K):\n",
    "        x0_k, x1_k = xs_grid[k], xs_grid[k+1]\n",
    "        xs_k = sorted([(x0_k+x1_k) / 2 + (x1_k - x0_k) * np.cos((2 * t - 1) / (2 * n) * np.pi) / 2 \n",
    "                              for t in range(1, n+1)])\n",
    "        if not xs:\n",
    "            xs += xs_k\n",
    "        else:\n",
    "            xs[-1] = (xs[-1]+xs_k[0])/2\n",
    "            xs+=(xs_k[1:])\n",
    "    xs = np.array(xs)\n",
    "    return xs, F(xs)"
   ]
  },
  {
   "cell_type": "code",
   "execution_count": 380,
   "metadata": {},
   "outputs": [
    {
     "data": {
      "application/vnd.jupyter.widget-view+json": {
       "model_id": "9a67dcba19ec4663b8425c69218ab5e8",
       "version_major": 2,
       "version_minor": 0
      },
      "text/plain": [
       "HBox(children=(FloatProgress(value=0.0, max=50.0), HTML(value='')))"
      ]
     },
     "metadata": {},
     "output_type": "display_data"
    },
    {
     "name": "stdout",
     "output_type": "stream",
     "text": [
      "\n"
     ]
    }
   ],
   "source": [
    "total_grid = np.logspace(1,3,50)\n",
    "n_grid = [2,3,5,7]\n",
    "errors_cheb = []\n",
    "errors_even = []\n",
    "\n",
    "for N in tqdm(total_grid):    # total number of points\n",
    "    errors_cheb.append([])\n",
    "    errors_even.append([])\n",
    "    for n in n_grid:    # number of points per interval\n",
    "        K = int((N-1)//(n-1))\n",
    "#         N_ = n * K - (K - 1)\n",
    "        cheb_xs, cheb_fs = get_cheb_grid(1,50, n, testF, K)\n",
    "        even_xs, even_fs = get_even_grid(1,50, n, testF, K)\n",
    "        \n",
    "        errors_cheb[-1].append(abs(NewtonCotesIntegral(cheb_xs,cheb_fs,n) - integrate.quad(testF, cheb_xs[0], cheb_xs[-1])[0]))\n",
    "        errors_even[-1].append(abs(NewtonCotesIntegral(even_xs,even_fs,n) - integrate.quad(testF, even_xs[0], even_xs[-1])[0]))"
   ]
  },
  {
   "cell_type": "code",
   "execution_count": 383,
   "metadata": {},
   "outputs": [
    {
     "data": {
      "image/png": "[encoded data removed]",
      "text/plain": [
       "<Figure size 1440x432 with 2 Axes>"
      ]
     },
     "metadata": {},
     "output_type": "display_data"
    }
   ],
   "source": [
    "fig, axs = plt.subplots(1,2, figsize=(20,6),sharey=True)\n",
    "axs[0].plot(total_grid,[el[0] for el in errors_cheb],label='K=2')\n",
    "axs[0].plot(total_grid,[el[1] for el in errors_cheb],label='K=3')\n",
    "axs[0].plot(total_grid,[el[2] for el in errors_cheb],label='K=5')\n",
    "axs[0].plot(total_grid,[el[3] for el in errors_cheb],label='K=7')\n",
    "axs[0].set_title('Integration error on Chebyshev grid')\n",
    "axs[0].set(xlabel='number of nodes', ylabel='error')\n",
    "axs[0].set_yscale('log')\n",
    "axs[0].set_xscale('log')\n",
    "axs[0].legend()\n",
    "\n",
    "axs[1].plot(total_grid,[el[0] for el in errors_even],label='K=2')\n",
    "axs[1].plot(total_grid,[el[1] for el in errors_even],label='K=3')\n",
    "axs[1].plot(total_grid,[el[2] for el in errors_even],label='K=5')\n",
    "axs[1].plot(total_grid,[el[3] for el in errors_even],label='K=7')\n",
    "axs[1].set_title('Integration error on even grid')\n",
    "axs[1].set(xlabel='number of nodes', ylabel='error')\n",
    "axs[1].set_yscale('log')\n",
    "axs[1].set_xscale('log')\n",
    "\n",
    "plt.legend()\n",
    "plt.show()"
   ]
  },
  {
   "cell_type": "markdown",
   "metadata": {},
   "source": [
    "*По графикам можно увидеть, что наиболее удачным является интегрирование полиномов 4-ой степени ($K=5$), а наихудшим - интегрирование линейной функцией ($K=2$). С увеличением количества точек около $N = 100$ ошибка значительно снижается, при этом можно заметить, что после этого порога ошибка на равномерной сетке становится ниже, чем на Чебышёвской - доходит до 1е-7 (с другой стороны, до $N=100$ на Чебышёвской сетке результаты были лучше).*"
   ]
  },
  {
   "cell_type": "markdown",
   "metadata": {},
   "source": [
    "## Простейшие матричные разложения (70 баллов)\n",
    "\n",
    "На лекции разбирался метод $LU$-разложения, который является матричной записью метода Гаусса. В этом задании мы исследуем его работу и устойчивость, а также разберём ещё одно важное матричное разложение -- разложение Холецкого. Для простоты будем работать с вещественными квадратными матрицами.\n",
    "\n",
    "### LU (15 баллов)\n",
    "\n",
    "Это разложение определено для любой невырожденной $n \\times n$ матрицы $A$ и записывается как $A=LU$, где $L$ -- нижнетреугольная $n \\times n$ матрица, $U$ -- верхнетреугольная. Почему такое разложение неединственно и как добиться единственности?\n",
    "\n",
    "Прямое вычисление $LU$ разложения неустойчиво, поэтому обычно дополнительно используют выбор главного элемента по строке и столбцу.\n",
    "\n",
    "Выведите формулы для вычисления $LU$-разложения и опишите как использовать выбор главного элемента.\n",
    "\n",
    "#### ВАШЕ РЕШЕНИЕ ЗДЕСЬ\n",
    "*$A$ - матрица, которую необходимо разложить. Обозначим на нулевом шаге $A^{(0)} := A$*\n",
    "*На $k$-м шаге элиминируем из матрицы $A^{(k-1)}$ значения $k$-го столбца ниже главной диагонали. Для этого необходимо из каждой строки вычесть $k$-ую строку, домноженную на:*\n",
    "\n",
    "$$\\ell_{i,k} = \\frac{a^{(k-1)}_{i,k}}{a^{(k-1)}_{k,k}}$$\n",
    "\n",
    "*Это эквивалентно домножению на матрицу $A^{(k-1)}$ слева матрицу $L_{k}$:*\n",
    "$L_n$ - единичная матрица с вектором $\\begin{pmatrix}\n",
    "    0,...,0,1,\\ell_{k+1,k},...,\\ell_{n,k}\n",
    "    \\end{pmatrix}$ в $n$-ом столбце.\n",
    "$A^{(k)} = L_k A^{(k-1)}$\n",
    "\n",
    "*Тогда:*\n",
    "$$A = \\underbrace{L^{-1}_1...L^{-1}_n}_{L}\\underbrace{A^{(n-1)}}_{U}$$\n",
    "\n",
    "*При выборе главного элемента по строкам и столбцам на каждом шаге из нижней правой подматрицы $(A^{(k-1)})_{i=k,j=i}^n$ выбирается максимальный по модулю элемент, потом в матрице переставляют строки и столбцы таким образом, чтобы этот элемент стал на позицию $(k,k)$. Дополнительно необходимо сохранять перестановки по столбцам и строкам.*\n",
    "\n",
    "Теперь имплементируйте."
   ]
  },
  {
   "cell_type": "code",
   "execution_count": 455,
   "metadata": {},
   "outputs": [],
   "source": [
    "def LUDecomposition(A):\n",
    "    #IN:\n",
    "    # A [n,n] -- matrix to decompose\n",
    "    #OUT:\n",
    "    # LU [n,n] -- matrix decomposition represented as one matrix (think on how to do it!)\n",
    "    A = A.astype(float)\n",
    "    n = A.shape[0]\n",
    "    L = np.identity(n)\n",
    "    row_piv = np.arange(0,n)\n",
    "    col_piv = np.arange(0,n)\n",
    "    for k in range(n-1):\n",
    "        max_idx = np.argmax(abs(A[k:n,k:n]))\n",
    "        max_row_index, max_col_index =  max_idx // n + k, max_idx % n + k\n",
    "        row_piv[[k,max_row_index]] = row_piv[[max_row_index,k]]\n",
    "        A[[k,max_row_index]] = A[[max_row_index,k]]\n",
    "        L[[k,max_row_index]] = L[[max_row_index,k]]\n",
    "        col_piv[[k,max_col_index]] = col_piv[[max_col_index,k]]\n",
    "        A[[k,max_col_index]] = A[[max_col_index,k]]\n",
    "        L[[k,max_col_index]] = L[[max_col_index,k]]\n",
    "#        print(A,L)\n",
    "#         for i in range(k+1,n):\n",
    "#             L[i] -= L[k]*A[i,k]/A[k,k]\n",
    "#             A[i] -= A[k]*A[i,k]/A[k,k]\n",
    "    for k in range(n-1):                \n",
    "        for i in range(k+1,n):          \n",
    "            A[i,k] = A[i,k]/A[k,k]      # \" L[i,k] = A[i,k]/A[k,k] \"\n",
    "            for j in range(k+1,n):      \n",
    "                A[i,j] -= A[i,k]*A[k,j] # \" U[i,j] -= L[i,k]*A[k,j] \"\n",
    "\n",
    "    return [A,row_piv,col_piv]"
   ]
  },
  {
   "cell_type": "code",
   "execution_count": 522,
   "metadata": {},
   "outputs": [
    {
     "data": {
      "text/plain": [
       "[array([[6.        , 3.        ],\n",
       "        [0.66666667, 1.        ]]),\n",
       " array([1, 0]),\n",
       " array([0, 1])]"
      ]
     },
     "execution_count": 522,
     "metadata": {},
     "output_type": "execute_result"
    }
   ],
   "source": [
    "A = np.array([[4.,3.],[6.,3.]])\n",
    "LUDecomposition(A)"
   ]
  },
  {
   "cell_type": "code",
   "execution_count": 523,
   "metadata": {},
   "outputs": [
    {
     "data": {
      "text/plain": [
       "array([[ 4. ,  3. ],\n",
       "       [ 1.5, -1.5]])"
      ]
     },
     "execution_count": 523,
     "metadata": {},
     "output_type": "execute_result"
    }
   ],
   "source": [
    "def LU_no_pivot(A):\n",
    "    n = A.shape[0]\n",
    "    for k in range(n-1):                \n",
    "        for i in range(k+1,n):          \n",
    "            A[i,k] = A[i,k]/A[k,k]      \n",
    "            for j in range(k+1,n):      \n",
    "                A[i,j] -= A[i,k]*A[k,j] \n",
    "\n",
    "    return A\n",
    "LU_no_pivot(A)"
   ]
  },
  {
   "cell_type": "markdown",
   "metadata": {},
   "source": [
    "### Разложение Холецкого (15 баллов)\n",
    "\n",
    "Разложение Холецкого определено для любой положительно определённой симметричной матрицы $A$ и определяется как $A=LL^*$, где $L$ -- нижнетреугольная $n \\times n$ матрица.\n",
    "\n",
    "Выведите формулы для вычисления разложения Холецкого.\n",
    "\n",
    "$$A = L L^T = (L)_{i,j} (L^T)_{i,j} = \n",
    "\\begin{pmatrix}\n",
    "\\ell_{1,1}^2 &\\ell_{1,1}\\ell_{2,1}&...&\\ell_{1,1}\\ell_{n,1}\\\\\n",
    "\\ell_{1,1}\\ell_{2,1}&\\ell_{2,1}^2+\\ell_{2,2}^2&...\\\\\n",
    "...\\\\\n",
    "&...&\\sum\\limits_{i=1}^{n}\\ell_{n,i}\\ell_{n-1,i}&\\sum\\limits_{i=1}^{n}\\ell_{n,i}^2\n",
    "\\end{pmatrix}\n",
    "$$\n",
    "\n",
    "*Отсюда получаем формулы для элементов $L$:*\n",
    "$$L_{i,i} = \\sqrt{A_{i,i}-\\sum\\limits_{j=1}^{i-1}\\ell_{i,j}^2}$$\n",
    "$$i\\neq j: \\, L_{i,j} = \\frac{1}{L_{j,j}}\\biggr(A_{i,j}-\\sum\\limits_{k=1}^{j-1}\\ell_{i,k}\\ell_{j,k}\\biggr)$$\n",
    "\n",
    "#### ВАШЕ РЕШЕНИЕ ЗДЕСЬ\n",
    "\n",
    "Имплементируйте метод."
   ]
  },
  {
   "cell_type": "code",
   "execution_count": 517,
   "metadata": {},
   "outputs": [],
   "source": [
    "def CholetskyDecomposition(A):\n",
    "    #IN:\n",
    "    # A [n,n] -- matrix to decompose\n",
    "    #OUT:\n",
    "    # L [n(n+1)/2] -- matrix decomposition represented as 1-dimensional array (think on how to do it!)\n",
    "    n = A.shape[0]\n",
    "    L = []\n",
    "    for i in range(n):\n",
    "        for k in range(i+1):\n",
    "            tmp_sum = sum(L[int(np.sum(range(2,i+2))) - i + j] * L[int(np.sum(range(2,k+2))) - k + j] for j in range(k))\n",
    "            if (i == k):\n",
    "                L.append(np.sqrt(A[i][i] - tmp_sum))\n",
    "            else:\n",
    "                L.append(1.0 / L[int(np.sum(range(2,k+2)))] * (A[i][k] - tmp_sum))\n",
    "    return np.array(L)"
   ]
  },
  {
   "cell_type": "code",
   "execution_count": 21,
   "metadata": {
    "collapsed": true
   },
   "outputs": [],
   "source": [
    "#Let us check if all works\n",
    "#print np.linalg.norm(A - L@U) for LU\n",
    "#print np.linalg.norm(A - LL*) for Choletsky"
   ]
  },
  {
   "cell_type": "code",
   "execution_count": 525,
   "metadata": {},
   "outputs": [],
   "source": [
    "A = np.array([[4,12,-16],[12,37,-43],[-16,-43,98]])"
   ]
  },
  {
   "cell_type": "code",
   "execution_count": 519,
   "metadata": {},
   "outputs": [
    {
     "data": {
      "text/plain": [
       "array([[ 2.,  0.,  0.],\n",
       "       [ 6.,  1.,  0.],\n",
       "       [-8.,  5.,  3.]])"
      ]
     },
     "execution_count": 519,
     "metadata": {},
     "output_type": "execute_result"
    }
   ],
   "source": [
    "L_vec = CholetskyDecomposition(A)\n",
    "L_chol = np.zeros(A.shape)\n",
    "idx = 0\n",
    "for i in range(A.shape[0]):\n",
    "    for j in range(i+1):\n",
    "        L_chol[i,j] = L_vec[idx]\n",
    "        idx+=1\n",
    "L_chol"
   ]
  },
  {
   "cell_type": "code",
   "execution_count": 520,
   "metadata": {
    "scrolled": true
   },
   "outputs": [
    {
     "data": {
      "text/plain": [
       "0.0"
      ]
     },
     "execution_count": 520,
     "metadata": {},
     "output_type": "execute_result"
    }
   ],
   "source": [
    "np.linalg.norm(A - L_chol @ L_chol.T)"
   ]
  },
  {
   "cell_type": "code",
   "execution_count": 530,
   "metadata": {},
   "outputs": [],
   "source": [
    "lu = LU_no_pivot(A)\n",
    "L = np.identity(A.shape[0])\n",
    "for i in range(1,A.shape[0]):\n",
    "    for j in range(i):\n",
    "        L[i,j] = lu[i,j]\n",
    "        lu[i,j] = 0"
   ]
  },
  {
   "cell_type": "code",
   "execution_count": 531,
   "metadata": {},
   "outputs": [
    {
     "data": {
      "text/plain": [
       "0.0"
      ]
     },
     "execution_count": 531,
     "metadata": {},
     "output_type": "execute_result"
    }
   ],
   "source": [
    "np.linalg.norm(A - L @ lu)"
   ]
  },
  {
   "cell_type": "markdown",
   "metadata": {},
   "source": [
    "Разложения используют для решения очень многих задач линейной алгебры: для вычисления определителя, решения СЛАУ, нахождения обратной матрицы...\n",
    "\n",
    "Здесь мы будем заниматься решением СЛАУ. Опишите формулы, по которым можно вычислить решение СЛАУ, имея разложение Холецкого или $LU$.\n",
    "\n",
    "ВАШ ТЕКСТ\n",
    "*Пусть есть LU-разложение матрицы $PA$, $P$ - перестановочная матрица. Тогда СЛАУ переписывается следующим образом:*\n",
    "\n",
    "$$Ax = b \\iff PAx = Pb \\iff LUx = Pb$$\n",
    "\n",
    "*Тогда СЛАУ можно решить в два шага:*\n",
    "\n",
    " - $Ly = Pb$\n",
    " - $Ux = y$\n",
    " \n",
    " *Поскольку $L, U$ - нижне- и верхнетреугольные матрицы, можно решить эти системы без метода Гаусса. Распишем для $Ly=Pb$:*\n",
    " $$\n",
    " \\begin{cases}\n",
    " y_1 = b_1\\\\\n",
    " y_1 \\ell_{2,1} + y_2 = b_2\\\\\n",
    " ...\\\\\n",
    " y_1 \\ell_{n,1}+y_2\\ell_{n,2}+...+y_{n-1}\\ell_{n,n-1}+y_n = b_n \n",
    " \\end{cases}\n",
    " \\iff\n",
    "  \\begin{cases}\n",
    " y_1 = b_1\\\\\n",
    " y_2 = b_2-y_1 \\ell_{2,1}\\\\\n",
    " ...\\\\\n",
    " y_n = b_n-y_1 \\ell_{n,1}+y_2\\ell_{n,2}+...+y_{n-1}\\ell_{n,n-1} \n",
    " \\end{cases}\n",
    " $$\n",
    " \n",
    " *Аналогично будет решаться вторая система (начиная с $x_n = \\frac{y_n}{u_{n,n}}$)*\n",
    "\n",
    "### Случайные матрицы из гауссовского распределения (10 баллов)\n",
    "\n",
    "Случайные матрицы, как, например, \n",
    "$$\n",
    "A=(a_{ij}), \\quad a_{ij} \\sim^{iid} \\mathcal{N}(0,10),\n",
    "$$\n",
    "известны своими хорошими свойствами обусловленности, поэтому прямые методы, такие, как $LU$, должны работать очень точно.\n",
    "\n",
    "Нарисуйте два графика:\n",
    "1. График среднего (усредните по $K=1000$ симуляциям) числа обусловленности матрицы $AA^*$ в зависимости от размера $n$;\n",
    "2. График средней (усредните по $K=1000$ симуляциям) относительной ошибки решения c помощью $LU$ и разложения Холецкого системы уравнений с матрицей $AA^*$ и правой частью $f=1$;"
   ]
  },
  {
   "cell_type": "code",
   "execution_count": 532,
   "metadata": {},
   "outputs": [],
   "source": [
    "from numpy.linalg import cond    # computes condition number mu = ||A|| ||A^(-1)||\n",
    "n_grid = range(5,100,10)\n",
    "cond_numbers = []\n",
    "for n in n_grid:\n",
    "    cond_num = []\n",
    "    for k in range(1000):\n",
    "        A = np.random.normal(0,10,(n,n))\n",
    "        cond_num.append(cond(A @ A.T))\n",
    "    cond_numbers.append(np.mean(cond_num))"
   ]
  },
  {
   "cell_type": "code",
   "execution_count": 533,
   "metadata": {},
   "outputs": [
    {
     "data": {
      "image/png": "[encoded data removed]",
      "text/plain": [
       "<Figure size 432x288 with 1 Axes>"
      ]
     },
     "metadata": {},
     "output_type": "display_data"
    }
   ],
   "source": [
    "import seaborn as sns\n",
    "sns.set_style('whitegrid')\n",
    "plt.title('Gaussian matrices condition number')\n",
    "plt.xlabel('n')\n",
    "plt.ylabel('condition number')\n",
    "plt.plot(n_grid, cond_numbers)\n",
    "plt.show()"
   ]
  },
  {
   "cell_type": "code",
   "execution_count": 535,
   "metadata": {},
   "outputs": [],
   "source": [
    "def lineq (L, U, b):\n",
    "    for i in range(L.shape[0]):    # Ly = b \n",
    "        for j in range(i):\n",
    "            b[i] -= L[i,j]*b[j]\n",
    "    \n",
    "    for i in range(U.shape[0]-1,-1,-1):     # Ux = y\n",
    "        for j in range(i+1, U.shape[1]):\n",
    "            b[i] -= U[i,j]*b[j]\n",
    "        b[i] = b[i]/U[i,i]\n",
    "    return b"
   ]
  },
  {
   "cell_type": "code",
   "execution_count": 540,
   "metadata": {},
   "outputs": [
    {
     "data": {
      "text/plain": [
       "array([ 1.26145424,  5.37499707, -0.01736889,  4.7466355 ,  1.95964262,\n",
       "        5.24853832,  3.65574711,  0.84282625,  6.39041606, -0.63184527])"
      ]
     },
     "execution_count": 540,
     "metadata": {},
     "output_type": "execute_result"
    }
   ],
   "source": [
    "A = np.random.normal(size=(10,10))\n",
    "L_vec = CholetskyDecomposition(A @ A.T)\n",
    "L_chol = np.zeros(A.shape)\n",
    "idx = 0\n",
    "for i in range(A.shape[0]):\n",
    "    for j in range(i+1):\n",
    "        L_chol[i,j] = L_vec[idx]\n",
    "        idx+=1\n",
    "lineq(L_chol, L_chol.T, np.ones(10))"
   ]
  },
  {
   "cell_type": "code",
   "execution_count": 542,
   "metadata": {},
   "outputs": [
    {
     "data": {
      "application/vnd.jupyter.widget-view+json": {
       "model_id": "080c880456884746804bb59d79c2fc7b",
       "version_major": 2,
       "version_minor": 0
      },
      "text/plain": [
       "HBox(children=(FloatProgress(value=0.0, max=10.0), HTML(value='')))"
      ]
     },
     "metadata": {},
     "output_type": "display_data"
    },
    {
     "name": "stdout",
     "output_type": "stream",
     "text": [
      "\n"
     ]
    },
    {
     "ename": "KeyboardInterrupt",
     "evalue": "",
     "output_type": "error",
     "traceback": [
      "\u001b[1;31m---------------------------------------------------------------------------\u001b[0m",
      "\u001b[1;31mKeyboardInterrupt\u001b[0m                         Traceback (most recent call last)",
      "\u001b[1;32m<ipython-input-542-0afd496f779c>\u001b[0m in \u001b[0;36m<module>\u001b[1;34m\u001b[0m\n\u001b[0;32m     14\u001b[0m                 \u001b[0midx\u001b[0m\u001b[1;33m+=\u001b[0m\u001b[1;36m1\u001b[0m\u001b[1;33m\u001b[0m\u001b[1;33m\u001b[0m\u001b[0m\n\u001b[0;32m     15\u001b[0m         \u001b[0mchol_error\u001b[0m\u001b[1;33m.\u001b[0m\u001b[0mappend\u001b[0m\u001b[1;33m(\u001b[0m\u001b[0mnp\u001b[0m\u001b[1;33m.\u001b[0m\u001b[0msum\u001b[0m\u001b[1;33m(\u001b[0m\u001b[1;33m(\u001b[0m\u001b[0mlineq\u001b[0m\u001b[1;33m(\u001b[0m\u001b[0mL_chol\u001b[0m\u001b[1;33m,\u001b[0m \u001b[0mL_chol\u001b[0m\u001b[1;33m.\u001b[0m\u001b[0mT\u001b[0m\u001b[1;33m,\u001b[0m \u001b[0mnp\u001b[0m\u001b[1;33m.\u001b[0m\u001b[0mones\u001b[0m\u001b[1;33m(\u001b[0m\u001b[0mn\u001b[0m\u001b[1;33m)\u001b[0m\u001b[1;33m)\u001b[0m\u001b[1;33m-\u001b[0m\u001b[0mnp\u001b[0m\u001b[1;33m.\u001b[0m\u001b[0mlinalg\u001b[0m\u001b[1;33m.\u001b[0m\u001b[0msolve\u001b[0m\u001b[1;33m(\u001b[0m\u001b[0mA\u001b[0m \u001b[1;33m@\u001b[0m \u001b[0mA\u001b[0m\u001b[1;33m.\u001b[0m\u001b[0mT\u001b[0m\u001b[1;33m,\u001b[0m \u001b[0mnp\u001b[0m\u001b[1;33m.\u001b[0m\u001b[0mones\u001b[0m\u001b[1;33m(\u001b[0m\u001b[0mn\u001b[0m\u001b[1;33m)\u001b[0m\u001b[1;33m)\u001b[0m\u001b[1;33m)\u001b[0m\u001b[1;33m**\u001b[0m\u001b[1;36m2\u001b[0m\u001b[1;33m)\u001b[0m\u001b[1;33m)\u001b[0m\u001b[1;33m\u001b[0m\u001b[1;33m\u001b[0m\u001b[0m\n\u001b[1;32m---> 16\u001b[1;33m         \u001b[0mlu\u001b[0m \u001b[1;33m=\u001b[0m \u001b[0mLU_no_pivot\u001b[0m\u001b[1;33m(\u001b[0m\u001b[0mA\u001b[0m \u001b[1;33m@\u001b[0m \u001b[0mA\u001b[0m\u001b[1;33m.\u001b[0m\u001b[0mT\u001b[0m\u001b[1;33m)\u001b[0m\u001b[1;33m\u001b[0m\u001b[1;33m\u001b[0m\u001b[0m\n\u001b[0m\u001b[0;32m     17\u001b[0m         \u001b[0mL\u001b[0m \u001b[1;33m=\u001b[0m \u001b[0mnp\u001b[0m\u001b[1;33m.\u001b[0m\u001b[0midentity\u001b[0m\u001b[1;33m(\u001b[0m\u001b[0mA\u001b[0m\u001b[1;33m.\u001b[0m\u001b[0mshape\u001b[0m\u001b[1;33m[\u001b[0m\u001b[1;36m0\u001b[0m\u001b[1;33m]\u001b[0m\u001b[1;33m)\u001b[0m\u001b[1;33m\u001b[0m\u001b[1;33m\u001b[0m\u001b[0m\n\u001b[0;32m     18\u001b[0m         \u001b[1;32mfor\u001b[0m \u001b[0mi\u001b[0m \u001b[1;32min\u001b[0m \u001b[0mrange\u001b[0m\u001b[1;33m(\u001b[0m\u001b[1;36m1\u001b[0m\u001b[1;33m,\u001b[0m\u001b[0mA\u001b[0m\u001b[1;33m.\u001b[0m\u001b[0mshape\u001b[0m\u001b[1;33m[\u001b[0m\u001b[1;36m0\u001b[0m\u001b[1;33m]\u001b[0m\u001b[1;33m)\u001b[0m\u001b[1;33m:\u001b[0m\u001b[1;33m\u001b[0m\u001b[1;33m\u001b[0m\u001b[0m\n",
      "\u001b[1;32m<ipython-input-523-80b8088f7a3e>\u001b[0m in \u001b[0;36mLU_no_pivot\u001b[1;34m(A)\u001b[0m\n\u001b[0;32m      5\u001b[0m             \u001b[0mA\u001b[0m\u001b[1;33m[\u001b[0m\u001b[0mi\u001b[0m\u001b[1;33m,\u001b[0m\u001b[0mk\u001b[0m\u001b[1;33m]\u001b[0m \u001b[1;33m=\u001b[0m \u001b[0mA\u001b[0m\u001b[1;33m[\u001b[0m\u001b[0mi\u001b[0m\u001b[1;33m,\u001b[0m\u001b[0mk\u001b[0m\u001b[1;33m]\u001b[0m\u001b[1;33m/\u001b[0m\u001b[0mA\u001b[0m\u001b[1;33m[\u001b[0m\u001b[0mk\u001b[0m\u001b[1;33m,\u001b[0m\u001b[0mk\u001b[0m\u001b[1;33m]\u001b[0m\u001b[1;33m\u001b[0m\u001b[1;33m\u001b[0m\u001b[0m\n\u001b[0;32m      6\u001b[0m             \u001b[1;32mfor\u001b[0m \u001b[0mj\u001b[0m \u001b[1;32min\u001b[0m \u001b[0mrange\u001b[0m\u001b[1;33m(\u001b[0m\u001b[0mk\u001b[0m\u001b[1;33m+\u001b[0m\u001b[1;36m1\u001b[0m\u001b[1;33m,\u001b[0m\u001b[0mn\u001b[0m\u001b[1;33m)\u001b[0m\u001b[1;33m:\u001b[0m\u001b[1;33m\u001b[0m\u001b[1;33m\u001b[0m\u001b[0m\n\u001b[1;32m----> 7\u001b[1;33m                 \u001b[0mA\u001b[0m\u001b[1;33m[\u001b[0m\u001b[0mi\u001b[0m\u001b[1;33m,\u001b[0m\u001b[0mj\u001b[0m\u001b[1;33m]\u001b[0m \u001b[1;33m-=\u001b[0m \u001b[0mA\u001b[0m\u001b[1;33m[\u001b[0m\u001b[0mi\u001b[0m\u001b[1;33m,\u001b[0m\u001b[0mk\u001b[0m\u001b[1;33m]\u001b[0m\u001b[1;33m*\u001b[0m\u001b[0mA\u001b[0m\u001b[1;33m[\u001b[0m\u001b[0mk\u001b[0m\u001b[1;33m,\u001b[0m\u001b[0mj\u001b[0m\u001b[1;33m]\u001b[0m\u001b[1;33m\u001b[0m\u001b[1;33m\u001b[0m\u001b[0m\n\u001b[0m\u001b[0;32m      8\u001b[0m \u001b[1;33m\u001b[0m\u001b[0m\n\u001b[0;32m      9\u001b[0m     \u001b[1;32mreturn\u001b[0m \u001b[0mA\u001b[0m\u001b[1;33m\u001b[0m\u001b[1;33m\u001b[0m\u001b[0m\n",
      "\u001b[1;31mKeyboardInterrupt\u001b[0m: "
     ]
    }
   ],
   "source": [
    "chol_errors = []\n",
    "lu_errors = []\n",
    "for n in tqdm(n_grid):\n",
    "    chol_error = []\n",
    "    lu_error = []\n",
    "    for k in range(1000):\n",
    "        A = np.random.normal(0,10,(n,n))\n",
    "        L_vec = CholetskyDecomposition(A @ A.T)\n",
    "        L_chol = np.zeros(A.shape)\n",
    "        idx = 0\n",
    "        for i in range(A.shape[0]):\n",
    "            for j in range(i+1):\n",
    "                L_chol[i,j] = L_vec[idx]\n",
    "                idx+=1\n",
    "        chol_error.append(np.sum((lineq(L_chol, L_chol.T, np.ones(n))-np.linalg.solve(A @ A.T, np.ones(n)))**2))\n",
    "        lu = LU_no_pivot(A @ A.T)\n",
    "        L = np.identity(A.shape[0])\n",
    "        for i in range(1,A.shape[0]):\n",
    "            for j in range(i):\n",
    "                L[i,j] = lu[i,j]\n",
    "                lu[i,j] = 0\n",
    "        lu_error.append(np.sum((lineq(L, lu, np.ones(n))-np.linalg.solve(A @ A.T, np.ones(n)))**2))\n",
    "        \n",
    "    chol_errors.append(np.mean(chol_error))\n",
    "    lu_errors.append(np.mean(lu_error))"
   ]
  },
  {
   "cell_type": "markdown",
   "metadata": {},
   "source": [
    "### Матрица Гильберта (15 баллов)\n",
    "\n",
    "Матрица Гильберта -- это матрица $H=(h_{ij})$ с элементами  $h_{ij}=1/(i+j-1)$.\n",
    "\n",
    "Докажите, что эта матрица положительно определена (5 баллов).\n",
    "#### ВАШЕ РЕШЕНИЕ ЗДЕСЬ\n",
    "\n",
    "*Докажем, что $\\forall z \\neq 0: z^T H z > 0$:*\n",
    "\n",
    "$$z^T H z = \\biggr(\\sum\\limits_{i=1}^{n}z_i \\frac{1}{i+j-1}\\biggr)_{j=1}^{n} \\times z = \\sum\\limits_{i,j=1}^{n}z_i z_j \\frac{1}{i+j-1}$$\n",
    "\n",
    "*Заметим, что $\\frac{1}{i+j-1} = \\int\\limits_0^1 t^{i+j-2}\\,dt$. Тогда:*\n",
    "$$z^T H z = \\sum\\limits_{i,j=1}^{n}z_i z_j \\int\\limits_{0}^{1}t^{i+j-2}\\,dt = \\int\\limits_{0}^{1}\\biggr(\\sum\\limits_{i,j=1}^{n}z_i z_j t^{i-1}t^{j-1}\\biggr)\\,dt = \\int\\limits_{0}^{1}\\biggr(\\sum\\limits_{i,j=1}^{n}z_i t^{i-1}z_jt^{j-1}\\biggr)\\,dt = \\int\\limits_{0}^{1}\\biggr(\\sum\\limits_{i=1}^{n}z_i t^{i-1}\\sum\\limits_{j=1}^{n}z_j t^{j-1}\\biggr)\\,dt=$$\n",
    "$$=\\int\\limits_{0}^{1}\\biggr(\\sum\\limits_{i=1}^{n}z_it^{i-1}\\biggr)^2\\,dt > 0$$\n",
    "\n",
    "Нарисуйте два графика(10 баллов):\n",
    "1. График числа обусловленности матрицы $H$ в зависимости от размера $n$;\n",
    "2. График относительной ошибки решения c помощью $LU$ и разложения Холецкого системы уравнений с матрицей $H$ правой частью $f=1$."
   ]
  },
  {
   "cell_type": "code",
   "execution_count": 126,
   "metadata": {},
   "outputs": [],
   "source": [
    "from scipy.linalg import hilbert\n",
    "n_grid = range(5,100,10)\n",
    "hilbert_conds = [cond(hilbert(n)) for n in n_grid]"
   ]
  },
  {
   "cell_type": "code",
   "execution_count": 136,
   "metadata": {},
   "outputs": [
    {
     "data": {
      "image/png": "[encoded data removed]",
      "text/plain": [
       "<Figure size 432x288 with 1 Axes>"
      ]
     },
     "metadata": {},
     "output_type": "display_data"
    }
   ],
   "source": [
    "plt.plot(n_grid, hilbert_conds)\n",
    "plt.title('Hilbert matrices condition number')\n",
    "plt.xlabel('n')\n",
    "plt.ylabel('condition number')\n",
    "plt.show()"
   ]
  },
  {
   "cell_type": "markdown",
   "metadata": {},
   "source": [
    "Сделайте выводы по проделанным экспериментам."
   ]
  },
  {
   "cell_type": "markdown",
   "metadata": {},
   "source": [
    "### Семплирование из гауссовского распределения с заданной ковариационной матрицей (15 баллов)\n",
    "\n",
    "Очень частая задача в статистике -- семплирование из многомерного гауссовского распределения с заданной ковариацией. В частности, в регрессии гауссовскими процессами.\n",
    "\n",
    "Вещественнозначным случайным процессом (проиндексированным некоторым абстрактным множеством $T$) назовём семейство случайных величин $(X_t)_{t \\in T}$. Такой процесс называется гауссовским, если для любого $N$ и любых $N$ точек $t_i \\in T, i=1,..,N$ совместное распределение величин $X_{t_i}$ является гауссовским. Любой гауссовский процесс определяется своими средним $\\mu(t)= E\\left[ X_t \\right]$ и ковариационной функцией $K(t,s):=Cov(X_t,X_s)$, определённых для $t,s \\in T$. Положим для простоты $T= R$, так процесс проиндексирован вещественной прямой.\n",
    "\n",
    "Гауссовские процессы -- очень мощный интрумент регрессии, но про него расскажут в других курсах.\n",
    "\n",
    "Давайте попробуем семплировать несколько траекторий такого процесса. Поскольку процесс -- гауссовский, семплирование сводится к семплированию из гауссовского распределения с заданным средним $\\mu$ и ковариацией $\\Sigma$.\n",
    "\n",
    "Опишите и обоснуйте метод семплирования, который использует разложение Холецкого матрицы $\\Sigma \\in R^{n \\times n}$ и принимает на вход семплы из стандартного гауссовского распределения $\\mathcal{N}(0,1)^n$ (np.random.randn).\n",
    "\n",
    "Имплементируйте класс GaussianProcess ниже.\n",
    "\n",
    "Нарисуйте два графика:\n",
    "1. Семплы на сетке ts траекторий белого шума $X_t \\sim \\mathcal{N}(0,1)$, можете использовать тот же класс с нулевым средним и ковариацией $K(t,t)=1, K(t,s)=0$ для всех $t \\neq s$;\n",
    "2. Семплы на сетке ts траекторий гауссовского процесса.\n",
    "\n",
    "Для (2) попробуйте два разных средних $\\mu(t)$ и (например) такие ковариационные функции:\n",
    "1. Exp-Sine-Squared (с параметрами $p,l$)\n",
    "$$\n",
    "K(t,s) = exp\\left\\lbrace -2\\left(\\frac{sin(\\pi/p \\cdot \\vert t-s \\vert)}{l}\\right)^2 \\right\\rbrace;\n",
    "$$\n",
    "2. Rational quadratic (с параметрами $\\alpha, l$ )\n",
    "$$\n",
    "K(t,s)=\\left(1+\\frac{( t - s )^2}{2 \\alpha l^2}\\right)^{-\\alpha}.\n",
    "$$\n",
    "Большой выбор ковариационных функций представлен в sklearn (https://scikit-learn.org/stable/modules/gaussian_process.html)."
   ]
  },
  {
   "cell_type": "code",
   "execution_count": 24,
   "metadata": {
    "collapsed": true
   },
   "outputs": [],
   "source": [
    "class GaussianProcess:\n",
    "    def __init__(self, meanFunction, covarianceFunction):\n",
    "        #meanFunction functionHandler: R -> R\n",
    "        #covarianceFunction functionHandler: R x R -> R\n",
    "        pass\n",
    "    def Sample(self, ts, N):\n",
    "        #ts [batch] -- time grid of points where the value of the process is required\n",
    "        #N -- number of sampled trajectories\n",
    "        pass"
   ]
  },
  {
   "cell_type": "code",
   "execution_count": 25,
   "metadata": {
    "collapsed": true
   },
   "outputs": [],
   "source": [
    "#YOUR DRAWINGS!"
   ]
  },
  {
   "cell_type": "code",
   "execution_count": null,
   "metadata": {
    "collapsed": true
   },
   "outputs": [],
   "source": []
  }
 ],
 "metadata": {
  "kernelspec": {
   "display_name": "Python 3",
   "language": "python",
   "name": "python3"
  }
 },
 "nbformat": 4,
 "nbformat_minor": 2
}
