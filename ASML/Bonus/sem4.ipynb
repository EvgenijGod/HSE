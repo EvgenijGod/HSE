{
 "cells": [
  {
   "cell_type": "markdown",
   "metadata": {},
   "source": [
    "*Данг Куинь Ньы, Коган Александра, декабрь 2020*"
   ]
  },
  {
   "cell_type": "markdown",
   "metadata": {
    "id": "p1NKuOmic3M_"
   },
   "source": [
    "Реализуем EM-алгоритм для примера смеси 2 нормальных распределений"
   ]
  },
  {
   "cell_type": "code",
   "execution_count": null,
   "metadata": {
    "id": "eqcZlhYbctpn"
   },
   "outputs": [],
   "source": [
    "#Импортим нужные библиотеки\n",
    "import numpy as np\n",
    "import matplotlib.pyplot as plt\n",
    "import seaborn as sns\n",
    "sns.set()\n",
    "np.random.seed(123)"
   ]
  },
  {
   "cell_type": "markdown",
   "metadata": {
    "id": "TyK9kWFsc1Td"
   },
   "source": [
    "Сгенерим 2 выборки из нормальных распределений. Первое из $\\mathcal{N}(0,1)$ второе - из $\\mathcal{N}(4,0.25)$ И построим их гистограмму"
   ]
  },
  {
   "cell_type": "code",
   "execution_count": null,
   "metadata": {
    "colab": {
     "base_uri": "https://localhost:8080/",
     "height": 301
    },
    "id": "9HLHmCe-cz54",
    "outputId": "8b974e0f-e3ce-44cd-933e-2c9a9136074f"
   },
   "outputs": [
    {
     "data": {
      "image/png": "[encoded data removed]",
      "text/plain": [
       "<Figure size 432x288 with 1 Axes>"
      ]
     },
     "metadata": {
      "tags": []
     },
     "output_type": "display_data"
    }
   ],
   "source": [
    "y1 = np.random.normal(0, 1, 100)\n",
    "y2 = np.random.normal(4, 0.5, 100)\n",
    "plt.hist(y1, alpha = 0.7)\n",
    "plt.hist(y2, alpha = 0.7)\n",
    "plt.title('Mixture distribution')\n",
    "plt.xlabel('x')\n",
    "plt.ylabel('pdf(x)')\n",
    "plt.show()"
   ]
  },
  {
   "cell_type": "markdown",
   "metadata": {
    "id": "KkulOp7hg7d3"
   },
   "source": [
    "Но сначала сделаем EM-алгоритм на игрушечных данных."
   ]
  },
  {
   "cell_type": "code",
   "execution_count": null,
   "metadata": {
    "id": "J-tG2FfJg6TT"
   },
   "outputs": [],
   "source": [
    "x = np.array([5, 6, 2, 1, 1, 3, 7, 10])"
   ]
  },
  {
   "cell_type": "markdown",
   "metadata": {
    "id": "dfjYsNdXeprh"
   },
   "source": [
    "Для начала EM-алгоритма нужен начальный вектор параметров $\\theta_{old}$\n",
    "\n",
    "$\\theta_{old}$ - массив: $[\\mu_1, \\sigma_1^2, \\mu_2, \\sigma_2^2, p_1]$ Заметим, что так как кластеров только 2, то нет необходимости хранить $p_2$. То есть достаточно хранить $p_1, ... p_{k-1}$, где $k$- количество кластеров.\n",
    "\n",
    "Начальные значения могут быть практически любыми, их можно брать случайными. Однако лучше всего брать какие-нибудь разумные значения (если, допустим, вся выборка содержится в интервале (0,1), то брать $\\mu_1 = 100000$ крайне странно) Можно воспользоваться эвристикой, предложенной на лекции:\n",
    "\n",
    "$\\mu_1 = min(X)$\n",
    "\n",
    "$\\mu_2 = max(X)$\n",
    "\n",
    "$\\sigma_1^2 = \\sigma_2^2 = \\frac{max(X) - min(X)}{2}$\n",
    "\n",
    "$p_1 = \\frac{1}{2}$\n",
    "\n",
    "Логика за этой эвристикой: один кластер справа, другой слева, поэтому и возьмем число справа и слева, а дисперсия - усредненный разброс."
   ]
  },
  {
   "cell_type": "code",
   "execution_count": null,
   "metadata": {
    "colab": {
     "base_uri": "https://localhost:8080/"
    },
    "id": "QuR6opiWepKe",
    "outputId": "2c313bc0-a76d-4d30-fe52-e4044eff3c98"
   },
   "outputs": [
    {
     "data": {
      "text/plain": [
       "array([ 1. ,  4.5, 10. ,  4.5,  0.5])"
      ]
     },
     "execution_count": 64,
     "metadata": {
      "tags": []
     },
     "output_type": "execute_result"
    }
   ],
   "source": [
    "theta = np.array([np.min(x), (np.max(x) - np.min(x)) / 2, np.max(x), (np.max(x) - np.min(x)) / 2, 1/2])\n",
    "theta"
   ]
  },
  {
   "cell_type": "markdown",
   "metadata": {
    "id": "Q1jp3IytdlgL"
   },
   "source": [
    "Далее зададим функцию плотности x. Отметим, что данную функцию для нормального распределения не обязательно задавать вручную, можно воспользоваться `scipy.stats.norm.pdf`"
   ]
  },
  {
   "cell_type": "code",
   "execution_count": null,
   "metadata": {
    "id": "T0dermjXdevG"
   },
   "outputs": [],
   "source": [
    "def f(x, mu, sigma2):\n",
    "    return 1 / np.sqrt(2 * np.pi * sigma2) * np.exp(-1/2 * 1/sigma2 * (x - mu)**2)"
   ]
  },
  {
   "cell_type": "markdown",
   "metadata": {
    "id": "mdUdNQoGzLS1"
   },
   "source": [
    "Реализуем один шаг для EM-алгоритма, подробно его разбирая."
   ]
  },
  {
   "cell_type": "markdown",
   "metadata": {
    "id": "PyAvken0hK4g"
   },
   "source": [
    "Для начала рассчитаем $P(z_i = 1 | x_i, \\theta_{old})$ (т.е. найдем распределение латентных переменных)\n",
    "\n",
    "У нас $\\theta_{old}$ лежит в массиве theta"
   ]
  },
  {
   "cell_type": "code",
   "execution_count": null,
   "metadata": {
    "colab": {
     "base_uri": "https://localhost:8080/"
    },
    "id": "sqtR9w12eisE",
    "outputId": "bfc92d69-1b1a-4cdf-a3d8-72c718408756"
   },
   "outputs": [
    {
     "data": {
      "text/plain": [
       "array([7.31058579e-01, 2.68941421e-01, 9.99088949e-01, 9.99876605e-01,\n",
       "       9.99876605e-01, 9.93307149e-01, 4.74258732e-02, 1.23394576e-04])"
      ]
     },
     "execution_count": 66,
     "metadata": {
      "tags": []
     },
     "output_type": "execute_result"
    }
   ],
   "source": [
    "p_z_1 = f(x, mu = theta[0], sigma2 = theta[1]) * theta[4] / (theta[4] * f(x, mu = theta[0], sigma2 = theta[1]) + \n",
    "                                                       (1-theta[4]) * f(x, mu = theta[2], sigma2 = theta[3]))\n",
    "p_z_1"
   ]
  },
  {
   "cell_type": "markdown",
   "metadata": {
    "id": "r2V0j7SVhlpz"
   },
   "source": [
    "Тепреь в массиве p_z_1 лежат $P(z_i = 1 | x_i, \\theta_{old})$. Отметим, что отдельно высчитывать $P(z_i = 2 | x_i, \\theta_{old})$ не надо, т. к. $P(z_i = 2 | x_i, \\theta_{old}) = 1- P(z_i = 1 | x_i, \\theta_{old})$.\n",
    "\n",
    "Следовательно, если есть k кластеров, то надо посчитать $P(z_i = j | x_i, \\theta_{old})$ для $j \\in \\{ 1,..., k-1\\}$"
   ]
  },
  {
   "cell_type": "markdown",
   "metadata": {
    "id": "O8kviHoXibdd"
   },
   "source": [
    "Теперь можно реализовать M-шаг: найдем новые значения $\\theta$, пользуясь формулами из конспекта"
   ]
  },
  {
   "cell_type": "code",
   "execution_count": null,
   "metadata": {
    "id": "Oo8CPeFSikmW"
   },
   "outputs": [],
   "source": [
    "mu_1 = np.sum(p_z_1 * x) / np.sum(p_z_1)\n",
    "mu_2 = np.sum((1-p_z_1) * x) / np.sum(1-p_z_1)\n",
    "\n",
    "sigma2_1 = np.sum((x - mu_1) ** 2 * p_z_1)/ np.sum(p_z_1)\n",
    "sigma2_2 = np.sum((x - mu_2) ** 2 * (1 - p_z_1))/ np.sum(1 - p_z_1)\n",
    "\n",
    "p1 = np.sum(p_z_1) / len(x)"
   ]
  },
  {
   "cell_type": "markdown",
   "metadata": {
    "id": "ibdQYeRMjChL"
   },
   "source": [
    "Теперь просто сложим полученные параметры в правильном порядке в один масив theta_new"
   ]
  },
  {
   "cell_type": "code",
   "execution_count": null,
   "metadata": {
    "colab": {
     "base_uri": "https://localhost:8080/"
    },
    "id": "hbMzovLZi4cz",
    "outputId": "3a8e7166-3790-4832-ea17-6aa775fdcd42"
   },
   "outputs": [
    {
     "data": {
      "text/plain": [
       "array([2.49618283, 2.74390095, 7.57355004, 3.36811658, 0.62996232])"
      ]
     },
     "execution_count": 68,
     "metadata": {
      "tags": []
     },
     "output_type": "execute_result"
    }
   ],
   "source": [
    "theta_new = np.array([mu_1, sigma2_1, mu_2, sigma2_2, p1])\n",
    "theta_new"
   ]
  },
  {
   "cell_type": "markdown",
   "metadata": {
    "id": "qz0AKnfijQu9"
   },
   "source": [
    "Один шаг EM-алгоритма готов!\n",
    "\n",
    "Теперь хотим собрать EM-алгоритм, но для этого надо определиться, сколько шагов делать/задать критерии остановки.\n",
    "\n",
    "Для нашего EM-алгоритма зададим максимально количество шагов = 100, критерий остановки- если $(Q_t - Q_{t-1}) < 10^{-4}$, где $Q_t$ - это $Q$ на шаге $t$ \n",
    "\n",
    "Отметим, что в числах 100 и $10^{-4}$ ничего магического нет, их можно поменять. "
   ]
  },
  {
   "cell_type": "markdown",
   "metadata": {
    "id": "LgokNFdekksA"
   },
   "source": [
    "Для обработки критерия нам нужна функция $Q$ и логарифм плотности.\n",
    "\n",
    "Также скажем, что для подсчета  логарифма плотности нормального можно воспользоваться scipy.stats.norm.logpdf, а не писать свою функцию lnf."
   ]
  },
  {
   "cell_type": "code",
   "execution_count": null,
   "metadata": {
    "id": "-xMI8gW9iSpH"
   },
   "outputs": [],
   "source": [
    "def lnf(x, mu, sigma2):\n",
    "    return -1/2 * np.log(2 * np.pi * sigma2) - 1/2 * (x - mu) ** 2 / sigma2"
   ]
  },
  {
   "cell_type": "markdown",
   "metadata": {
    "id": "1JSVQbLnlQCW"
   },
   "source": [
    "Для подсчета $Q$ нам нужны X, theta и p_z_1. Отметим, что в конспекте пишется $Q(theta, \\theta_{old})$, но $\\theta_{old}$ подавать необязательно, так как для рассчета $Q$ используется p_z_1, которые рассчитывались на основе $\\theta_{old}$ и содержат всю нужную информацию."
   ]
  },
  {
   "cell_type": "code",
   "execution_count": null,
   "metadata": {
    "id": "Dy8MgTGQlOY8"
   },
   "outputs": [],
   "source": [
    "def Q_f(x, theta, p_z_1):\n",
    "    ell1 = lnf(x, theta[0], theta[1]) + np.log(theta[4])\n",
    "    ell2 = lnf(x, theta[2], theta[3]) + np.log(1 - theta[4])\n",
    "    return np.sum(p_z_1 * ell1 + (1 - p_z_1) * ell2)"
   ]
  },
  {
   "cell_type": "markdown",
   "metadata": {
    "id": "RV2552IVl_2J"
   },
   "source": [
    "Теперь уже можно реализовать функцию EM-алгоритма для нахождения параметров при разделении смеси 2 нормальных распределений.\n",
    "\n",
    "Кроме параметров также будем возвращать Q_history - массив, где будут записаны $Q_t$ на каждой итерации алгоритма\n",
    "\n",
    "Начальные аргументы функции - это сама смесь x и theta - начальные параметры"
   ]
  },
  {
   "cell_type": "code",
   "execution_count": null,
   "metadata": {
    "id": "cfDqpLgXmXkM"
   },
   "outputs": [],
   "source": [
    "def EM(x, theta):\n",
    "    \n",
    "    Q_history = []\n",
    "    \n",
    "    for i in range(100):\n",
    "        \n",
    "        #E-шаг\n",
    "        p_z_1 = f(x, mu = theta[0], sigma2 = theta[1]) * theta[4] / (theta[4] * f(x, mu = theta[0], sigma2 = theta[1]) + \n",
    "                                                       (1-theta[4]) * f(x, mu = theta[2], sigma2 = theta[3]))\n",
    "        #Расчет Q_t\n",
    "        Q_history.append(Q_f(x, theta, p_z_1))\n",
    "        \n",
    "        #Проверка критерия остановки\n",
    "        if i > 0:\n",
    "            if (Q_history[i] - Q_history[i-1])**2 < 1e-4:\n",
    "                break\n",
    "        \n",
    "        #M-шаг\n",
    "\n",
    "        #по формулам находим новые параметры\n",
    "        mu_1 = np.sum(p_z_1 * x) / np.sum(p_z_1)\n",
    "        mu_2 = np.sum((1-p_z_1) * x) / np.sum(1-p_z_1)\n",
    "        sigma2_1 = np.sum((x - mu_1) ** 2 * p_z_1)/ np.sum(p_z_1)\n",
    "        sigma2_2 = np.sum((x - mu_2) ** 2 * (1-p_z_1))/ np.sum(1 - p_z_1)\n",
    "        p1 = np.sum(p_z_1) / len(x)\n",
    "\n",
    "        #Записываем их в массив в нужном порядке\n",
    "        theta_new = np.array([mu_1, sigma2_1, mu_2, sigma2_2, p1])\n",
    "        \n",
    "        #Обновляем параметры\n",
    "        theta = theta_new\n",
    "    \n",
    "    return (theta, Q_history)"
   ]
  },
  {
   "cell_type": "markdown",
   "metadata": {
    "id": "ig4MB2RVnKWo"
   },
   "source": [
    "Проверим теперь работу EM-алгоритма на наших игрушечных данных"
   ]
  },
  {
   "cell_type": "code",
   "execution_count": null,
   "metadata": {
    "colab": {
     "base_uri": "https://localhost:8080/"
    },
    "id": "l0HwrUDDnQ5x",
    "outputId": "f7c6e187-433e-4d4f-dab1-aa5320502164"
   },
   "outputs": [
    {
     "data": {
      "text/plain": [
       "array([1.61403194, 0.58183979, 6.49747214, 5.07879106, 0.43462642])"
      ]
     },
     "execution_count": 72,
     "metadata": {
      "tags": []
     },
     "output_type": "execute_result"
    }
   ],
   "source": [
    "theta, Q_history = EM(x, theta)\n",
    "theta"
   ]
  },
  {
   "cell_type": "markdown",
   "metadata": {
    "id": "zzo3dSY1nacY"
   },
   "source": [
    "Так как игрушечные данные на самом деле не были сгенерированы из нормальных распределений, то сложно оценить, насколько хорошо работает алгоритм.\n",
    "\n",
    "Также построим график Q_history"
   ]
  },
  {
   "cell_type": "code",
   "execution_count": null,
   "metadata": {
    "colab": {
     "base_uri": "https://localhost:8080/",
     "height": 301
    },
    "id": "biViPAlqnqnE",
    "outputId": "304b35b9-e237-4db6-faff-496296a0fb65"
   },
   "outputs": [
    {
     "data": {
      "image/png": "[encoded data removed]",
      "text/plain": [
       "<Figure size 432x288 with 1 Axes>"
      ]
     },
     "metadata": {
      "tags": []
     },
     "output_type": "display_data"
    }
   ],
   "source": [
    "plt.plot(Q_history)\n",
    "plt.title('Q history')\n",
    "plt.xlabel('iterations')\n",
    "plt.ylabel('Q')\n",
    "plt.show()"
   ]
  },
  {
   "cell_type": "markdown",
   "metadata": {
    "id": "ilrZrk2Qn9wL"
   },
   "source": [
    "Заметим, что Q не монотонен. Q возрастает на первых 6-7 итерациях, а потом начинает убывать. (Подождите, мы же  максимизировали, почему Q убывает?? - Об объяснении такой динамики можно прочитать [здесь](https://stats.stackexchange.com/questions/341173/em-algorithm-seems-to-work-but-q-is-not-monotonic-possible-reasons))"
   ]
  },
  {
   "cell_type": "markdown",
   "metadata": {
    "id": "k2qcT1jQoJIm"
   },
   "source": [
    "Теперь протестируем EM-алгоритм на случайных данных. Вспомним о тех y1, y2, которые были сгенерированы в начале ноутбука: по 100 наблюдений из $\\mathcal{N}(0,1)$ и $\\mathcal{N}(4,0.25)$."
   ]
  },
  {
   "cell_type": "code",
   "execution_count": null,
   "metadata": {
    "colab": {
     "base_uri": "https://localhost:8080/"
    },
    "id": "xhCRcVrPotA2",
    "outputId": "5ed4edba-8884-4f14-8ea7-063ab0e74fd4"
   },
   "outputs": [
    {
     "data": {
      "text/plain": [
       "array([-2.52790159,  3.90724998,  5.28659836,  3.90724998,  0.5       ])"
      ]
     },
     "execution_count": 83,
     "metadata": {
      "tags": []
     },
     "output_type": "execute_result"
    }
   ],
   "source": [
    "x = np.hstack((y1, y2))\n",
    "#Чтобы все было честно, перемешаем выборку\n",
    "np.random.shuffle(x)\n",
    "#Начальное приближение возьмем с использованием эвристики\n",
    "theta = np.array([np.min(x), (np.max(x) - np.min(x)) / 2, np.max(x), (np.max(x) - np.min(x)) / 2, 1/2])\n",
    "theta"
   ]
  },
  {
   "cell_type": "markdown",
   "metadata": {
    "id": "zRc1KTOnpE9u"
   },
   "source": [
    "Отментим, что изначально $\\mu_i$ и $\\sigma_i^2$ не совпадают  с настоящими.\n",
    "\n",
    "применим EM-алгоритм."
   ]
  },
  {
   "cell_type": "code",
   "execution_count": null,
   "metadata": {
    "id": "jE6RbgikpSHv"
   },
   "outputs": [],
   "source": [
    "theta, Q = EM(x, theta)"
   ]
  },
  {
   "cell_type": "code",
   "execution_count": null,
   "metadata": {
    "colab": {
     "base_uri": "https://localhost:8080/"
    },
    "id": "oXHK6C85pUSJ",
    "outputId": "3dd4bdbf-6325-4ed8-c8bb-5e2da2714007"
   },
   "outputs": [
    {
     "data": {
      "text/plain": [
       "array([0.05405588, 1.12112515, 4.03175408, 0.26234515, 0.5033544 ])"
      ]
     },
     "execution_count": 85,
     "metadata": {
      "tags": []
     },
     "output_type": "execute_result"
    }
   ],
   "source": [
    "theta"
   ]
  },
  {
   "cell_type": "markdown",
   "metadata": {
    "id": "TAE5HmU1pfdH"
   },
   "source": [
    "Посмотрим на результаты:\n",
    "\n",
    "Наши настоящие параметры: 0, 1, 4, 0.25\n",
    "\n",
    "Важно! Наш EM-алгоритм выдает оценки $\\sigma^2$, поэтому сравниваем с 1 и 0.25\n",
    "\n",
    "Все параметры были найдены хорошо,но не отлично. Ошибки во первом-втором-третьем знаке после запятой. Это может проиходить из-за того, что число $10^{-4}$ слишком большое и алгоритм слоишком рано заканчивается или начальное приближение плохое. Любопытные читатели могут сами поиграться с этими параметрами.\n",
    "\n",
    "\n",
    "\n",
    "\n",
    "На последок построим  график Q."
   ]
  },
  {
   "cell_type": "code",
   "execution_count": null,
   "metadata": {
    "colab": {
     "base_uri": "https://localhost:8080/",
     "height": 301
    },
    "id": "271698BLpyEz",
    "outputId": "f1533e49-c712-4721-e8a6-964e1564e68d"
   },
   "outputs": [
    {
     "data": {
      "image/png": "[encoded data removed]",
      "text/plain": [
       "<Figure size 432x288 with 1 Axes>"
      ]
     },
     "metadata": {
      "tags": []
     },
     "output_type": "display_data"
    }
   ],
   "source": [
    "plt.plot(Q)\n",
    "plt.title('Q history')\n",
    "plt.xlabel('iterations')\n",
    "plt.ylabel('Q')\n",
    "plt.show()"
   ]
  },
  {
   "cell_type": "markdown",
   "metadata": {
    "id": "DoqLAoA_lMr7"
   },
   "source": [
    " Тут хотя бы он монотонен :)"
   ]
  }
 ],
 "metadata": {
  "colab": {
   "collapsed_sections": [],
   "name": "PSMO_Sem4.ipynb",
   "provenance": []
  },
  "kernelspec": {
   "display_name": "Python 3",
   "language": "python",
   "name": "python3"
  },
  "language_info": {
   "codemirror_mode": {
    "name": "ipython",
    "version": 3
   },
   "file_extension": ".py",
   "mimetype": "text/x-python",
   "name": "python",
   "nbconvert_exporter": "python",
   "pygments_lexer": "ipython3",
   "version": "3.8.3"
  }
 },
 "nbformat": 4,
 "nbformat_minor": 1
}
