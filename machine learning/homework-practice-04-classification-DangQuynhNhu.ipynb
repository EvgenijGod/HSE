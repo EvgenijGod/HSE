{
 "cells": [
  {
   "cell_type": "markdown",
   "metadata": {},
   "source": [
    "# Машинное обучение, ФКН ВШЭ\n",
    "\n",
    "## Практическое задание 4. Классификация. \n",
    "\n",
    "### Общая информация\n",
    "Дата выдачи: 20.10.2020\n",
    "\n",
    "Мягкий дедлайн: 01:59MSK 02.11.2020 (за каждый день просрочки снимается 1 балл)\n",
    "\n",
    "Жесткий дедлайн: 01:59MSK 05.11.2020"
   ]
  },
  {
   "cell_type": "markdown",
   "metadata": {},
   "source": [
    "### О задании\n",
    "\n",
    "В этом задании вы:\n",
    "- ознакомитесь с тем, что происходит \"внутри\" метода опорных векторов и логистической регрессии\n",
    "- познакомитесь с калибровкой вероятности\n",
    "- изучите методы трансформации переменных и методы отбора признаков\n",
    "- попробуете оценить экономический эффект модели\n",
    "\n",
    "\n",
    "### Оценивание и штрафы\n",
    "Каждая из задач имеет определенную «стоимость» (указана в скобках около задачи). Максимально допустимая оценка за работу — 10 баллов.\n",
    "\n",
    "Сдавать задание после указанного срока сдачи нельзя. При выставлении неполного балла за задание в связи с наличием ошибок на усмотрение проверяющего предусмотрена возможность исправить работу на указанных в ответном письме условиях.\n",
    "\n",
    "Задание выполняется самостоятельно. «Похожие» решения считаются плагиатом и все задействованные студенты (в том числе те, у кого списали) не могут получить за него больше 0 баллов (подробнее о плагиате см. на странице курса). Если вы нашли решение какого-то из заданий (или его часть) в открытом источнике, необходимо указать ссылку на этот источник в отдельном блоке в конце вашей работы (скорее всего вы будете не единственным, кто это нашел, поэтому чтобы исключить подозрение в плагиате, необходима ссылка на источник).\n",
    "\n",
    "Неэффективная реализация кода может негативно отразиться на оценке.\n",
    "\n",
    "\n",
    "### Формат сдачи\n",
    "Для сдачи задания переименуйте получившийся файл *.ipynb в соответствии со следующим форматом: homework-practice-04-classification-Username.ipynb, где Username — ваша фамилия и имя на латинице именно в таком порядке (например, homework-practice-04-classification-IvanovIvan.ipynb).\n",
    "\n",
    "Для удобства проверки самостоятельно посчитайте свою максимальную оценку (исходя из набора решенных задач) и укажите ниже.\n",
    "\n",
    "**Оценка**: 9.9 + 2.01"
   ]
  },
  {
   "cell_type": "code",
   "execution_count": 1,
   "metadata": {},
   "outputs": [],
   "source": [
    "import numpy as np\n",
    "import pandas as pd\n",
    "import matplotlib.pyplot as plt\n",
    "import seaborn as sns\n",
    "\n",
    "%matplotlib inline\n",
    "\n",
    "sns.set(style=\"darkgrid\")\n",
    "pd.set_option('display.max_rows', 100)\n",
    "pd.set_option('display.max_columns', 100)"
   ]
  },
  {
   "cell_type": "markdown",
   "metadata": {},
   "source": [
    "# Часть 0. SVM, LR и калибровка вероятностей. "
   ]
  },
  {
   "cell_type": "markdown",
   "metadata": {},
   "source": [
    "Сгенерируем синтетические данные."
   ]
  },
  {
   "cell_type": "code",
   "execution_count": 2,
   "metadata": {},
   "outputs": [],
   "source": [
    "from sklearn.datasets import make_classification\n",
    "from sklearn.model_selection import train_test_split\n",
    "\n",
    "X, y = make_classification(\n",
    "    n_samples=10000, n_features=10, n_informative=5, n_redundant=5,\n",
    "    random_state=42)\n",
    "\n",
    "X_train, X_test, y_train, y_test = train_test_split(\n",
    "    X, y, test_size=0.3, random_state=42)"
   ]
  },
  {
   "cell_type": "markdown",
   "metadata": {},
   "source": [
    "__Задание 1.__ Обучение и применение метода опорных векторов и логистической регрессии.\n",
    "\n",
    "__(1 балл)__\n",
    "\n",
    "Обучите метод опорных векторов. На занятиях мы проходили линейный вариант без ядрового перехода, что соответствует линейному ядру (`LinearSVC` или же `SVC(kernel='linear')` в `sklearn.svm`). Подберите параметр регуляризации `C` (можете воспользоваться кросс-валидацией или отделить валидационную выборку от обучающей). "
   ]
  },
  {
   "cell_type": "code",
   "execution_count": 3,
   "metadata": {},
   "outputs": [],
   "source": [
    "from sklearn.preprocessing import StandardScaler\n",
    "from sklearn.model_selection import GridSearchCV\n",
    "from sklearn.svm import LinearSVC\n",
    "from sklearn.pipeline import Pipeline\n",
    "\n",
    "svc_pipeline = Pipeline([\n",
    "    ('scaling', StandardScaler()),\n",
    "    ('svc', LinearSVC(dual=False))\n",
    "])\n",
    "reg_Cs = np.logspace(-2, 3, 20)\n",
    "linear_svc = GridSearchCV(svc_pipeline, {\"svc__C\": reg_Cs}, cv=10)    # chooses best by score estimate\n",
    "model = linear_svc.fit(X_train, y_train)"
   ]
  },
  {
   "cell_type": "code",
   "execution_count": 4,
   "metadata": {},
   "outputs": [
    {
     "name": "stdout",
     "output_type": "stream",
     "text": [
      "Best parameter C: 0.0336\n",
      "Train score: 0.7600\n",
      "Test score: 0.7493\n"
     ]
    }
   ],
   "source": [
    "print('Best parameter C: %.4f' % linear_svc.best_params_['svc__C'])\n",
    "best_model_svc = linear_svc.best_estimator_\n",
    "print('Train score: %.4f' % best_model_svc[1].score(X_train, y_train))    # score - mean accuracy\n",
    "print('Test score: %.4f' % best_model_svc[1].score(X_test, y_test))"
   ]
  },
  {
   "cell_type": "markdown",
   "metadata": {},
   "source": [
    "На тестовой части посчитайте AUC-ROC, AUC-PR с точностью до 5 знаков. Постройте ROC и PR кривые, сравните их с ответами случайного классификатора. Заметим, что с помощью `sklearn` можно посчитать обе метрики двумя разными способами - в чем их различия? Сравните результаты. "
   ]
  },
  {
   "cell_type": "markdown",
   "metadata": {},
   "source": [
    "*Получим сначала кривую, потом посчитаем с помощью `metrics.auc` площади под кривыми:*"
   ]
  },
  {
   "cell_type": "code",
   "execution_count": 6,
   "metadata": {},
   "outputs": [
    {
     "name": "stdout",
     "output_type": "stream",
     "text": [
      "Random classification\n",
      "AUC-ROC: 0.50007\n",
      "AUC-PR: 0.51888\n"
     ]
    }
   ],
   "source": [
    "from sklearn.metrics import roc_curve, precision_recall_curve, auc\n",
    "dummy_preds = np.random.normal(0,1,X_test.shape[0])\n",
    "fpr_dummy, tpr_dummy, roc_thresholds_dummy = roc_curve(y_test, dummy_preds)\n",
    "precision_dummy, recall_dummy, pr_thresholds_dummy = precision_recall_curve(y_test, dummy_preds)\n",
    "auc_roc_dummy = auc(fpr_dummy, tpr_dummy)\n",
    "auc_pr_dummy = auc(recall_dummy, precision_dummy)\n",
    "print('Random classification')\n",
    "print('AUC-ROC: %.5f' % auc_roc_dummy)\n",
    "print('AUC-PR: %.5f' % auc_pr_dummy)"
   ]
  },
  {
   "cell_type": "code",
   "execution_count": 7,
   "metadata": {},
   "outputs": [
    {
     "name": "stdout",
     "output_type": "stream",
     "text": [
      "SVC\n",
      "AUC-ROC: 0.84762\n",
      "AUC-PR: 0.82966\n"
     ]
    }
   ],
   "source": [
    "b_pred_svc = best_model_svc.decision_function(X_test)\n",
    "fpr_svc, tpr_svc, roc_thresholds_svc = roc_curve(y_test, b_pred_svc)\n",
    "precision_svc, recall_svc, pr_thresholds_svc = precision_recall_curve(y_test, b_pred_svc)\n",
    "auc_roc_svc = auc(fpr_svc, tpr_svc)\n",
    "auc_pr_svc = auc(recall_svc, precision_svc)\n",
    "print('SVC')\n",
    "print('AUC-ROC: %.5f' % auc_roc_svc)\n",
    "print('AUC-PR: %.5f' % auc_pr_svc)"
   ]
  },
  {
   "cell_type": "code",
   "execution_count": 8,
   "metadata": {},
   "outputs": [
    {
     "data": {
      "image/png": "[encoded data removed]",
      "text/plain": [
       "<Figure size 1440x432 with 2 Axes>"
      ]
     },
     "metadata": {},
     "output_type": "display_data"
    }
   ],
   "source": [
    "plt.figure(figsize=(20,6))\n",
    "ax1 = plt.subplot(121)\n",
    "ax1.plot(fpr_svc, tpr_svc, color='green', label='SVC')\n",
    "ax1.set_title('ROC curve', size=14)\n",
    "ax1.set(xlabel='FPR', ylabel='TPR')\n",
    "ax1.plot(fpr_dummy, tpr_dummy, color='b', label='random classifier')\n",
    "ax2 = plt.subplot(122)\n",
    "ax2.set_title('Precision-recall curve', size=14)\n",
    "ax2.set(xlabel='recall', ylabel='precision')\n",
    "ax2.plot(recall_svc, precision_svc, color='green', label='SVC')\n",
    "ax2.plot(recall_dummy, precision_dummy, color='b', label='random classifier')\n",
    "ax1.legend(facecolor='w',fontsize=13)\n",
    "ax2.legend(facecolor='w',fontsize=13)\n",
    "plt.show()"
   ]
  },
  {
   "cell_type": "markdown",
   "metadata": {},
   "source": [
    "*Второй вариант: посчитаем метрики готовыми функциями в `sklearn`:*"
   ]
  },
  {
   "cell_type": "code",
   "execution_count": 9,
   "metadata": {},
   "outputs": [
    {
     "name": "stdout",
     "output_type": "stream",
     "text": [
      "SVC\n",
      "AUC-ROC: 0.84762\n",
      "AUC-PR: 0.82992\n"
     ]
    }
   ],
   "source": [
    "from sklearn.metrics import roc_auc_score, average_precision_score\n",
    "\n",
    "auc_roc_svc_ = roc_auc_score(y_test, b_pred_svc)\n",
    "auc_pr_svc_ = average_precision_score(y_test, b_pred_svc)\n",
    "print('SVC')\n",
    "print('AUC-ROC: %.5f' % auc_roc_svc_)\n",
    "print('AUC-PR: %.5f' % auc_pr_svc_)"
   ]
  },
  {
   "cell_type": "markdown",
   "metadata": {},
   "source": [
    "*В первом случае площадь считается с помощью метода трапеций (домножение на усреднённое значение функции на границах отрезка), во втором подсчитывается правая сумма Римана ($AP = \\sum\\limits_{n}(R_n - R_{n-1})P_n$) Результаты отличаются только для precision-recall curve: во втором случае получено большее значение.* \n",
    "\n",
    "*По сравнению со случайным классификатором видим, что кривые для метода опорных векторов получаются лучше - в случайном случае ROC-кривая проходит по диагонали, значения precision меньше.*"
   ]
  },
  {
   "cell_type": "markdown",
   "metadata": {},
   "source": [
    "А теперь проделайте все то же самое для логистической регрессии (LR) — обучение, подбор параметра регуляризации (используйте L2-регуляризацию), вычисление всех метрик и построение кривых. Сравните результаты LR и SVM с точки зрения всех вычисленных критериев качества, объясните различия (если они есть)."
   ]
  },
  {
   "cell_type": "code",
   "execution_count": 10,
   "metadata": {},
   "outputs": [],
   "source": [
    "from sklearn.linear_model import LogisticRegression\n",
    "\n",
    "lr_pipeline = Pipeline([\n",
    "    ('scaling', StandardScaler()),\n",
    "    ('lr', LogisticRegression(penalty='l2'))\n",
    "])\n",
    "reg_Cs = np.logspace(-2, 3, 20)\n",
    "lr = GridSearchCV(lr_pipeline, {\"lr__C\": reg_Cs}, cv=10)    # chooses best by score estimate\n",
    "lr_model = lr.fit(X_train, y_train)"
   ]
  },
  {
   "cell_type": "code",
   "execution_count": 11,
   "metadata": {},
   "outputs": [
    {
     "name": "stdout",
     "output_type": "stream",
     "text": [
      "Best parameter C: 0.0336\n",
      "Train score: 0.7593\n",
      "Test score: 0.7487\n"
     ]
    }
   ],
   "source": [
    "print('Best parameter C: %.4f' % lr.best_params_['lr__C'])\n",
    "best_model_lr = lr.best_estimator_\n",
    "print('Train score: %.4f' % best_model_lr[1].score(X_train, y_train))\n",
    "print('Test score: %.4f' % best_model_lr[1].score(X_test, y_test))"
   ]
  },
  {
   "cell_type": "code",
   "execution_count": 12,
   "metadata": {},
   "outputs": [
    {
     "name": "stdout",
     "output_type": "stream",
     "text": [
      "Logistic regression\n",
      "AUC-ROC: 0.84768\n",
      "AUC-PR: 0.82934\n"
     ]
    }
   ],
   "source": [
    "b_pred_lr = best_model_lr.decision_function(X_test)\n",
    "fpr_lr, tpr_lr, roc_thresholds_lr = roc_curve(y_test, b_pred_lr)\n",
    "precision_lr, recall_lr, pr_thresholds_lr = precision_recall_curve(y_test, b_pred_lr)\n",
    "auc_roc_lr = auc(fpr_lr, tpr_lr)\n",
    "auc_pr_lr = auc(recall_lr, precision_lr)\n",
    "print('Logistic regression')\n",
    "print('AUC-ROC: %.5f' % auc_roc_lr)\n",
    "print('AUC-PR: %.5f' % auc_pr_lr)"
   ]
  },
  {
   "cell_type": "code",
   "execution_count": 13,
   "metadata": {},
   "outputs": [
    {
     "data": {
      "image/png": "[encoded data removed]",
      "text/plain": [
       "<Figure size 1440x432 with 2 Axes>"
      ]
     },
     "metadata": {},
     "output_type": "display_data"
    }
   ],
   "source": [
    "plt.figure(figsize=(20,6))\n",
    "ax1 = plt.subplot(121)\n",
    "ax1.plot(fpr_lr, tpr_lr, color='green')\n",
    "ax1.set_title('ROC curve (Logistic Regression)', size=14)\n",
    "ax1.set(xlabel='FPR', ylabel='TPR')\n",
    "ax2 = plt.subplot(122)\n",
    "ax2.set_title('Precision-recall curve (Logistic Regression)', size=14)\n",
    "ax2.set(xlabel='recall', ylabel='precision')\n",
    "ax2.plot(recall_lr, precision_lr, color='green')\n",
    "plt.show()"
   ]
  },
  {
   "cell_type": "markdown",
   "metadata": {},
   "source": [
    "*Второй вариант: посчитаем метрики готовыми функциями в `sklearn`:*"
   ]
  },
  {
   "cell_type": "code",
   "execution_count": 14,
   "metadata": {},
   "outputs": [
    {
     "name": "stdout",
     "output_type": "stream",
     "text": [
      "Logistic regression\n",
      "AUC-ROC: 0.84768\n",
      "AUC-PR: 0.82960\n"
     ]
    }
   ],
   "source": [
    "auc_roc_lr_ = roc_auc_score(y_test, b_pred_lr)\n",
    "auc_pr_lr_ = average_precision_score(y_test, b_pred_lr)\n",
    "print('Logistic regression')\n",
    "print('AUC-ROC: %.5f' % auc_roc_lr_)\n",
    "print('AUC-PR: %.5f' % auc_pr_lr_)"
   ]
  },
  {
   "cell_type": "markdown",
   "metadata": {},
   "source": [
    "*Для логистической регрессии значения AUC-ROC получились больше, чем для метода опорных векторов, тогда как значения PR-ROC получились меньше. Объяснить это можно тем, что метод опорных векторов находит гиперплоскость, наиболее точно разделяющую объекты на классы. Поэтому для неё AUC-ROC выходит больше (TPR ближе к единице). Логистическая регрессия же приближает правдоподобие положительных ответов (и при этом может находить разделяющие плоскости, которые дают более плохой результат AUC-ROC), из-за чего AUC-PR у него лучше, чем у метода опорных векторов.*"
   ]
  },
  {
   "cell_type": "markdown",
   "metadata": {},
   "source": [
    "В названии метода опорных векторов присутствуют некоторые \"опорные векторы\". Сгенерируйте синтетический датасет с помощью `make_classification` с 2 признаками, обучите на нём метод опорных векторов. Визуализируйте разделяющую прямую, все объекты и выделите опорные вектора (атрибут `support_vectors_`). В этот раз, если необходимо, вместо `LinearSVC` воспользуйтесь `SVC(kernel='linear')`, так как только в нём есть информация об опорных векторах."
   ]
  },
  {
   "cell_type": "code",
   "execution_count": 15,
   "metadata": {},
   "outputs": [],
   "source": [
    "X_1, y_1 = make_classification(n_samples = 2000, n_features=2, n_informative=2, n_redundant=0, \n",
    "                               n_clusters_per_class=1, random_state=88)"
   ]
  },
  {
   "cell_type": "code",
   "execution_count": 16,
   "metadata": {},
   "outputs": [],
   "source": [
    "from sklearn.svm import SVC\n",
    "svc_pipeline_1 = Pipeline([\n",
    "    ('scaling', StandardScaler()),\n",
    "    ('svc', SVC(kernel='linear', probability=True))\n",
    "])\n",
    "reg_Cs = np.logspace(-2, 3, 20)\n",
    "svc_1 = GridSearchCV(svc_pipeline_1, {\"svc__C\": reg_Cs}, cv=5)\n",
    "model = svc_1.fit(X_1, y_1)"
   ]
  },
  {
   "cell_type": "code",
   "execution_count": 17,
   "metadata": {},
   "outputs": [
    {
     "name": "stdout",
     "output_type": "stream",
     "text": [
      "Best parameter C: 0.3793\n",
      "Score: 0.9925\n"
     ]
    }
   ],
   "source": [
    "print('Best parameter C: %.4f' % svc_1.best_params_['svc__C'])\n",
    "best_model_svc_1 = svc_1.best_estimator_\n",
    "print('Score: %.4f' % best_model_svc_1[1].score(X_1, y_1))"
   ]
  },
  {
   "cell_type": "markdown",
   "metadata": {},
   "source": [
    "[Plotting SVC Decision Function](https://jakevdp.github.io/PythonDataScienceHandbook/05.07-support-vector-machines.html)"
   ]
  },
  {
   "cell_type": "code",
   "execution_count": 18,
   "metadata": {},
   "outputs": [],
   "source": [
    "def plot_svc_decision_function(model, ax=None, plot_support=True):\n",
    "    \"\"\"Plot the decision function for a 2D SVC\"\"\"\n",
    "    if ax is None:\n",
    "        ax = plt.gca()\n",
    "    xlim = ax.get_xlim()\n",
    "    ylim = ax.get_ylim()\n",
    "\n",
    "    w = model.coef_[0]\n",
    "    xx = np.linspace(xlim[0], xlim[1])\n",
    "    yy = (-w[0] * xx - model.intercept_[0]) / w[1]    # hyperplane: <w,x> + b = 0 <=> x_2 = (-w_1 * x_1 - b) / w_2\n",
    "    ax.plot(xx, yy, 'k-', color='midnightblue')\n",
    "\n",
    "    # plot support vectors\n",
    "    if plot_support:\n",
    "        ax.scatter(model.support_vectors_[:, 0],\n",
    "                   model.support_vectors_[:, 1],\n",
    "                   s=80, linewidth=1, facecolors='none', edgecolor='k');\n",
    "    ax.set_xlim(xlim)\n",
    "    ax.set_ylim(ylim)"
   ]
  },
  {
   "cell_type": "code",
   "execution_count": 19,
   "metadata": {},
   "outputs": [
    {
     "data": {
      "image/png": "[encoded data removed]",
      "text/plain": [
       "<Figure size 864x504 with 1 Axes>"
      ]
     },
     "metadata": {},
     "output_type": "display_data"
    }
   ],
   "source": [
    "plt.figure(figsize=(12,7))\n",
    "plt.xlabel('first feature')\n",
    "plt.ylabel('second feature')\n",
    "plt.title('Separating hyperplane and support vectors visualization', size=14)\n",
    "plt.scatter(svc_pipeline_1[0].fit_transform(X_1)[:, 0], svc_pipeline_1[0].fit_transform(X_1)[:, 1], c=y_1, s=20, cmap='Set3')\n",
    "plot_svc_decision_function(best_model_svc_1[1])"
   ]
  },
  {
   "cell_type": "markdown",
   "metadata": {},
   "source": [
    "В отличие от метода опорных векторов, логистическая регрессия не пытается построить разделяющую гиперплоскость, а приближает в каждой точке пространства объектов правдоподобие положительных ответов $p(y=+1|x)$. Попробуйте нарисовать это распределение на плоскости, не забудьте отметить на ней все объекты. Вам может помочь функция `plt.pcolor`."
   ]
  },
  {
   "cell_type": "markdown",
   "metadata": {},
   "source": [
    "[sklearn: classification probability plot](https://scikit-learn.org/0.15/auto_examples/plot_classification_probability.html)"
   ]
  },
  {
   "cell_type": "code",
   "execution_count": 20,
   "metadata": {},
   "outputs": [
    {
     "data": {
      "image/png": "[encoded data removed]",
      "text/plain": [
       "<Figure size 864x432 with 2 Axes>"
      ]
     },
     "metadata": {},
     "output_type": "display_data"
    }
   ],
   "source": [
    "fig = plt.figure(figsize=(12,6))\n",
    "\n",
    "xx = np.linspace(X_1[:,0].min(), X_1[:,0].max(), 100)\n",
    "yy = np.linspace(X_1[:,1].min(), X_1[:,1].max(), 100)\n",
    "xx, yy = np.meshgrid(xx, yy)\n",
    "Xfull = np.c_[xx.ravel(), yy.ravel()]\n",
    "Z = 1 / (1 + np.exp(-best_model_svc_1.decision_function(Xfull)))    # sigmoid = 1 / (1 + exp(-(<w,x> + b)))\n",
    "\n",
    "X_1_tf = svc_pipeline_1[0].fit_transform(X_1)\n",
    "xx = np.linspace(X_1_tf[:,0].min(), X_1_tf[:,0].max(), 100)\n",
    "yy = np.linspace(X_1_tf[:,1].min(), X_1_tf[:,1].max(), 100)\n",
    "xx, yy = np.meshgrid(xx, yy)\n",
    "c = plt.pcolor(xx, yy, Z.reshape(100,100), cmap='mako')\n",
    "fig.colorbar(c)\n",
    "plt.scatter(X_1_tf[:,0], X_1_tf[:,1], s=15, color='w', edgecolor='k')\n",
    "\n",
    "plt.title('Classification probability', size=14)\n",
    "plt.xlabel('first feature', size=12)\n",
    "plt.ylabel('second feature', size=12)\n",
    "plt.show()"
   ]
  },
  {
   "cell_type": "markdown",
   "metadata": {},
   "source": [
    "__Задание 2.__ Калибровка вероятностей.\n",
    "\n",
    "__(1 балл)__\n",
    "\n",
    "Перейдём к оценке качества выдаваемых алгоритмами вероятностей. Начнём с калибровочных кривых. \n",
    "\n",
    "Допустим, алгоритм возвращает некоторые числа от нуля до единицы. Хорошо ли они оценивают вероятность? Для этого разобьем отрезок $[0, 1]$ на несколько маленьких отрезков одинаковой длины. Рассмотрим $i$-й отрезок с границами $[a_i, b_i]$ и предсказания $p_1, p_2, \\dots, p_k$, которые попали в него. Пусть им соответствуют истинные ответы $y_1, y_2, \\dots, y_k$. Если алгоритм выдает корректные вероятности, то среди этих истинных ответов должно быть примерно $(a_i + b_i) / 2$ единиц. Иными словами, если нарисовать кривую, у которой по оси X отложены центры отрезков, а по оси Y — доли единичных ответов этих в отрезках, то она должна оказаться диагональной. Ниже приведена функция, которая должна рисовать такие кривые. В ней допущено две ошибки — найдите и исправьте их."
   ]
  },
  {
   "cell_type": "code",
   "execution_count": 21,
   "metadata": {},
   "outputs": [],
   "source": [
    "def plot_calibration_curve(y_test, preds):\n",
    "    bin_middle_points = []\n",
    "    bin_real_ratios = []\n",
    "    n_bins = 10\n",
    "    for i in range(n_bins):\n",
    "        l = 1.0 / n_bins * i\n",
    "        r = 1.0 / n_bins * (i + 1)\n",
    "        bin_middle_points.append(l + (r - l) / 2)    # changed l - r\n",
    "        bin_real_ratios.append(np.mean(y_test[(preds >= l) & (preds < r)]))    # changed np.min(y_test[(preds >= l) & (preds < r)] == 1)\n",
    "    plt.figure(figsize=(6,6))\n",
    "    plt.plot(bin_middle_points, bin_real_ratios)\n",
    "    plt.ylim([-0.05, 1.05])\n",
    "    \n",
    "    # added title and axis labels\n",
    "    plt.title('Calibration curve', size=13)\n",
    "    plt.xlabel('probability')\n",
    "    plt.ylabel('positive rate')\n",
    "    #plt.grid()"
   ]
  },
  {
   "cell_type": "markdown",
   "metadata": {},
   "source": [
    "Сгенерируйте синтетический датасет аналогично использованному в самом первом задании. Постройте калибровочные кривые на тестовой части для логистической регрессии и метода опорных векторов (не забудьте перевести его предсказания в $[0;1]$). Изучите распределение ответов классификаторов (постройте гистограммы с помощью `plt.hist`). Чем они различаются? Чем вы можете объяснить это?"
   ]
  },
  {
   "cell_type": "code",
   "execution_count": 22,
   "metadata": {},
   "outputs": [],
   "source": [
    "X_2, y_2 = make_classification(\n",
    "    n_samples=10000, n_features=10, n_informative=5, n_redundant=5,\n",
    "    random_state=42)\n",
    "\n",
    "X_2_train, X_2_test, y_2_train, y_2_test = train_test_split(\n",
    "    X_2, y_2, test_size=0.3, random_state=42)"
   ]
  },
  {
   "cell_type": "code",
   "execution_count": 23,
   "metadata": {},
   "outputs": [],
   "source": [
    "# SVC with best parameter from the first task\n",
    "svc_pipe_2 = Pipeline([\n",
    "    ('scaling', StandardScaler()),\n",
    "    ('svc', LinearSVC(dual=False, C=linear_svc.best_params_['svc__C']))    # param C from 1st task\n",
    "])\n",
    "model = svc_pipe_2.fit(X_2_train, y_2_train)\n",
    "\n",
    "# Logistic regression with best parameter from the first task\n",
    "lr_pipe_2 = Pipeline([\n",
    "    ('scaling', StandardScaler()),\n",
    "    ('lr', LogisticRegression(penalty='l2', C=lr.best_params_['lr__C']))    # param C from 1st task\n",
    "])\n",
    "model = lr_pipe_2.fit(X_2_train, y_2_train)"
   ]
  },
  {
   "cell_type": "markdown",
   "metadata": {},
   "source": [
    "[sklearn: calibration curve, probability without predict_proba](https://scikit-learn.org/stable/auto_examples/calibration/plot_calibration_curve.html#sphx-glr-auto-examples-calibration-plot-calibration-curve-py)"
   ]
  },
  {
   "cell_type": "code",
   "execution_count": 24,
   "metadata": {},
   "outputs": [
    {
     "data": {
      "image/png": "[encoded data removed]",
      "text/plain": [
       "<Figure size 432x432 with 1 Axes>"
      ]
     },
     "metadata": {},
     "output_type": "display_data"
    }
   ],
   "source": [
    "svc_preds = svc_pipe_2.decision_function(X_test)\n",
    "svc_preds = (svc_preds - svc_preds.min()) / (svc_preds.max() - svc_preds.min())\n",
    "plot_calibration_curve(y_2_test, svc_preds)"
   ]
  },
  {
   "cell_type": "code",
   "execution_count": 27,
   "metadata": {},
   "outputs": [
    {
     "data": {
      "image/png": "[encoded data removed]",
      "text/plain": [
       "<Figure size 432x432 with 1 Axes>"
      ]
     },
     "metadata": {},
     "output_type": "display_data"
    }
   ],
   "source": [
    "lr_decs = lr_pipe_2.decision_function(X_2_test)\n",
    "lr_preds = lr_pipe_2.predict_proba(X_2_test)[:,1]\n",
    "plot_calibration_curve(y_2_test, lr_preds)\n",
    "plt.show()"
   ]
  },
  {
   "cell_type": "code",
   "execution_count": 28,
   "metadata": {},
   "outputs": [
    {
     "data": {
      "image/png": "[encoded data removed]",
      "text/plain": [
       "<Figure size 1080x432 with 2 Axes>"
      ]
     },
     "metadata": {},
     "output_type": "display_data"
    }
   ],
   "source": [
    "plt.figure(figsize=(15,6))\n",
    "plt.suptitle('Probability distribution')\n",
    "ax1 = plt.subplot(121)\n",
    "ax1.hist(svc_preds, bins=40, color='green')\n",
    "ax1.set(ylabel='number of objects', xlabel='probability')\n",
    "ax1.set_title('SVC')\n",
    "ax2 = plt.subplot(122)\n",
    "ax2.set_title('Logistic regression')\n",
    "ax2.hist(lr_preds, bins=40, color='green')\n",
    "ax2.set(ylabel='number of objects', xlabel='probability')\n",
    "plt.show()"
   ]
  },
  {
   "cell_type": "markdown",
   "metadata": {},
   "source": [
    "*Для метода опорных векторов можно заметить, что объекты разделены так, что большинство из них имеют вероятность попадания в положительный класс равной 0.5. Это значит, что для большинства объектов точность определения класса невелика (скорее всего из-за того, что большинство точек находится близко к разделяющей гиперплоскости). Поскольку логистическая регрессия приближает в каждой точке правдоподобие положительных ответов, распределение вероятностей становится более равномерным, что наблюдаем на графике.*"
   ]
  },
  {
   "cell_type": "markdown",
   "metadata": {},
   "source": [
    "Воспользуйтесь `CalibratedClassifierCV` из `sklearn` для калибровки вероятностей метода опорных векторов на обучении и постройте с его помощью предсказания для тестовой выборки. Нарисуйте для них калибровочную кривую. Улучшилась ли она?"
   ]
  },
  {
   "cell_type": "code",
   "execution_count": 29,
   "metadata": {},
   "outputs": [],
   "source": [
    "from sklearn.calibration import CalibratedClassifierCV\n",
    "clf_cv = CalibratedClassifierCV(svc_pipe_2, method='sigmoid', cv=3)\n",
    "model = clf_cv.fit(X_2_train, y_2_train)\n",
    "cv_pred_proba = clf_cv.predict_proba(X_2_test)[:,1]"
   ]
  },
  {
   "cell_type": "code",
   "execution_count": 32,
   "metadata": {
    "scrolled": false
   },
   "outputs": [
    {
     "data": {
      "image/png": "[encoded data removed]",
      "text/plain": [
       "<Figure size 432x432 with 1 Axes>"
      ]
     },
     "metadata": {},
     "output_type": "display_data"
    }
   ],
   "source": [
    "plot_calibration_curve(y_2_test, cv_pred_proba)"
   ]
  },
  {
   "cell_type": "code",
   "execution_count": 33,
   "metadata": {},
   "outputs": [
    {
     "name": "stdout",
     "output_type": "stream",
     "text": [
      "Test score before calibration: 0.7717\n",
      "Test score after calibration: 0.7720\n"
     ]
    }
   ],
   "source": [
    "print('Test score before calibration: %.4f' % svc_pipe_2.score(X_2_test, y_2_test))\n",
    "print('Test score after calibration: %.4f' % clf_cv.score(X_2_test, y_2_test))"
   ]
  },
  {
   "cell_type": "markdown",
   "metadata": {},
   "source": [
    "*Калибровочная кривая стала ближе к диагональной, качество модели после калибровки немного улучшилось.*"
   ]
  },
  {
   "cell_type": "markdown",
   "metadata": {},
   "source": [
    "__Бонусное задание (0.5 балла).__ Реализуйте свою функцию для калибровки вероятностей. Опишите ваш подход и продемонстрируйте результаты. Ключевые слова для вдохновения: `Platt`, `Isotonic`."
   ]
  },
  {
   "cell_type": "markdown",
   "metadata": {},
   "source": [
    "*Проделаем калибровку Платта. Для этого на отложенной выборке по полученным прогнозам подберём такие параметры $\\alpha$ и $\\beta$, что:*\n",
    "$$logloss = -(y_{true}\\cdot\\log(\\hat{b}(x) + (1 - y_{true})\\cdot\\log(1-\\hat{b}(x))) \\rightarrow \\min\\limits_{\\alpha, \\beta},$$\n",
    "$$\\hat{b}(x) = \\frac{1}{1 + \\exp(-\\alpha \\cdot b(x) - \\beta)}$$"
   ]
  },
  {
   "cell_type": "code",
   "execution_count": 164,
   "metadata": {},
   "outputs": [],
   "source": [
    "from sklearn.metrics import log_loss\n",
    "class PlattCalibration (BaseEstimator, TransformerMixin):\n",
    "    def __init__(self, preds):\n",
    "        self.probA = np.logspace(-2,1,5)\n",
    "        self.probB = np.logspace(-2,1,5)\n",
    "        self.bestA = None\n",
    "        self.bestB = None\n",
    "        self.preds = preds\n",
    "        self.calibrated_preds = None\n",
    "    \n",
    "    def fit(self, X, y):\n",
    "        min_log_loss = 100\n",
    "        \n",
    "        for a in self.probA:\n",
    "            for b in self.probB:\n",
    "                new_preds = 1 / (1 + np.exp(-a * self.preds - b))    # choosing a and b as argmin of logloss\n",
    "                cur_log_loss = log_loss(y, new_preds)\n",
    "                if cur_log_loss < min_log_loss:\n",
    "                    min_log_loss = cur_log_loss\n",
    "                    self.bestA = a\n",
    "                    self.bestB = b\n",
    "                    self.calibrated_preds = new_preds\n",
    "        return self\n",
    "    \n",
    "    def transform(self, X):\n",
    "        return X\n",
    "    \n",
    "    def new_preds(self, preds):\n",
    "        return 1 / (1 + np.exp(-self.bestA * preds - self.bestB))"
   ]
  },
  {
   "cell_type": "code",
   "execution_count": 165,
   "metadata": {},
   "outputs": [],
   "source": [
    "svc_pipe_2_ = Pipeline([\n",
    "    ('scaling', StandardScaler()),\n",
    "    ('svc', LinearSVC(dual=False, C=linear_svc.best_params_['svc__C']))    # param C from 1st task\n",
    "])\n",
    "svc_pipe_2_.fit(X_2_train, y_2_train)\n",
    "\n",
    "X_val__, X_test__, y_val__, y_test__ = train_test_split(    # fit on part of train set\n",
    "    X_2_train, y_2_train, test_size=0.3, random_state=42)\n",
    "\n",
    "val_preds = svc_pipe_2_.decision_function(X_val__)\n",
    "test_preds = svc_pipe_2_.decision_function(X_2_test)"
   ]
  },
  {
   "cell_type": "code",
   "execution_count": 166,
   "metadata": {},
   "outputs": [
    {
     "data": {
      "image/png": "[encoded data removed]",
      "text/plain": [
       "<Figure size 432x432 with 1 Axes>"
      ]
     },
     "metadata": {},
     "output_type": "display_data"
    }
   ],
   "source": [
    "platt_cal = PlattCalibration(val_preds)\n",
    "platt_cal.fit(X_val__, y_val__)\n",
    "plot_calibration_curve(y_2_test, platt_cal.new_preds(test_preds))    # calibrate predictions of test set"
   ]
  },
  {
   "cell_type": "markdown",
   "metadata": {},
   "source": [
    "*Как можно увидеть по графику, калибровочная кривая стала более прямой и ближе к диагональной.*"
   ]
  },
  {
   "cell_type": "markdown",
   "metadata": {},
   "source": [
    "# Часть 1. Работа с переменными."
   ]
  },
  {
   "cell_type": "markdown",
   "metadata": {},
   "source": [
    "В этой части мы научимся обрабатывать категориальные переменные, так как закодировать их в виде чисел недостаточно (это задаёт некоторый порядок, которого на категориальных переменных может и не быть). Существует два основных способа обработки категориальных значений:\n",
    "- One-hot-кодирование\n",
    "- Счётчики (CTR, mean-target кодирование, ...) — каждый категориальный признак заменяется на среднее значение целевой переменной по всем объектам, имеющим одинаковое значение в этом признаке.\n",
    "\n",
    "Начнём с one-hot-кодирования. Допустим наш категориальный признак $f_j(x)$ принимает значения из множества $C=\\{c_1, \\dots, c_m\\}$. Заменим его на $m$ бинарных признаков $b_1(x), \\dots, b_m(x)$, каждый из которых является индикатором одного из возможных категориальных значений:\n",
    "$$\n",
    "b_i(x) = [f_j(x) = c_i]\n",
    "$$"
   ]
  },
  {
   "cell_type": "markdown",
   "metadata": {},
   "source": [
    "__Подготовка данных.__\n",
    "\n",
    "Загрузим данные [UCI Bank Marketing Dataset](https://archive.ics.uci.edu/ml/datasets/bank+marketing). Этот датасет содержит информацию о банковском телефонном маркетинге, объектом в нем является телефонный звонок потенциальному клиенту с предложением некоторой услуги (утверждается, что это краткосрочный депозит), целевой переменной - ответ клиента (согласился ли он открыть депозит?). В качестве признакового описания используются характеристики клиента (образование, брак и т.д.), данные о звонке и различные экономические индикаторы - более подробная информация представлена в файле `bank-additional-names.txt`."
   ]
  },
  {
   "cell_type": "code",
   "execution_count": 35,
   "metadata": {
    "scrolled": true
   },
   "outputs": [],
   "source": [
    "#!wget https://archive.ics.uci.edu/ml/machine-learning-databases/00222/bank-additional.zip\n",
    "#!unzip bank-additional.zip\n",
    "df = pd.read_csv('bank-additional/bank-additional-full.csv', sep=';')"
   ]
  },
  {
   "cell_type": "code",
   "execution_count": 36,
   "metadata": {
    "scrolled": false
   },
   "outputs": [
    {
     "data": {
      "text/html": [
       "<div>\n",
       "<style scoped>\n",
       "    .dataframe tbody tr th:only-of-type {\n",
       "        vertical-align: middle;\n",
       "    }\n",
       "\n",
       "    .dataframe tbody tr th {\n",
       "        vertical-align: top;\n",
       "    }\n",
       "\n",
       "    .dataframe thead th {\n",
       "        text-align: right;\n",
       "    }\n",
       "</style>\n",
       "<table border=\"1\" class=\"dataframe\">\n",
       "  <thead>\n",
       "    <tr style=\"text-align: right;\">\n",
       "      <th></th>\n",
       "      <th>age</th>\n",
       "      <th>job</th>\n",
       "      <th>marital</th>\n",
       "      <th>education</th>\n",
       "      <th>default</th>\n",
       "      <th>housing</th>\n",
       "      <th>loan</th>\n",
       "      <th>contact</th>\n",
       "      <th>month</th>\n",
       "      <th>day_of_week</th>\n",
       "      <th>duration</th>\n",
       "      <th>campaign</th>\n",
       "      <th>pdays</th>\n",
       "      <th>previous</th>\n",
       "      <th>poutcome</th>\n",
       "      <th>emp.var.rate</th>\n",
       "      <th>cons.price.idx</th>\n",
       "      <th>cons.conf.idx</th>\n",
       "      <th>euribor3m</th>\n",
       "      <th>nr.employed</th>\n",
       "      <th>y</th>\n",
       "    </tr>\n",
       "  </thead>\n",
       "  <tbody>\n",
       "    <tr>\n",
       "      <th>0</th>\n",
       "      <td>56</td>\n",
       "      <td>housemaid</td>\n",
       "      <td>married</td>\n",
       "      <td>basic.4y</td>\n",
       "      <td>no</td>\n",
       "      <td>no</td>\n",
       "      <td>no</td>\n",
       "      <td>telephone</td>\n",
       "      <td>may</td>\n",
       "      <td>mon</td>\n",
       "      <td>261</td>\n",
       "      <td>1</td>\n",
       "      <td>999</td>\n",
       "      <td>0</td>\n",
       "      <td>nonexistent</td>\n",
       "      <td>1.1</td>\n",
       "      <td>93.994</td>\n",
       "      <td>-36.4</td>\n",
       "      <td>4.857</td>\n",
       "      <td>5191.0</td>\n",
       "      <td>no</td>\n",
       "    </tr>\n",
       "    <tr>\n",
       "      <th>1</th>\n",
       "      <td>57</td>\n",
       "      <td>services</td>\n",
       "      <td>married</td>\n",
       "      <td>high.school</td>\n",
       "      <td>unknown</td>\n",
       "      <td>no</td>\n",
       "      <td>no</td>\n",
       "      <td>telephone</td>\n",
       "      <td>may</td>\n",
       "      <td>mon</td>\n",
       "      <td>149</td>\n",
       "      <td>1</td>\n",
       "      <td>999</td>\n",
       "      <td>0</td>\n",
       "      <td>nonexistent</td>\n",
       "      <td>1.1</td>\n",
       "      <td>93.994</td>\n",
       "      <td>-36.4</td>\n",
       "      <td>4.857</td>\n",
       "      <td>5191.0</td>\n",
       "      <td>no</td>\n",
       "    </tr>\n",
       "    <tr>\n",
       "      <th>2</th>\n",
       "      <td>37</td>\n",
       "      <td>services</td>\n",
       "      <td>married</td>\n",
       "      <td>high.school</td>\n",
       "      <td>no</td>\n",
       "      <td>yes</td>\n",
       "      <td>no</td>\n",
       "      <td>telephone</td>\n",
       "      <td>may</td>\n",
       "      <td>mon</td>\n",
       "      <td>226</td>\n",
       "      <td>1</td>\n",
       "      <td>999</td>\n",
       "      <td>0</td>\n",
       "      <td>nonexistent</td>\n",
       "      <td>1.1</td>\n",
       "      <td>93.994</td>\n",
       "      <td>-36.4</td>\n",
       "      <td>4.857</td>\n",
       "      <td>5191.0</td>\n",
       "      <td>no</td>\n",
       "    </tr>\n",
       "    <tr>\n",
       "      <th>3</th>\n",
       "      <td>40</td>\n",
       "      <td>admin.</td>\n",
       "      <td>married</td>\n",
       "      <td>basic.6y</td>\n",
       "      <td>no</td>\n",
       "      <td>no</td>\n",
       "      <td>no</td>\n",
       "      <td>telephone</td>\n",
       "      <td>may</td>\n",
       "      <td>mon</td>\n",
       "      <td>151</td>\n",
       "      <td>1</td>\n",
       "      <td>999</td>\n",
       "      <td>0</td>\n",
       "      <td>nonexistent</td>\n",
       "      <td>1.1</td>\n",
       "      <td>93.994</td>\n",
       "      <td>-36.4</td>\n",
       "      <td>4.857</td>\n",
       "      <td>5191.0</td>\n",
       "      <td>no</td>\n",
       "    </tr>\n",
       "    <tr>\n",
       "      <th>4</th>\n",
       "      <td>56</td>\n",
       "      <td>services</td>\n",
       "      <td>married</td>\n",
       "      <td>high.school</td>\n",
       "      <td>no</td>\n",
       "      <td>no</td>\n",
       "      <td>yes</td>\n",
       "      <td>telephone</td>\n",
       "      <td>may</td>\n",
       "      <td>mon</td>\n",
       "      <td>307</td>\n",
       "      <td>1</td>\n",
       "      <td>999</td>\n",
       "      <td>0</td>\n",
       "      <td>nonexistent</td>\n",
       "      <td>1.1</td>\n",
       "      <td>93.994</td>\n",
       "      <td>-36.4</td>\n",
       "      <td>4.857</td>\n",
       "      <td>5191.0</td>\n",
       "      <td>no</td>\n",
       "    </tr>\n",
       "  </tbody>\n",
       "</table>\n",
       "</div>"
      ],
      "text/plain": [
       "   age        job  marital    education  default housing loan    contact  \\\n",
       "0   56  housemaid  married     basic.4y       no      no   no  telephone   \n",
       "1   57   services  married  high.school  unknown      no   no  telephone   \n",
       "2   37   services  married  high.school       no     yes   no  telephone   \n",
       "3   40     admin.  married     basic.6y       no      no   no  telephone   \n",
       "4   56   services  married  high.school       no      no  yes  telephone   \n",
       "\n",
       "  month day_of_week  duration  campaign  pdays  previous     poutcome  \\\n",
       "0   may         mon       261         1    999         0  nonexistent   \n",
       "1   may         mon       149         1    999         0  nonexistent   \n",
       "2   may         mon       226         1    999         0  nonexistent   \n",
       "3   may         mon       151         1    999         0  nonexistent   \n",
       "4   may         mon       307         1    999         0  nonexistent   \n",
       "\n",
       "   emp.var.rate  cons.price.idx  cons.conf.idx  euribor3m  nr.employed   y  \n",
       "0           1.1          93.994          -36.4      4.857       5191.0  no  \n",
       "1           1.1          93.994          -36.4      4.857       5191.0  no  \n",
       "2           1.1          93.994          -36.4      4.857       5191.0  no  \n",
       "3           1.1          93.994          -36.4      4.857       5191.0  no  \n",
       "4           1.1          93.994          -36.4      4.857       5191.0  no  "
      ]
     },
     "execution_count": 36,
     "metadata": {},
     "output_type": "execute_result"
    }
   ],
   "source": [
    "df.head()"
   ]
  },
  {
   "cell_type": "markdown",
   "metadata": {},
   "source": [
    "__Задание 3 (0.5 балла).__ Разделите выборку на обучающую и тестовую в соотношении 3:1. Зафиксируйте `random_state=777`, также используйте `stratify`. Один из столбцов в данных не несет информации для решения задачи — какой? Отбросьте его. \n",
    "\n"
   ]
  },
  {
   "cell_type": "markdown",
   "metadata": {},
   "source": [
    "*Лишний столбец - `duration`, поскольку признак продолжительности звонка нельзя использовать при построении модели - при новом звонке его продолжительность заранее неизвестна, а при окончании звонка значение целевой переменной известно.*"
   ]
  },
  {
   "cell_type": "code",
   "execution_count": 37,
   "metadata": {},
   "outputs": [],
   "source": [
    "y_3 = df.y\n",
    "X_3 = df.drop(columns=['y', 'duration'])\n",
    "X_3_train, X_3_test, y_3_train, y_3_test = train_test_split(X_3, y_3, test_size=0.25, random_state=777, stratify=y_3)"
   ]
  },
  {
   "cell_type": "code",
   "execution_count": 38,
   "metadata": {},
   "outputs": [],
   "source": [
    "# from bank-additional-names.txt\n",
    "numerical = ['age', 'campaign', 'pdays', 'previous', 'emp.var.rate', 'cons.price.idx', 'cons.conf.idx', 'euribor3m', 'nr.employed']\n",
    "categorical = ['job', 'marital', 'education', 'default', 'housing', 'loan', 'contact', 'month', 'day_of_week', 'poutcome']"
   ]
  },
  {
   "cell_type": "markdown",
   "metadata": {},
   "source": [
    "Закодируйте категориальные признаки с помощью `OrdinalEncoder`. Посчитайте качество (в этом задании будем работать c `AUC-PR`) при применении логистической регрессии. Замерьте время, потребовавшееся на обучение модели (с учетом кодирования признаков).\n",
    "\n",
    "__Вопрос__: почему в данном задании мы выбрали метрикой именно `AUC-PR`, а не, к примеру, `AUC-ROC`?\n",
    "\n",
    "__Ваш ответ__: *По заданию положительный класс более важен, чем отрицательный, в том смысле, что компанию больше интересует случай, когда клиент соглашается открыть депозит. ROC-кривая, в отличие от precision-recall-кривой, не зависит от распределения p(y = 1), а эта вероятность как раз важна в данной задаче.*"
   ]
  },
  {
   "cell_type": "code",
   "execution_count": 39,
   "metadata": {},
   "outputs": [],
   "source": [
    "from sklearn.compose import ColumnTransformer\n",
    "from sklearn.preprocessing import OrdinalEncoder\n",
    "\n",
    "column_transformer = ColumnTransformer([\n",
    "    ('ordenc', OrdinalEncoder(), categorical)\n",
    "])\n",
    "\n",
    "lr_pipeline_2 = Pipeline([\n",
    "    ('col', column_transformer),\n",
    "    ('scaling', StandardScaler()),\n",
    "    ('lr', LogisticRegression(penalty='l2'))\n",
    "])"
   ]
  },
  {
   "cell_type": "code",
   "execution_count": 40,
   "metadata": {},
   "outputs": [
    {
     "name": "stdout",
     "output_type": "stream",
     "text": [
      "Best parameter C: 0.2069\n",
      "Train AUC-PR: 0.2916\n",
      "Test AUC-PR: 0.3072\n"
     ]
    }
   ],
   "source": [
    "# Logistic regression\n",
    "reg_Cs = np.logspace(-2, 3, 20)\n",
    "lr_3 = GridSearchCV(lr_pipeline_2, {\"lr__C\": reg_Cs}, cv=5)\n",
    "model = lr_3.fit(X_3_train, y_3_train)\n",
    "\n",
    "print('Best parameter C: %.4f' % lr_3.best_params_['lr__C'])\n",
    "best_lr_model_3 = lr_3.best_estimator_\n",
    "b_train_preds_3 = best_lr_model_3.decision_function(X_3_train)\n",
    "print('Train AUC-PR: %.4f' % average_precision_score(y_3_train, b_train_preds_3, pos_label='yes'))\n",
    "b_preds_3 = best_lr_model_3.decision_function(X_3_test)\n",
    "print('Test AUC-PR: %.4f' % average_precision_score(y_3_test, b_preds_3, pos_label='yes'))"
   ]
  },
  {
   "cell_type": "markdown",
   "metadata": {},
   "source": [
    "*OrdinalEncoder fitting time:*"
   ]
  },
  {
   "cell_type": "code",
   "execution_count": 41,
   "metadata": {},
   "outputs": [
    {
     "name": "stdout",
     "output_type": "stream",
     "text": [
      "218 ms ± 15 ms per loop (mean ± std. dev. of 7 runs, 10 loops each)\n"
     ]
    }
   ],
   "source": [
    "%%timeit\n",
    "best_lr_model_3.fit(X_3_train, y_3_train)"
   ]
  },
  {
   "cell_type": "markdown",
   "metadata": {},
   "source": [
    "__Задание 4 (0.5 балла).__ Закодируйте все категориальные признаки с помощью one-hot-кодирования. Обучите логистическую регрессию и посмотрите, как изменилось качество модели (с тем, что было до кодирования). Измерьте время, потребовавшееся на кодирование категориальных признаков и обучение модели.\n",
    "\n"
   ]
  },
  {
   "cell_type": "code",
   "execution_count": 42,
   "metadata": {},
   "outputs": [],
   "source": [
    "from sklearn.preprocessing import OneHotEncoder\n",
    "column_transformer_4 = ColumnTransformer([\n",
    "    ('ohe', OneHotEncoder(handle_unknown=\"ignore\"), categorical),\n",
    "    ('scaling', StandardScaler(), numerical)\n",
    "])\n",
    "\n",
    "lr_pipeline_4 = Pipeline([\n",
    "    ('col', column_transformer_4),\n",
    "    ('lr', LogisticRegression(penalty='l2', max_iter=1000))\n",
    "])"
   ]
  },
  {
   "cell_type": "code",
   "execution_count": 43,
   "metadata": {},
   "outputs": [
    {
     "name": "stdout",
     "output_type": "stream",
     "text": [
      "Best parameter C: 0.0336\n",
      "Train AUC-PR: 0.4549\n",
      "Test AUC-PR: 0.4486\n"
     ]
    }
   ],
   "source": [
    "# Logistic regression\n",
    "reg_Cs = np.logspace(-2, 3, 20)\n",
    "lr_4 = GridSearchCV(lr_pipeline_4, {\"lr__C\": reg_Cs}, cv=5)\n",
    "model = lr_4.fit(X_3_train, y_3_train)\n",
    "\n",
    "print('Best parameter C: %.4f' % lr_4.best_params_['lr__C'])\n",
    "best_lr_model_4 = lr_4.best_estimator_\n",
    "\n",
    "b_train_preds_4 = best_lr_model_4.decision_function(X_3_train)\n",
    "print('Train AUC-PR: %.4f' % average_precision_score(y_3_train, b_train_preds_4, pos_label='yes'))\n",
    "b_preds_4 = best_lr_model_4.decision_function(X_3_test)\n",
    "print('Test AUC-PR: %.4f' % average_precision_score(y_3_test, b_preds_4, pos_label='yes'))"
   ]
  },
  {
   "cell_type": "markdown",
   "metadata": {},
   "source": [
    "*Качество модели улучшилось, относительно качества при `OrdinalEncoder` примерно в 1.5 раза.*"
   ]
  },
  {
   "cell_type": "markdown",
   "metadata": {},
   "source": [
    "*OneHotEncoder fitting time:*"
   ]
  },
  {
   "cell_type": "code",
   "execution_count": 44,
   "metadata": {},
   "outputs": [
    {
     "name": "stdout",
     "output_type": "stream",
     "text": [
      "505 ms ± 22.8 ms per loop (mean ± std. dev. of 7 runs, 1 loop each)\n"
     ]
    }
   ],
   "source": [
    "%%timeit\n",
    "best_lr_model_4.fit(X_3_train, y_3_train)"
   ]
  },
  {
   "cell_type": "markdown",
   "metadata": {},
   "source": [
    "Как можно было заметить, one-hot-кодирование может сильно увеличивать количество признаков в датасете, что сказывается на памяти, особенно, если некоторый признак имеет большое количество значений. Эту проблему решает другой способ кодирования категориальных признаков — счётчики. Основная идея в том, что нам важны не сами категории, а значения целевой переменной, которые имеют объекты этой категории. Каждый категориальный признак мы заменим средним значением целевой переменной по всем объектам этой же категории:\n",
    "$$\n",
    "g_j(x, X) = \\frac{\\sum_{i=1}^{l} [f_j(x) = f_j(x_i)][y_i = +1]}{\\sum_{i=1}^{l} [f_j(x) = f_j(x_i)]}\n",
    "$$\n",
    "\n",
    "__Задание 5 (1 балл).__ Закодируйте категориальные переменные с помощью счётчиков (ровно так, как описано выше без каких-либо хитростей). Обучите логистическую регрессию и посмотрите на качество модели на тестовом множестве. Сравните время обучения с предыдущими экспериментами (с учетом кодирования признаков). Заметили ли вы что-то интересное?\n",
    "\n",
    "\n",
    "__Бонус (1 балл)__: Здесь и далее реализуйте вычисление счетчиков с помощью трансформера (наследуйтесь от классов `BaseEstimator, TransformerMixin` из `sklearn.base`). Обратите внимание, что все вычисления должны быть векторизованными, трансформер не должен модифицировать передаваемую ему выборку inplace, а все необходимые статистики нужно считать только по обучающей выборке в методе `fit`. Ваш трансформер должен принимать при инициализации список из категориальных признаков и изменять только их. \n"
   ]
  },
  {
   "cell_type": "code",
   "execution_count": 45,
   "metadata": {},
   "outputs": [],
   "source": [
    "# COMPILE ONCE ONLY\n",
    "# to prevent warning\n",
    "X_3_train = X_3_train.copy()\n",
    "X_3_test = X_3_test.copy()\n",
    "y_3_train = y_3_train.copy()\n",
    "y_3_test = y_3_test.copy()\n",
    "\n",
    "# transform target into binary\n",
    "y_3_train = 1 * (y_3_train == 'yes')\n",
    "y_3_test = 1 * (y_3_test == 'yes')"
   ]
  },
  {
   "cell_type": "code",
   "execution_count": 46,
   "metadata": {},
   "outputs": [],
   "source": [
    "from sklearn.base import BaseEstimator, TransformerMixin\n",
    "from collections import defaultdict\n",
    "class CountEncoder (BaseEstimator, TransformerMixin):\n",
    "    def __init__(self, columns):\n",
    "        self.new_values = defaultdict(list)\n",
    "        self.columns = columns\n",
    "        \n",
    "    def fit(self, X, y):\n",
    "        X_copy = X.copy()\n",
    "        for col in self.columns:\n",
    "            self.new_values[col] = defaultdict()\n",
    "            for value in X_copy[col].unique():\n",
    "                self.new_values[col][value] = np.mean(y[X_copy[col] == value])    # for each value in category get its mean target\n",
    "        return self\n",
    "    \n",
    "    def transform(self, X):\n",
    "        X_copy = X.copy()\n",
    "        for col in self.columns:\n",
    "            X_copy.loc[:,'count_'+col] = X_copy[col].copy()\n",
    "            for value in X_copy[col].unique():\n",
    "                if not (value in self.new_values[col]):\n",
    "                    X_copy.loc[X_copy[col] == value, 'count_' + col] = 0.5    # if value was not present in fit\n",
    "                else:\n",
    "                    X_copy.loc[X_copy[col] == value, 'count_' + col] = self.new_values[col][value]\n",
    "        \n",
    "        X_copy.drop(columns=self.columns, inplace=True)\n",
    "        return X_copy\n",
    "    \n",
    "    def new_values(self):\n",
    "        return self.new_values"
   ]
  },
  {
   "cell_type": "code",
   "execution_count": 47,
   "metadata": {},
   "outputs": [],
   "source": [
    "lr_pipeline_5_ = Pipeline([\n",
    "    ('cntenc', CountEncoder(categorical)),\n",
    "    ('scaling', StandardScaler()),\n",
    "    ('lr', LogisticRegression(penalty='l2', max_iter=1000))\n",
    "])"
   ]
  },
  {
   "cell_type": "code",
   "execution_count": 48,
   "metadata": {},
   "outputs": [],
   "source": [
    "# Logistic regression\n",
    "reg_Cs = np.logspace(-2, 3, 20)\n",
    "lr_5_ = GridSearchCV(lr_pipeline_5_, {\"lr__C\": reg_Cs}, cv=5)\n",
    "model = lr_5_.fit(X_3_train, y_3_train)"
   ]
  },
  {
   "cell_type": "code",
   "execution_count": 49,
   "metadata": {},
   "outputs": [
    {
     "name": "stdout",
     "output_type": "stream",
     "text": [
      "Best parameter C: 14.3845\n",
      "Train AUC-PR: 0.4439\n",
      "Test AUC-PR: 0.4430\n"
     ]
    }
   ],
   "source": [
    "print('Best parameter C: %.4f' % lr_5_.best_params_['lr__C'])\n",
    "best_lr_model_5_ = lr_5_.best_estimator_\n",
    "\n",
    "b_train_preds_5_ = best_lr_model_5_.decision_function(X_3_train)\n",
    "print('Train AUC-PR: %.4f' % average_precision_score(y_3_train, b_train_preds_5_))\n",
    "b_preds_5_ = best_lr_model_5_.decision_function(X_3_test)\n",
    "print('Test AUC-PR: %.4f' % average_precision_score(y_3_test, b_preds_5_))"
   ]
  },
  {
   "cell_type": "markdown",
   "metadata": {},
   "source": [
    "*CountEncoder fitting time:*"
   ]
  },
  {
   "cell_type": "code",
   "execution_count": 50,
   "metadata": {},
   "outputs": [
    {
     "name": "stdout",
     "output_type": "stream",
     "text": [
      "796 ms ± 35.6 ms per loop (mean ± std. dev. of 7 runs, 1 loop each)\n"
     ]
    }
   ],
   "source": [
    "%%timeit\n",
    "best_lr_model_5_.fit(X_3_train, y_3_train)"
   ]
  },
  {
   "cell_type": "markdown",
   "metadata": {},
   "source": [
    "**Вывод:** *Самое быстрое время обучения при использовании `OrdinalEncoder` ~ 0.2s, при использовании `OneHotEncoder` время увеличивается до 0.5s, при использовании счётчика - время обучения равно ~0.8s (чуть больше при реализации трансформера). При использовании `OrdinalEncoder` значение метрики AUC-PR получилось небольшим - 0.3072 (из кодирования категориальных признаков числами не получаем значимую информацию). При использовании `OneHotEncoder` и `CountEncoder` AUC-PR получились больше - 0.449 и 0.443 соответственно. Заметим, что при использовании счётчиков значение метрики на тестовой выборке чуть хуже, чем при one-hot-кодировании, возможно, при обучении с счётчиками модель подстраивается под обучающую выборку, из-за чего качество на тестовой выборке ухудшается.*"
   ]
  },
  {
   "cell_type": "markdown",
   "metadata": {},
   "source": [
    "Отметим, что такие признаки сами по себе являются классификаторами и, обучаясь на них, мы допускаем \"утечку\" целевой переменной в признаки. Это ведёт к переобучению, поэтому считать такие признаки необходимо таким образом, чтобы при вычислении для конкретного объекта его целевая метка не использовалась. Это можно делать следующими способами:\n",
    "1. Вычислять значение счётчика по всем объектам расположенным выше в датасете (например, если у нас выборка отсортирована по времени).\n",
    "2. Вычислять по фолдам, то есть делить выборку на некоторое количество частей и подсчитывать значение признаков по всем фолдам кроме текущего (как делается в кросс-валидации).\n",
    "3. Внесение некоторого шума в посчитанные признаки. \n",
    "\n",
    "__Задание 6.__ Реализуйте корректное вычисление счётчиков самым простым способом — добавление шума к значениям (постарайтесь найти баланс между борьбой с переобучением и сохранением полезности признаков). Снова обучите логистическую регрессию, оцените качество. Сделайте выводы.\n",
    "\n",
    "__(0.5 балла)__"
   ]
  },
  {
   "cell_type": "code",
   "execution_count": 51,
   "metadata": {},
   "outputs": [],
   "source": [
    "class CountEncoderWithNoise (BaseEstimator, TransformerMixin):\n",
    "    def __init__(self, columns, std_dev=1):\n",
    "        self.new_values = defaultdict(list)\n",
    "        self.columns = columns\n",
    "        self.std_dev = std_dev    # hyperparameter: standard deviation for noise\n",
    "        \n",
    "    def fit(self, X, y):\n",
    "        X_copy = X.copy()\n",
    "        for col in self.columns:\n",
    "            self.new_values[col] = defaultdict()\n",
    "            for value in X_copy[col].unique():\n",
    "                self.new_values[col][value] = np.mean(y[X_copy[col] == value])    # for each value in category get its mean target\n",
    "        return self\n",
    "    \n",
    "    def transform(self, X):\n",
    "        X_copy = X.copy()\n",
    "        for col in self.columns:\n",
    "            X_copy.loc[:,'count_' + col] = X_copy[col].copy()\n",
    "            for value in X_copy[col].unique():\n",
    "                if not (value in self.new_values[col]):\n",
    "                    X_copy.loc[X_copy[col] == value, 'count_'+col] = 0.5    # if value was not present in fit\n",
    "                else:\n",
    "                    X_copy.loc[X_copy[col] == value, 'count_'+col] = self.new_values[col][value]\n",
    "            X_copy.loc[:,'count_' + col] += np.random.normal(0, self.std_dev, X_copy.shape[0])    # add noise\n",
    "        \n",
    "        X_copy.drop(columns=self.columns, inplace=True)\n",
    "        return X_copy\n",
    "    \n",
    "    def new_values(self):\n",
    "        return self.new_values"
   ]
  },
  {
   "cell_type": "code",
   "execution_count": 52,
   "metadata": {},
   "outputs": [],
   "source": [
    "lr_pipeline_6 = Pipeline([\n",
    "    ('cntenc', CountEncoderWithNoise(categorical)),\n",
    "    ('scaling', StandardScaler()),\n",
    "    ('lr', LogisticRegression(penalty='l2', max_iter=1000))\n",
    "])"
   ]
  },
  {
   "cell_type": "code",
   "execution_count": 53,
   "metadata": {},
   "outputs": [],
   "source": [
    "noise_devs = np.logspace(-2, 3, 5)\n",
    "reg_Cs = np.logspace(-2, 3, 20)\n",
    "lr_6 = GridSearchCV(lr_pipeline_6, {\"cntenc__std_dev\": noise_devs, \"lr__C\":reg_Cs}, cv=3)\n",
    "model = lr_6.fit(X_3_train, y_3_train)"
   ]
  },
  {
   "cell_type": "code",
   "execution_count": 54,
   "metadata": {},
   "outputs": [
    {
     "name": "stdout",
     "output_type": "stream",
     "text": [
      "Best parameters: C = 48.3293 \t noise std. dev. = 1000.0000\n",
      "Train AUC-PR: 0.4181\n",
      "Test AUC-PR: 0.4237\n"
     ]
    }
   ],
   "source": [
    "print('Best parameters: C = %.4f \\t noise std. dev. = %.4f' % \n",
    "      (lr_6.best_params_['lr__C'], lr_6.best_params_['cntenc__std_dev']))\n",
    "best_lr_model_6 = lr_6.best_estimator_\n",
    "\n",
    "b_train_preds_6 = best_lr_model_6.decision_function(X_3_train)\n",
    "print('Train AUC-PR: %.4f' % average_precision_score(y_3_train, b_train_preds_6))\n",
    "b_preds_6 = best_lr_model_6.decision_function(X_3_test)\n",
    "print('Test AUC-PR: %.4f' % average_precision_score(y_3_test, b_preds_6))"
   ]
  },
  {
   "cell_type": "markdown",
   "metadata": {},
   "source": [
    "*CountEncoderWithNoise fitting time:*"
   ]
  },
  {
   "cell_type": "code",
   "execution_count": 55,
   "metadata": {},
   "outputs": [
    {
     "name": "stdout",
     "output_type": "stream",
     "text": [
      "982 ms ± 39.7 ms per loop (mean ± std. dev. of 7 runs, 1 loop each)\n"
     ]
    }
   ],
   "source": [
    "%%timeit\n",
    "best_lr_model_6.fit(X_3_train, y_3_train)"
   ]
  },
  {
   "cell_type": "markdown",
   "metadata": {},
   "source": [
    "*Как можно заметить, качество модели в целом уменьшилось на 0.2, однако с добавлением шума решили проблему с переобучением - до этого можно было видеть, что качество на обучающей выборке заметно лучше, чем на тестовой, теперь же модель не так сильно подстраивается под обучающую выборку.*"
   ]
  },
  {
   "cell_type": "markdown",
   "metadata": {},
   "source": [
    "__(Бонусная часть, 0.5 балла)__ Посчитайте корректные счётчики первым или вторым способов из описанных выше (не забудьте добавить и шум). \n",
    "\n"
   ]
  },
  {
   "cell_type": "markdown",
   "metadata": {},
   "source": [
    "*Реализуем кодирование кросс-валидацией:*"
   ]
  },
  {
   "cell_type": "code",
   "execution_count": 155,
   "metadata": {},
   "outputs": [],
   "source": [
    "from sklearn.model_selection import KFold\n",
    "class TargetCVEncoder (BaseEstimator, TransformerMixin):\n",
    "    def __init__(self, columns, cv_folds=3, std_dev=1):\n",
    "        self.columns = columns\n",
    "        self.std_dev = std_dev    # hyperparameter: standard deviation for noise\n",
    "        self.cv_folds = cv_folds\n",
    "        self.y_fit = None\n",
    "        \n",
    "    def fit(self, X, y):\n",
    "        self.y_fit = y\n",
    "        return self\n",
    "    \n",
    "    def transform(self, X):\n",
    "        X_copy = X.copy()\n",
    "        n = X_copy.shape[1]\n",
    "        kf = KFold(n_splits=self.cv_folds)\n",
    "        y = self.y_fit\n",
    "        for i in range(len(self.columns)):\n",
    "            col = self.columns[i]\n",
    "            X_copy.loc[:,'count_' + col] = 0\n",
    "            for train_index, test_index in kf.split(X_copy):\n",
    "                new_values = {}\n",
    "                X_train = X_copy.iloc[train_index,i]\n",
    "                y_train = y.iloc[train_index]\n",
    "                for value in X_train.unique():\n",
    "                    new_values[value] = np.mean(y_train.loc[X_train == value])\n",
    "                for value in X_copy.iloc[test_index,i].unique():\n",
    "                    if not (value in new_values):\n",
    "                        X_copy.iloc[test_index,n + i] = 0.5    # if value was not present in fit\n",
    "                    else:\n",
    "                        X_copy.iloc[test_index,n + i] = new_values[value]\n",
    "                X_copy.iloc[test_index,n + i] += np.random.normal(0, self.std_dev, len(test_index))    # add noise\n",
    "        \n",
    "        X_copy.drop(columns=self.columns, inplace=True)\n",
    "        return X_copy"
   ]
  },
  {
   "cell_type": "code",
   "execution_count": 156,
   "metadata": {},
   "outputs": [],
   "source": [
    "lr_pipeline_6_ = Pipeline([\n",
    "    ('tecv', TargetCVEncoder(categorical)),\n",
    "    ('scaling', StandardScaler()),\n",
    "    ('lr', LogisticRegression(penalty='l2', max_iter=1000))\n",
    "])"
   ]
  },
  {
   "cell_type": "code",
   "execution_count": 161,
   "metadata": {},
   "outputs": [
    {
     "data": {
      "text/plain": [
       "Pipeline(steps=[('tecv',\n",
       "                 TargetCVEncoder(columns=['job', 'marital', 'education',\n",
       "                                          'default', 'housing', 'loan',\n",
       "                                          'contact', 'month', 'day_of_week',\n",
       "                                          'poutcome'])),\n",
       "                ('scaling', StandardScaler()),\n",
       "                ('lr', LogisticRegression(max_iter=1000))])"
      ]
     },
     "execution_count": 161,
     "metadata": {},
     "output_type": "execute_result"
    }
   ],
   "source": [
    "lr_pipeline_6_.fit(X_3, (y_3 == 'yes'))"
   ]
  },
  {
   "cell_type": "code",
   "execution_count": 163,
   "metadata": {},
   "outputs": [
    {
     "name": "stdout",
     "output_type": "stream",
     "text": [
      "AUC-PR: 0.4195\n"
     ]
    }
   ],
   "source": [
    "b_train_preds_6_ = lr_pipeline_6_.decision_function(X_3)\n",
    "print('AUC-PR: %.4f' % average_precision_score((y_3 == 'yes'), b_train_preds_6_))"
   ]
  },
  {
   "cell_type": "markdown",
   "metadata": {},
   "source": [
    "*Качество модели хуже предыдущих рассмотренных вариантов.*"
   ]
  },
  {
   "cell_type": "markdown",
   "metadata": {},
   "source": [
    "А теперь ответьте на следующий вопрос: что будет, если некоторая категория встречается в выборке всего несколько раз? \n",
    "\n",
    "**Ответ:** *при использовании счётчиков для редких значений можно получить некорректные средние значения (например, при регрессии для объектов одного редкого значения получаются маленькие значения целевой переменной, тогда после кодирования это значение будет небольшим).*  \n",
    "\n",
    "По этой причине производится сглаживание счётчиков. Например, на практике хорошие результаты показывает использование сглаживания средним по всей выборке:\n",
    "$$\n",
    "g_j(x, X) = \\frac{\\sum_{i=1}^{\\ell} [f_j(x) = f_j(x_i)][y_i = +1] + C \\times global\\_mean}{\\sum_{i=1}^{\\ell} [f_j(x) = f_j(x_i)] + C}\n",
    "$$\n",
    "где $global\\_mean$ — доля объектов положительного класса в выборке, $C$ — параметр, определяющий степень сглаживания (например, можно использовать 10 или подобрать для каждого признака свой). Основная идея в том, что мы \"разбавляем\" среднее значение по некоторой категории глобальным средним значением. И тем меньше, чем большее количество объектов этой категории встречается в выборке. \n",
    "\n",
    "Однако для сглаживания вместо среднего значения целевой переменной можно использовать любое другое значение от 0 до 1 (этот параметр иногда называют $prior$). Можно сделать несколько признаков с разными значениями параметра. На практике в задачах бинарной классификации полезными бывают даже отрицательные значения!\n"
   ]
  },
  {
   "cell_type": "markdown",
   "metadata": {},
   "source": [
    "__Задание 7 (1 балл).__ Добавьте сглаживание, описанное выше и повторите эксперименты."
   ]
  },
  {
   "cell_type": "code",
   "execution_count": 57,
   "metadata": {},
   "outputs": [],
   "source": [
    "from scipy.sparse import issparse\n",
    "class TargetEncoderWithSmoothing (BaseEstimator, TransformerMixin):\n",
    "    def __init__(self, columns, C=1):\n",
    "        self.new_values = defaultdict(list)\n",
    "        self.columns = columns\n",
    "        self.C = C\n",
    "        \n",
    "    def fit(self, X, y):\n",
    "        X_copy = X.copy()\n",
    "        #if (issparse(X_copy)):\n",
    "        #    X_copy = pd.DataFrame.sparse.from_spmatrix(X_copy)\n",
    "        for col in self.columns:\n",
    "            self.new_values[col] = defaultdict()\n",
    "            for value in X_copy[col].unique():\n",
    "                features = (X_copy[col] == value)\n",
    "                self.new_values[col][value] = (np.sum(y[features]) + self.C * np.mean(y)) / (len(features) + self.C)    # with smoothing\n",
    "        return self\n",
    "    \n",
    "    def transform(self, X):\n",
    "        X_copy = X.copy()\n",
    "        for col in self.columns:\n",
    "            X_copy.loc[:,'count_' + col] = X_copy[col].copy()\n",
    "            for value in X_copy[col].unique():\n",
    "                if not (value in self.new_values[col]):\n",
    "                    X_copy.loc[X_copy[col] == value, 'count_' + col] = 0.5    # if value was not present in fit\n",
    "                else:\n",
    "                    X_copy.loc[X_copy[col] == value, 'count_' + col] = self.new_values[col][value]\n",
    "                    \n",
    "        X_copy.drop(columns=self.columns, inplace=True)\n",
    "        return X_copy\n",
    "    \n",
    "    def new_values(self):\n",
    "        return self.new_values"
   ]
  },
  {
   "cell_type": "code",
   "execution_count": 58,
   "metadata": {},
   "outputs": [],
   "source": [
    "lr_pipeline_7 = Pipeline([\n",
    "    ('tse', TargetEncoderWithSmoothing(categorical)),\n",
    "    ('scaling', StandardScaler()),\n",
    "    ('lr', LogisticRegression(penalty='l2', max_iter=1000))\n",
    "])"
   ]
  },
  {
   "cell_type": "code",
   "execution_count": 59,
   "metadata": {},
   "outputs": [],
   "source": [
    "enc_Cs = np.logspace(-2, 3, 10)\n",
    "reg_Cs = np.logspace(-2, 3, 10)\n",
    "lr_7 = GridSearchCV(lr_pipeline_7, {\"tse__C\": enc_Cs, \"lr__C\":reg_Cs}, cv=3)\n",
    "model = lr_7.fit(X_3_train, y_3_train)"
   ]
  },
  {
   "cell_type": "code",
   "execution_count": 60,
   "metadata": {},
   "outputs": [
    {
     "name": "stdout",
     "output_type": "stream",
     "text": [
      "Best parameters: Regression C = 1.6681 \t Encoder C = 0.0100\n",
      "Train AUC-PR: 0.4438\n",
      "Test AUC-PR: 0.4422\n"
     ]
    }
   ],
   "source": [
    "print('Best parameters: Regression C = %.4f \\t Encoder C = %.4f' % \n",
    "      (lr_7.best_params_['lr__C'], lr_7.best_params_['tse__C']))\n",
    "best_lr_model_7 = lr_7.best_estimator_\n",
    "\n",
    "b_train_preds_7 = best_lr_model_7.decision_function(X_3_train)\n",
    "print('Train AUC-PR: %.4f' % average_precision_score(y_3_train, b_train_preds_7))\n",
    "b_preds_7 = best_lr_model_7.decision_function(X_3_test)\n",
    "print('Test AUC-PR: %.4f' % average_precision_score(y_3_test, b_preds_7))"
   ]
  },
  {
   "cell_type": "markdown",
   "metadata": {},
   "source": [
    "*TargetEncoderWithSmoothing fitting time:*"
   ]
  },
  {
   "cell_type": "code",
   "execution_count": 61,
   "metadata": {},
   "outputs": [
    {
     "name": "stdout",
     "output_type": "stream",
     "text": [
      "941 ms ± 136 ms per loop (mean ± std. dev. of 7 runs, 1 loop each)\n"
     ]
    }
   ],
   "source": [
    "%%timeit\n",
    "best_lr_model_7.fit(X_3_train, y_3_train)"
   ]
  },
  {
   "cell_type": "markdown",
   "metadata": {},
   "source": [
    "__Задание 8 (0.5 балла).__ В данных имеется признак \"возраст клиента\". Сейчас мы интерпретируем его как числовой, что в общем случае для линейной модели может быть неверной гипотезой. Тем не менее, у этого признака есть довольно много уникальных значений (сколько?), поэтому применять к нему one-hot кодирование может оказаться излишним. Попробуйте закодировать возраст с помощью счетчиков. Стало ли лучше?\n",
    "\n"
   ]
  },
  {
   "cell_type": "code",
   "execution_count": 62,
   "metadata": {},
   "outputs": [
    {
     "name": "stdout",
     "output_type": "stream",
     "text": [
      "There are 78 unique values in feature 'age'.\n"
     ]
    }
   ],
   "source": [
    "print('There are', df.age.nunique(), 'unique values in feature \\'age\\'.')"
   ]
  },
  {
   "cell_type": "code",
   "execution_count": 63,
   "metadata": {},
   "outputs": [],
   "source": [
    "categorical_ohe = categorical\n",
    "categorical_te = ['age']\n",
    "numerical = list(set(numerical) - set(['age']))"
   ]
  },
  {
   "cell_type": "code",
   "execution_count": 64,
   "metadata": {},
   "outputs": [],
   "source": [
    "te_and_scaling = Pipeline([\n",
    "    ('tse', TargetEncoderWithSmoothing(categorical_te)),\n",
    "    ('scaling', StandardScaler())    \n",
    "])\n",
    "\n",
    "column_transformer_8 = ColumnTransformer([\n",
    "    ('te_sc', te_and_scaling, numerical + categorical_te),\n",
    "    ('ohe', OneHotEncoder(handle_unknown=\"ignore\"), categorical_ohe)\n",
    "])\n",
    "\n",
    "lr_pipeline_8 = Pipeline([\n",
    "    ('col_tf', column_transformer_8),\n",
    "    ('lr', LogisticRegression(penalty='l2', max_iter=1000))\n",
    "])"
   ]
  },
  {
   "cell_type": "code",
   "execution_count": 65,
   "metadata": {},
   "outputs": [],
   "source": [
    "nc_Cs = np.logspace(-2, 3, 10)\n",
    "reg_Cs = np.logspace(-2, 3, 10)\n",
    "lr_8 = GridSearchCV(lr_pipeline_8, {\"col_tf__te_sc__tse__C\": enc_Cs, \"lr__C\":reg_Cs}, cv=3)\n",
    "model = lr_8.fit(X_3_train, y_3_train)"
   ]
  },
  {
   "cell_type": "code",
   "execution_count": 66,
   "metadata": {},
   "outputs": [
    {
     "name": "stdout",
     "output_type": "stream",
     "text": [
      "Best parameters: Regression C = 0.0100 \t Encoder C = 0.0100\n",
      "Train AUC-PR: 0.4512\n",
      "Test AUC-PR: 0.4446\n"
     ]
    }
   ],
   "source": [
    "print('Best parameters: Regression C = %.4f \\t Encoder C = %.4f' % \n",
    "      (lr_8.best_params_['lr__C'], lr_8.best_params_['col_tf__te_sc__tse__C']))\n",
    "best_lr_model_8 = lr_8.best_estimator_\n",
    "\n",
    "b_train_preds_8 = best_lr_model_8.decision_function(X_3_train)\n",
    "print('Train AUC-PR: %.4f' % average_precision_score(y_3_train, b_train_preds_8))\n",
    "b_preds_8 = best_lr_model_8.decision_function(X_3_test)\n",
    "print('Test AUC-PR: %.4f' % average_precision_score(y_3_test, b_preds_8))"
   ]
  },
  {
   "cell_type": "markdown",
   "metadata": {},
   "source": [
    "*C кодированием возрастного признака через счётчики качество модели улучшилось.*"
   ]
  },
  {
   "cell_type": "markdown",
   "metadata": {},
   "source": [
    "Можно пойти и в обратную сторону. У нас есть признаки \"месяц и день недели\" для звонка. Попробуйте интерпретировать их как числовые (месяц от 0 до 12, дни недели от 0 до 4). Стало ли лучше в этот раз?"
   ]
  },
  {
   "cell_type": "code",
   "execution_count": 67,
   "metadata": {},
   "outputs": [],
   "source": [
    "numerical_ord = ['day_of_week', 'month']\n",
    "categorical_ohe = list(set(categorical_ohe) - set(['day_of_week', 'month']))"
   ]
  },
  {
   "cell_type": "code",
   "execution_count": 68,
   "metadata": {},
   "outputs": [],
   "source": [
    "ord_enc_and_scaling = Pipeline([\n",
    "    ('ordenc', OrdinalEncoder()),\n",
    "    ('scaling', StandardScaler())\n",
    "])\n",
    "\n",
    "column_transformer_8_ = ColumnTransformer([\n",
    "    ('te_sc', te_and_scaling, numerical + categorical_te),\n",
    "    ('ord_sc', ord_enc_and_scaling, numerical_ord),\n",
    "    ('ohe', OneHotEncoder(handle_unknown=\"ignore\"), categorical_ohe)\n",
    "])\n",
    "\n",
    "lr_pipeline_8_ = Pipeline([\n",
    "    ('col_tf', column_transformer_8_),\n",
    "    ('lr', LogisticRegression(penalty='l2', max_iter=1000))\n",
    "])"
   ]
  },
  {
   "cell_type": "code",
   "execution_count": 69,
   "metadata": {},
   "outputs": [],
   "source": [
    "nc_Cs = np.logspace(-2, 3, 10)\n",
    "reg_Cs = np.logspace(-2, 3, 10)\n",
    "lr_8_ = GridSearchCV(lr_pipeline_8_, {\"col_tf__te_sc__tse__C\": enc_Cs, \"lr__C\":reg_Cs}, cv=3)\n",
    "model = lr_8_.fit(X_3_train, y_3_train)"
   ]
  },
  {
   "cell_type": "code",
   "execution_count": 70,
   "metadata": {
    "scrolled": true
   },
   "outputs": [
    {
     "name": "stdout",
     "output_type": "stream",
     "text": [
      "Best parameters: Regression C = 0.0359 \t Encoder C = 0.0100\n",
      "Train AUC-PR: 0.4479\n",
      "Test AUC-PR: 0.4397\n"
     ]
    }
   ],
   "source": [
    "print('Best parameters: Regression C = %.4f \\t Encoder C = %.4f' % \n",
    "      (lr_8_.best_params_['lr__C'], lr_8_.best_params_['col_tf__te_sc__tse__C']))\n",
    "best_lr_model_8_ = lr_8_.best_estimator_\n",
    "\n",
    "b_train_preds_8_ = best_lr_model_8_.decision_function(X_3_train)\n",
    "print('Train AUC-PR: %.4f' % average_precision_score(y_3_train, b_train_preds_8_))\n",
    "b_preds_8_ = best_lr_model_8_.decision_function(X_3_test)\n",
    "print('Test AUC-PR: %.4f' % average_precision_score(y_3_test, b_preds_8_))"
   ]
  },
  {
   "cell_type": "markdown",
   "metadata": {},
   "source": [
    "*После определения признаков \"месяц и день недели\" числовыми вместо категориальных, качество модели ухудшилось (примерно на 0.1).*"
   ]
  },
  {
   "cell_type": "markdown",
   "metadata": {},
   "source": [
    "__Замечание.__ Усложнение методов вычисления счётчиков не делают результаты модели гарантированно лучше. Особенно с учётом того, что логистическая регрессия не такая сложная модель, чтобы переобучаться. Поэтому вы необязательно должны были получать на каждом шаге всё лучшие и лучшие результаты (но необходимые результаты у вас должны были получиться).\n",
    "\n",
    "Как вы должны были заметить, счётчики являются хорошей альтернативой one-hot-кодированию. Напишите, какие плюсы и минусы использования счётчиков по сравнению с one-hot-кодированием вы заметили.\n",
    "\n",
    "__Ответ:__ *основным плюсом счётчиков относительно one-hot-кодирования - сохранение размерности (при one-hot-кодировании размерность очень сильно увеличивается, особенно если у признака много уникальных значений). Минусом счётчиков может быть возможное переобучение (из-за использования целевых переменных).*"
   ]
  },
  {
   "cell_type": "markdown",
   "metadata": {},
   "source": [
    "# Часть 2. Отбор признаков"
   ]
  },
  {
   "cell_type": "markdown",
   "metadata": {},
   "source": [
    "Важной частью процесса построения модели является отбор признаков. На практике многие признаки оказывают малое влияние на модель (при этом их расчёт занимает время) или даже негативно сказываются на качестве модели. Попробуем несколько подходов отбора признаков, оценим, как они влияют на качество модели и сколько времени занимают.\n",
    "\n",
    "Обратимся к тому же датасету про банковский телефонный маркетинг."
   ]
  },
  {
   "cell_type": "code",
   "execution_count": 87,
   "metadata": {},
   "outputs": [],
   "source": [
    "df = pd.read_csv('bank-additional/bank-additional-full.csv', sep=';')\n",
    "\n",
    "X_9 = df.drop(columns=['duration', 'y'])\n",
    "y_9 = (df.y == 'yes')\n",
    "\n",
    "X_9_train, X_9_test, y_9_train, y_9_test = train_test_split(X_9, y_9, test_size=0.2, random_state=777, stratify=y_9)"
   ]
  },
  {
   "cell_type": "markdown",
   "metadata": {},
   "source": [
    "Как вы помните, в данных много категориальных признаков (сейчас давайте интерпретировать возраст как числовой). Давайте закодируем их с помощью one-hot кодирования. Исходные колонки с категориальными признаками можно удалить. Сколько признаков мы получили?"
   ]
  },
  {
   "cell_type": "code",
   "execution_count": 88,
   "metadata": {},
   "outputs": [],
   "source": [
    "# from bank-additional-names.txt\n",
    "numerical = ['age', 'campaign', 'pdays', 'previous', 'emp.var.rate', 'cons.price.idx', 'cons.conf.idx', 'euribor3m', 'nr.employed']\n",
    "categorical = ['job', 'marital', 'education', 'default', 'housing', 'loan', 'contact', 'month', 'day_of_week', 'poutcome']"
   ]
  },
  {
   "cell_type": "code",
   "execution_count": 89,
   "metadata": {},
   "outputs": [
    {
     "name": "stdout",
     "output_type": "stream",
     "text": [
      "Number of features before one-hot-encoding: 19\n",
      "Number of features after one-hot-encoding: 62\n"
     ]
    }
   ],
   "source": [
    "column_transformer_9 = ColumnTransformer([\n",
    "    ('ohe', OneHotEncoder(handle_unknown=\"ignore\", sparse=False), categorical),\n",
    "    ('scaling', StandardScaler(), numerical)\n",
    "])\n",
    "print('Number of features before one-hot-encoding:', X_9.shape[1])\n",
    "print('Number of features after one-hot-encoding:', column_transformer_9.fit_transform(X_9, y_9).shape[1])"
   ]
  },
  {
   "cell_type": "markdown",
   "metadata": {},
   "source": [
    "В качестве основной модели будем использовать логистическую регрессию, а целевой метрики — `AUC-PR`. Обучите модель и посчитайте качество на тестовой выборке. Давайте запомним полученное значение."
   ]
  },
  {
   "cell_type": "code",
   "execution_count": 90,
   "metadata": {},
   "outputs": [],
   "source": [
    "lr_pipeline_9 = Pipeline([\n",
    "    ('col_tf', column_transformer_9),\n",
    "    ('lr', LogisticRegression(penalty='l2', max_iter=1000))\n",
    "])"
   ]
  },
  {
   "cell_type": "code",
   "execution_count": 91,
   "metadata": {
    "scrolled": false
   },
   "outputs": [],
   "source": [
    "reg_Cs = np.logspace(-2, 3, 20)\n",
    "lr_9 = GridSearchCV(lr_pipeline_9, {\"lr__C\": reg_Cs}, cv=5)\n",
    "model = lr_9.fit(X_9_train, y_9_train)"
   ]
  },
  {
   "cell_type": "code",
   "execution_count": 92,
   "metadata": {},
   "outputs": [
    {
     "name": "stdout",
     "output_type": "stream",
     "text": [
      "Best parameter C: 0.0336\n",
      "Train AUC-PR: 0.4547\n",
      "Test AUC-PR: 0.4487\n"
     ]
    }
   ],
   "source": [
    "print('Best parameter C: %.4f' % lr_9.best_params_['lr__C'])\n",
    "best_lr_model_9 = lr_9.best_estimator_\n",
    "\n",
    "b_train_preds_9 = best_lr_model_9.decision_function(X_9_train)\n",
    "b_preds_9 = best_lr_model_9.decision_function(X_9_test)\n",
    "aucpr_9 = average_precision_score(y_9_train, b_train_preds_9)\n",
    "aucpr_test_9 = average_precision_score(y_9_test, b_preds_9)\n",
    "print('Train AUC-PR: %.4f' % aucpr_9)\n",
    "print('Test AUC-PR: %.4f' % aucpr_test_9)"
   ]
  },
  {
   "cell_type": "markdown",
   "metadata": {},
   "source": [
    "### Встроенные методы"
   ]
  },
  {
   "cell_type": "markdown",
   "metadata": {},
   "source": [
    "Допустим, мы хотим оставить только 40 лучших признаков. Попробуем сделать это несколькими способами.\n",
    "\n",
    "Начнём с отбора признаков с помощью линейной модели. Как известно, веса линейной модели означают вклад каждого признака в предсказание модели, а значит, модуль этого вклада можно интерпретировать как важность признаков. Такой метод отбора называются встроенным или embedded methods, так как он заложен в особенности модели.\n",
    "\n",
    "__Задание 9 (0.5 балла).__ Оставьте 40 признаков с наибольшим модулем соответствующего параметра линейной модели. Обучите модели заново и оцените её качество. Замерьте скорость такого отбора признаков.\n",
    "\n",
    "Изменилось ли качество? Как?\n",
    "\n"
   ]
  },
  {
   "cell_type": "code",
   "execution_count": 93,
   "metadata": {},
   "outputs": [],
   "source": [
    "class FeatureReduction (BaseEstimator, TransformerMixin):\n",
    "    def __init__(self, ft_num, weights):\n",
    "        self.ft_num = ft_num\n",
    "        self.weights = weights\n",
    "        self.features = []\n",
    "    \n",
    "    def fit(self, X, y):\n",
    "        nth_max = sorted(abs(self.weights), reverse=True)[self.ft_num - 1]\n",
    "        self.features = np.where(abs(self.weights) >= nth_max)[0][:self.ft_num]    # get positions of n features with largest absolute weights\n",
    "        return self\n",
    "    \n",
    "    def transform(self, X):\n",
    "        X_copy = X.copy()\n",
    "        if (issparse(X_copy)): \n",
    "            X_copy = X_copy.toarray()\n",
    "        X_copy = X_copy[:, self.features]\n",
    "        return X_copy\n",
    "    \n",
    "    def get_feature_pos(self):\n",
    "        return self.features"
   ]
  },
  {
   "cell_type": "code",
   "execution_count": 94,
   "metadata": {},
   "outputs": [],
   "source": [
    "lr_pipeline_9_ = Pipeline([\n",
    "    ('col_tf', column_transformer_9),\n",
    "    ('red_ft', FeatureReduction(40, best_lr_model_9[1].coef_[0])),\n",
    "    ('lr', LogisticRegression(penalty='l2', max_iter=1000))\n",
    "])"
   ]
  },
  {
   "cell_type": "code",
   "execution_count": 95,
   "metadata": {},
   "outputs": [],
   "source": [
    "reg_Cs = np.logspace(-2, 3, 20)\n",
    "lr_9_ = GridSearchCV(lr_pipeline_9_, {\"lr__C\": reg_Cs}, cv=5)\n",
    "model = lr_9_.fit(X_9_train, y_9_train)"
   ]
  },
  {
   "cell_type": "code",
   "execution_count": 96,
   "metadata": {},
   "outputs": [
    {
     "name": "stdout",
     "output_type": "stream",
     "text": [
      "Best parameter C: 0.0616\n",
      "Train AUC-PR: 0.4561\n",
      "Test AUC-PR: 0.4495\n"
     ]
    }
   ],
   "source": [
    "print('Best parameter C: %.4f' % lr_9_.best_params_['lr__C'])\n",
    "best_lr_model_9_ = lr_9_.best_estimator_\n",
    "\n",
    "b_train_preds_9_ = best_lr_model_9_.decision_function(X_9_train)\n",
    "b_preds_9_ = best_lr_model_9_.decision_function(X_9_test)\n",
    "aucpr_9_ = average_precision_score(y_9_train, b_train_preds_9_)\n",
    "aucpr_test_9_ = average_precision_score(y_9_test, b_preds_9_)\n",
    "print('Train AUC-PR: %.4f' % aucpr_9_)\n",
    "print('Test AUC-PR: %.4f' % aucpr_test_9_)"
   ]
  },
  {
   "cell_type": "markdown",
   "metadata": {},
   "source": [
    "*Embedded method for feature selection, fitting time:*"
   ]
  },
  {
   "cell_type": "code",
   "execution_count": 97,
   "metadata": {},
   "outputs": [],
   "source": [
    "arr = best_lr_model_9['col_tf'].fit_transform(X_9_train, y_9_train)"
   ]
  },
  {
   "cell_type": "code",
   "execution_count": 98,
   "metadata": {
    "scrolled": true
   },
   "outputs": [
    {
     "name": "stdout",
     "output_type": "stream",
     "text": [
      "33.6 µs ± 4.39 µs per loop (mean ± std. dev. of 7 runs, 10000 loops each)\n"
     ]
    }
   ],
   "source": [
    "%%timeit\n",
    "best_lr_model_9_['red_ft'].fit(arr, y_9_train)"
   ]
  },
  {
   "cell_type": "markdown",
   "metadata": {},
   "source": [
    "*После сохранения признаков с наибольшими весами качество модели улучшилось примерно на 0.1-0.2.*"
   ]
  },
  {
   "cell_type": "markdown",
   "metadata": {},
   "source": [
    "А теперь давайте подумаем, что мы не учли. Мы предположили, что признаки вносят вклад равномерно, но не учли их масштаба. Если мы умножим один из признаков в 100 раз, то без учёта регуляризации его вес уменьшится в эти же 100 раз. А мы на основе этого отбираем признаки! Давайте сначала отмасштабируем признаки одним из способов, а только потом будем удалять признаки. \n",
    "\n",
    "Кстати, в таком случае надо пересчитать качество на всех признаках (сделайте это ниже). Если вы сделали нормирование признаков в самом начале, то попробуйте отобрать признаки на неотмасштабированных данных.\n",
    "\n",
    "Что получилось?"
   ]
  },
  {
   "cell_type": "markdown",
   "metadata": {},
   "source": [
    "**Примечание:** *до этого признаки масштабировались, проведём отбор на неотмасштабированных данных.*"
   ]
  },
  {
   "cell_type": "code",
   "execution_count": 99,
   "metadata": {
    "scrolled": true
   },
   "outputs": [],
   "source": [
    "# without scaling beforehand\n",
    "\n",
    "# train and get weights\n",
    "column_transformer_9_1 = ColumnTransformer([\n",
    "    ('ohe', OneHotEncoder(handle_unknown=\"ignore\", sparse=False), categorical)\n",
    "])\n",
    "pipe = Pipeline([\n",
    "    ('col_tf', column_transformer_9_1),\n",
    "    ('lr', LogisticRegression(penalty='l2', max_iter=1000))\n",
    "])\n",
    "reg_Cs = np.logspace(-2, 3, 20)\n",
    "lr_9_1 = GridSearchCV(pipe, {\"lr__C\": reg_Cs}, cv=5)\n",
    "model = lr_9_1.fit(X_9_train, y_9_train)\n",
    "best_lr_model_9_1 = lr_9_1.best_estimator_"
   ]
  },
  {
   "cell_type": "code",
   "execution_count": 100,
   "metadata": {},
   "outputs": [],
   "source": [
    "# reduce number of features and retrain\n",
    "lr_pipeline_9_1 = Pipeline([\n",
    "    ('col_tf', column_transformer_9_1),\n",
    "    ('red_ft', FeatureReduction(40, best_lr_model_9_1['lr'].coef_[0])),\n",
    "    ('lr', LogisticRegression(penalty='l2', max_iter=1000))\n",
    "])\n",
    "lr_9_1_ = GridSearchCV(lr_pipeline_9_1, {\"lr__C\": reg_Cs}, cv=5)\n",
    "model = lr_9_1_.fit(X_9_train, y_9_train)"
   ]
  },
  {
   "cell_type": "code",
   "execution_count": 101,
   "metadata": {},
   "outputs": [
    {
     "name": "stdout",
     "output_type": "stream",
     "text": [
      "Best parameter C: 0.0616\n",
      "Train AUC-PR: 0.3953\n",
      "Test AUC-PR: 0.4089\n"
     ]
    }
   ],
   "source": [
    "print('Best parameter C: %.4f' % lr_9_1_.best_params_['lr__C'])\n",
    "best_lr_model_9_1_ = lr_9_1_.best_estimator_\n",
    "\n",
    "b_train_preds_9_1 = best_lr_model_9_1_.decision_function(X_9_train)\n",
    "b_preds_9_1 = best_lr_model_9_1_.decision_function(X_9_test)\n",
    "aucpr_9_1 = average_precision_score(y_9_train, b_train_preds_9_1)\n",
    "aucpr_test_9_1 = average_precision_score(y_9_test, b_preds_9_1)\n",
    "print('Train AUC-PR: %.4f' % aucpr_9_1)\n",
    "print('Test AUC-PR: %.4f' % aucpr_test_9_1)"
   ]
  },
  {
   "cell_type": "markdown",
   "metadata": {},
   "source": [
    "*Можем заметить, что без масштабирования качество модели выходит намного хуже.*"
   ]
  },
  {
   "cell_type": "markdown",
   "metadata": {},
   "source": [
    "Вопрос на засыпку: one-hot кодирование возвращает нам единичные признаки-индикаторы. Попробуйте также отскалировать их, как и обычные числовые, и снова выбрать 40 главных по вкладу признаков. Изменился ли их список? Изменится ли качество?"
   ]
  },
  {
   "cell_type": "code",
   "execution_count": 102,
   "metadata": {},
   "outputs": [],
   "source": [
    "column_transformer_9_1 = ColumnTransformer([\n",
    "    ('ohe', OneHotEncoder(handle_unknown=\"ignore\", sparse=False), categorical)\n",
    "])"
   ]
  },
  {
   "cell_type": "code",
   "execution_count": 103,
   "metadata": {},
   "outputs": [],
   "source": [
    "pipe_2 = Pipeline([\n",
    "    ('col_tf', column_transformer_9_1),\n",
    "    ('scaling', StandardScaler()),\n",
    "    ('lr', LogisticRegression(penalty='l2', max_iter=1000))\n",
    "])"
   ]
  },
  {
   "cell_type": "code",
   "execution_count": 104,
   "metadata": {},
   "outputs": [],
   "source": [
    "# scaling all, including ohe\n",
    "\n",
    "# train and get weights\n",
    "pipe_2 = Pipeline([\n",
    "    ('col_tf', column_transformer_9_1),\n",
    "    ('scaling', StandardScaler()),\n",
    "    ('lr', LogisticRegression(penalty='l2', max_iter=1000))\n",
    "])\n",
    "reg_Cs = np.logspace(-2, 3, 20)\n",
    "lr_9_2 = GridSearchCV(pipe, {\"lr__C\": reg_Cs}, cv=5)\n",
    "model = lr_9_2.fit(X_9_train, y_9_train)\n",
    "best_lr_model_9_2 = lr_9_2.best_estimator_"
   ]
  },
  {
   "cell_type": "code",
   "execution_count": 105,
   "metadata": {},
   "outputs": [],
   "source": [
    "# reduce number of features and retrain\n",
    "lr_pipeline_9_2 = Pipeline([\n",
    "    ('col_tf', column_transformer_9_1),\n",
    "    ('scaling', StandardScaler()),\n",
    "    ('red_ft', FeatureReduction(40, best_lr_model_9_2['lr'].coef_[0])),\n",
    "    ('lr', LogisticRegression(penalty='l2', max_iter=1000))\n",
    "])\n",
    "lr_9_2_ = GridSearchCV(lr_pipeline_9_2, {\"lr__C\": reg_Cs}, cv=5)\n",
    "model = lr_9_2_.fit(X_9_train, y_9_train)"
   ]
  },
  {
   "cell_type": "code",
   "execution_count": 106,
   "metadata": {},
   "outputs": [
    {
     "name": "stdout",
     "output_type": "stream",
     "text": [
      "Best parameter C: 0.0616\n",
      "Train AUC-PR: 0.3954\n",
      "Test AUC-PR: 0.4086\n"
     ]
    }
   ],
   "source": [
    "print('Best parameter C: %.4f' % lr_9_2_.best_params_['lr__C'])\n",
    "best_lr_model_9_2_ = lr_9_2_.best_estimator_\n",
    "\n",
    "b_train_preds_9_2 = best_lr_model_9_2_.decision_function(X_9_train)\n",
    "b_preds_9_2 = best_lr_model_9_2_.decision_function(X_9_test)\n",
    "aucpr_9_2 = average_precision_score(y_9_train, b_train_preds_9_2)\n",
    "aucpr_test_9_2 = average_precision_score(y_9_test, b_preds_9_2)\n",
    "print('Train AUC-PR: %.4f' % aucpr_9_2)\n",
    "print('Test AUC-PR: %.4f' % aucpr_test_9_2)"
   ]
  },
  {
   "cell_type": "markdown",
   "metadata": {},
   "source": [
    "*Рассмотрим позиции отобранных признаков:*"
   ]
  },
  {
   "cell_type": "code",
   "execution_count": 107,
   "metadata": {},
   "outputs": [
    {
     "name": "stdout",
     "output_type": "stream",
     "text": [
      "Feature positions with scaling (one not included):\n",
      "[ 1  3  4  5  7  8 10 15 16 17 22 23 24 25 30 33 34 36 37 38 39 40 41 42\n",
      " 43 44 46 47 48 49 50 51 52 54 55 56 57 58 59 61]\n",
      "Feature positions without scaling:\n",
      "[ 1  2  3  4  5  6  7  8  9 12 13 14 15 16 18 19 21 22 23 24 25 30 33 34\n",
      " 35 36 37 38 40 41 42 43 44 46 47 48 49 50 51 52]\n",
      "Feature positions with scaling (ohe included):\n",
      "[ 1  2  3  4  5  6  7  8  9 12 13 14 15 16 18 19 21 22 23 24 25 30 33 34\n",
      " 35 36 37 38 40 41 42 43 44 46 47 48 49 50 51 52]\n"
     ]
    }
   ],
   "source": [
    "print('Feature positions with scaling (one not included):', best_lr_model_9_['red_ft'].get_feature_pos(), sep='\\n')\n",
    "print('Feature positions without scaling:', best_lr_model_9_1_['red_ft'].get_feature_pos(), sep='\\n')\n",
    "print('Feature positions with scaling (ohe included):', best_lr_model_9_2_['red_ft'].get_feature_pos(), sep='\\n')"
   ]
  },
  {
   "cell_type": "markdown",
   "metadata": {},
   "source": [
    "*Последние два случая отобрали одни и те же признаки, первый случай (отдельное масштабирование числоовых признаков, one-hot-кодирование категориальных) отобрал другие признаки.*"
   ]
  },
  {
   "cell_type": "markdown",
   "metadata": {},
   "source": [
    "### Методы фильтрации\n",
    "\n",
    "\n",
    "Давайте отбирать признаки умнее, а именно через подсчёт некоторой функции для каждого признака. На основании значений этой функции будем оставлять наиболее важные признаки. Методы этого семейства называют фильтрующими или  filter methods. \n",
    "\n",
    "В качестве такой функции будем считать t-статистику:\n",
    "\n",
    "$$t(j) = \\frac{|\\mu_+ - \\mu_-|}{\\sqrt{\\frac{n_+ \\sigma^2_+ + n_- \\sigma^2_-}{n_+ + n_-}}},$$\n",
    "\n",
    "где $\\mu$, $\\sigma$, $n$ соответственно среднее, стандартное отклонение и количество объектов каждого из классов.\n",
    "\n",
    "__Задание 10 (0.5 балла).__ Оставьте 40 признаков с наибольшим значением $t$ и замерьте качество. Не забудьте замерить скорость отбора признаков в этом случае.\n",
    "\n"
   ]
  },
  {
   "cell_type": "code",
   "execution_count": 108,
   "metadata": {},
   "outputs": [],
   "source": [
    "class FeatureFilter (BaseEstimator, TransformerMixin):\n",
    "    def __init__(self, ft_num):\n",
    "        self.ft_threshold = []\n",
    "        self.ft_num = ft_num\n",
    "        self.features = []\n",
    "    \n",
    "    def fit(self, X, y):\n",
    "        X_copy = X.copy()\n",
    "        self.ft_threshold = [None] * X_copy.shape[1]\n",
    "        for i in range(X_copy.shape[1]):\n",
    "            feature_pos = X_copy[y == 1, i]\n",
    "            feature_neg = X_copy[y == 0, i]\n",
    "            n_pos = feature_pos.shape[0]\n",
    "            n_neg = feature_neg.shape[0]\n",
    "            mu_pos = np.mean(feature_pos)\n",
    "            mu_neg = np.mean(feature_neg)\n",
    "            sigma2_pos = np.std(feature_pos)\n",
    "            sigma2_neg = np.std(feature_neg)\n",
    "            self.ft_threshold[i] = abs(mu_pos - mu_neg) / np.sqrt((n_pos * sigma2_pos + n_neg * sigma2_neg) / (n_pos + n_neg)) \n",
    "        nth_max = sorted(self.ft_threshold, reverse=True)[self.ft_num - 1]\n",
    "        self.features = np.where(self.ft_threshold >= nth_max)[0][:self.ft_num]    # !!!get positions of n features with largest thresholds\n",
    "        return self\n",
    "    \n",
    "    def transform(self, X):\n",
    "        X_copy = X.copy()\n",
    "        if (issparse(X_copy)): \n",
    "            X_copy = X_copy.toarray()\n",
    "        X_copy = X_copy[:, self.features]\n",
    "        return X_copy\n",
    "    \n",
    "    def get_feature_pos(self):\n",
    "        return self.features\n",
    "    \n",
    "    def get_thresholds(self):\n",
    "        return self.ft_threshold"
   ]
  },
  {
   "cell_type": "code",
   "execution_count": 109,
   "metadata": {},
   "outputs": [],
   "source": [
    "column_transformer_10 = ColumnTransformer([\n",
    "    ('ohe', OneHotEncoder(handle_unknown='ignore'), categorical),\n",
    "    ('scaling', StandardScaler(), numerical)\n",
    "])"
   ]
  },
  {
   "cell_type": "code",
   "execution_count": 110,
   "metadata": {},
   "outputs": [],
   "source": [
    "lr_pipeline_10 = Pipeline([\n",
    "    ('col_tf', column_transformer_10),\n",
    "    ('filter_ft', FeatureFilter(40)),\n",
    "    ('lr', LogisticRegression(penalty='l2', max_iter=1000))\n",
    "])\n",
    "lr_10 = GridSearchCV(lr_pipeline_10, {\"lr__C\": reg_Cs}, cv=5)\n",
    "model = lr_10.fit(X_9_train, y_9_train)"
   ]
  },
  {
   "cell_type": "code",
   "execution_count": 111,
   "metadata": {},
   "outputs": [
    {
     "name": "stdout",
     "output_type": "stream",
     "text": [
      "Best parameter C: 0.0336\n",
      "Train AUC-PR: 0.4529\n",
      "Test AUC-PR: 0.4496\n"
     ]
    }
   ],
   "source": [
    "print('Best parameter C: %.4f' % lr_10.best_params_['lr__C'])\n",
    "best_lr_model_10 = lr_10.best_estimator_\n",
    "\n",
    "b_train_preds_10 = best_lr_model_10.decision_function(X_9_train)\n",
    "b_preds_10 = best_lr_model_10.decision_function(X_9_test)\n",
    "aucpr_10 = average_precision_score(y_9_train, b_train_preds_10)\n",
    "aucpr_test_10 = average_precision_score(y_9_test, b_preds_10)\n",
    "print('Train AUC-PR: %.4f' % aucpr_10)\n",
    "print('Test AUC-PR: %.4f' % aucpr_test_10)"
   ]
  },
  {
   "cell_type": "markdown",
   "metadata": {},
   "source": [
    "*FeatureFilter fitting time:*"
   ]
  },
  {
   "cell_type": "code",
   "execution_count": 112,
   "metadata": {},
   "outputs": [],
   "source": [
    "arr = best_lr_model_10['col_tf'].fit_transform(X_9_train, y_9_train)"
   ]
  },
  {
   "cell_type": "code",
   "execution_count": 113,
   "metadata": {},
   "outputs": [
    {
     "name": "stdout",
     "output_type": "stream",
     "text": [
      "120 ms ± 11 ms per loop (mean ± std. dev. of 7 runs, 10 loops each)\n"
     ]
    }
   ],
   "source": [
    "%%timeit\n",
    "best_lr_model_10['filter_ft'].fit(arr, y_9_train)"
   ]
  },
  {
   "cell_type": "markdown",
   "metadata": {},
   "source": [
    "*Качество получилось примерно таким же, как в предыдущем задании.*"
   ]
  },
  {
   "cell_type": "markdown",
   "metadata": {},
   "source": [
    "### Методы-обёртки\n",
    "\n",
    "__Задание 11 (1 балл).__ \n",
    "\n",
    "Третий из рассматриваемых нами методов работает следующим образом: мы исключаем по очереди один из признаков и смотрим, как это влияет на качество. Удаляем признаки таким жадным способом, пока не окажется выполненым некоторое условие (количество признаков или ухудшение качества).\n",
    "\n",
    "Заметим, что нельзя оценивать качество по тестовой выборке, иначе мы можем переобучиться, как, например, при настройке гиперпараметров. Разделите обучающую выборку на 2 части, на одной из них обучайте модель без одного из признаков,  на второй части оценивайте качество. Исходную тестовую выборку стоит использовать только для финальной оценки качества.\n",
    "\n",
    "Снова оставьте только 40 признаков и оцените качество на тестовой выборке. Сколько времени занял такой отбор признаков?"
   ]
  },
  {
   "cell_type": "code",
   "execution_count": 138,
   "metadata": {},
   "outputs": [],
   "source": [
    "class WrapperFeatureDeletion (BaseEstimator, TransformerMixin):\n",
    "    def __init__(self, ft_num, est):\n",
    "        self.ft_num = ft_num\n",
    "        self.deleted_features = []\n",
    "        self.est = est    # estimator\n",
    "#        self.score_func = score_func\n",
    "    \n",
    "    def fit(self, X, y):\n",
    "        X_copy = X.copy()\n",
    "        self.est.fit(X_copy, y)\n",
    "        prev_score = average_precision_score(y, self.est.predict_proba(X_copy)[:,1])\n",
    "        new_score = prev_score\n",
    "#        print(prev_score)\n",
    "        min_score = 2\n",
    "        tbd_feature = None\n",
    "        while((X_copy.shape[1] - len(self.deleted_features) > self.ft_num) and (new_score >= prev_score)):\n",
    "            features = set(range(X_copy.shape[1])) - set(self.deleted_features)    # not-deleted features\n",
    "            for feature in features:\n",
    "                X_new = X_copy[:, list(features - set([feature]))]    # without a column and already deleted columns\n",
    "                self.est.fit(X_new, y)\n",
    "                cur_score = average_precision_score(y, self.est.predict_proba(X_new)[:,1])\n",
    "#                print('Current feature and score:', feature, cur_score)\n",
    "                if (cur_score < min_score):\n",
    "                    min_score = cur_score\n",
    "                    tbd_feature = feature\n",
    "#            print('To be deleted feature and its score:', min_score, tbd_feature)\n",
    "            min_score = 2\n",
    "            self.deleted_features.append(tbd_feature)\n",
    "            X_new = X_copy[:, list(set(range(X_copy.shape[1])) - set(self.deleted_features))]\n",
    "            self.est.fit(X_new, y)\n",
    "            prev_score = new_score\n",
    "            new_score = average_precision_score(y, self.est.predict_proba(X_new)[:,1])\n",
    "            print('Previous score: %.4f, new score: %.4f' % (prev_score, new_score))\n",
    "        return self\n",
    "    \n",
    "    def transform(self, X):\n",
    "        X_copy = X.copy()\n",
    "        X_copy = X_copy[:, list(set(range(X_copy.shape[1])) - set(self.deleted_features))]\n",
    "        return X_copy\n",
    "    \n",
    "    def get_deleted_feature_pos(self):\n",
    "        return self.deleted_features"
   ]
  },
  {
   "cell_type": "code",
   "execution_count": 139,
   "metadata": {},
   "outputs": [
    {
     "name": "stdout",
     "output_type": "stream",
     "text": [
      "Previous score: 0.4547, new score: 0.4501\n"
     ]
    }
   ],
   "source": [
    "lr_pipeline_11 = Pipeline([\n",
    "    ('col_tf', column_transformer_10),\n",
    "    ('wfd', WrapperFeatureDeletion(40, LogisticRegression(penalty='l2', max_iter=1000, C=lr_10.best_params_['lr__C']))),\n",
    "    ('lr', LogisticRegression(penalty='l2', max_iter=1000))\n",
    "])\n",
    "model = lr_pipeline_11.fit(X_9_train, y_9_train)"
   ]
  },
  {
   "cell_type": "code",
   "execution_count": 140,
   "metadata": {},
   "outputs": [
    {
     "name": "stdout",
     "output_type": "stream",
     "text": [
      "Deleted features: [58]\n"
     ]
    }
   ],
   "source": [
    "print('Deleted features:', lr_pipeline_11['wfd'].get_deleted_feature_pos())"
   ]
  },
  {
   "cell_type": "code",
   "execution_count": 141,
   "metadata": {},
   "outputs": [
    {
     "name": "stdout",
     "output_type": "stream",
     "text": [
      "Train AUC-PR: 0.4523\n",
      "Test AUC-PR: 0.4489\n"
     ]
    }
   ],
   "source": [
    "b_train_preds_11 = model.decision_function(X_9_train)\n",
    "b_preds_11 = model.decision_function(X_9_test)\n",
    "aucpr_11 = average_precision_score(y_9_train, b_train_preds_11)\n",
    "aucpr_test_11 = average_precision_score(y_9_test, b_preds_11)\n",
    "print('Train AUC-PR: %.4f' % aucpr_11)\n",
    "print('Test AUC-PR: %.4f' % aucpr_test_11)"
   ]
  },
  {
   "cell_type": "markdown",
   "metadata": {},
   "source": [
    "*WrapperFeatureDeletion fitting time:*"
   ]
  },
  {
   "cell_type": "code",
   "execution_count": 147,
   "metadata": {},
   "outputs": [
    {
     "name": "stdout",
     "output_type": "stream",
     "text": [
      "Previous score: 0.4547, new score: 0.4411\n",
      "Previous score: 0.4547, new score: 0.4273\n",
      "Previous score: 0.4547, new score: 0.4092\n",
      "Previous score: 0.4547, new score: 0.4028\n",
      "Previous score: 0.4547, new score: 0.3989\n",
      "Previous score: 0.4547, new score: 0.3869\n",
      "Previous score: 0.4547, new score: 0.3805\n",
      "Previous score: 0.4547, new score: 0.3770\n",
      "22.4 s ± 3.05 s per loop (mean ± std. dev. of 7 runs, 1 loop each)\n"
     ]
    }
   ],
   "source": [
    "%%timeit\n",
    "model['wfd'].fit(arr, y_9_train)"
   ]
  },
  {
   "cell_type": "markdown",
   "metadata": {},
   "source": [
    "*Удалился только один признак (обучение модели при регуляризационном отобранного из предыдущего номера параметра С, из-за долго времени работы не стала делать кросс-валидацию, вероятно, при других значениях С удаление бы сработало лучше), поскольку после его удаления качество модели ухудшилось*."
   ]
  },
  {
   "cell_type": "markdown",
   "metadata": {},
   "source": [
    "Стоит отметить, что с помощью такого метода можно пойти и в обратную сторону. Попробуйте _добавлять_ по одному самому полезному признаку в выборку до тех пор, пока не наберется 40 штук. Найдется ли порог, при котором добавление следующих признаков будет только ухудшать качество модели?"
   ]
  },
  {
   "cell_type": "code",
   "execution_count": 142,
   "metadata": {},
   "outputs": [],
   "source": [
    "class WrapperFeatureAddition (BaseEstimator, TransformerMixin):\n",
    "    def __init__(self, ft_num, est):\n",
    "        self.ft_num = ft_num\n",
    "        self.features = []\n",
    "        self.est = est    # estimator\n",
    "    \n",
    "    def fit(self, X, y):\n",
    "        X_copy = X.copy()\n",
    "        max_score = 0\n",
    "        tba_feature = None\n",
    "        while(len(self.features) < self.ft_num):\n",
    "            features = set(range(X_copy.shape[1])) - set(self.features)    # not-added features\n",
    "            for feature in features:\n",
    "                X_new = X_copy[:, self.features + [feature]]    # with new column and already addeed columns\n",
    "                self.est.fit(X_new, y)\n",
    "                cur_score = average_precision_score(y, self.est.predict_proba(X_new)[:,1])\n",
    "#                print('Current feature and score:', feature, cur_score)\n",
    "                if (cur_score > max_score):\n",
    "                    max_score = cur_score\n",
    "                    tba_feature = feature\n",
    "#            print('To be deleted feature and its score:', min_score, tbd_feature)\n",
    "            max_score = 0\n",
    "            self.features.append(tba_feature)\n",
    "        return self\n",
    "    \n",
    "    def transform(self, X):\n",
    "        X_copy = X.copy()\n",
    "        X_copy = X_copy[:, self.features]\n",
    "        return X_copy\n",
    "    \n",
    "    def get_feature_pos(self):\n",
    "        return self.features"
   ]
  },
  {
   "cell_type": "code",
   "execution_count": 143,
   "metadata": {},
   "outputs": [],
   "source": [
    "lr_pipeline_11_ = Pipeline([\n",
    "    ('col_tf', column_transformer_10),\n",
    "    ('wfa', WrapperFeatureAddition(40, LogisticRegression(penalty='l2', max_iter=1000, C=lr_10.best_params_['lr__C']))),\n",
    "    ('lr', LogisticRegression(penalty='l2', max_iter=1000))\n",
    "])\n",
    "model_ = lr_pipeline_11_.fit(X_9_train, y_9_train)"
   ]
  },
  {
   "cell_type": "code",
   "execution_count": 144,
   "metadata": {},
   "outputs": [
    {
     "name": "stdout",
     "output_type": "stream",
     "text": [
      "Features: [60, 55, 41, 46, 45, 50, 61, 34, 40, 1, 38, 54, 42, 25, 5, 8, 37, 52, 21, 33, 43, 57, 58, 59, 36, 39, 29, 49, 47, 35, 6, 32, 18, 48, 11, 26, 2, 10, 17, 7]\n"
     ]
    }
   ],
   "source": [
    "print('Features:', lr_pipeline_11_['wfa'].get_feature_pos())"
   ]
  },
  {
   "cell_type": "code",
   "execution_count": 146,
   "metadata": {},
   "outputs": [
    {
     "name": "stdout",
     "output_type": "stream",
     "text": [
      "Train AUC-PR: 0.4598\n",
      "Test AUC-PR: 0.4496\n"
     ]
    }
   ],
   "source": [
    "b_train_preds_11_ = model_.decision_function(X_9_train)\n",
    "b_preds_11_ = model_.decision_function(X_9_test)\n",
    "aucpr_11_ = average_precision_score(y_9_train, b_train_preds_11_)\n",
    "aucpr_test_11_ = average_precision_score(y_9_test, b_preds_11_)\n",
    "print('Train AUC-PR: %.4f' % aucpr_11_)\n",
    "print('Test AUC-PR: %.4f' % aucpr_test_11_)"
   ]
  },
  {
   "cell_type": "markdown",
   "metadata": {},
   "source": [
    "*WrapperFeatureAdditing fitting time:*"
   ]
  },
  {
   "cell_type": "code",
   "execution_count": 149,
   "metadata": {},
   "outputs": [
    {
     "name": "stdout",
     "output_type": "stream",
     "text": [
      "11.2 ms ± 760 µs per loop (mean ± std. dev. of 7 runs, 100 loops each)\n"
     ]
    }
   ],
   "source": [
    "%%timeit\n",
    "model_['wfa'].fit(arr, y_9_train)"
   ]
  },
  {
   "cell_type": "markdown",
   "metadata": {},
   "source": [
    "Давайте подведём итоги по отбору признаков. Назовите преимущества и недостатки каждого из методов. Какой метод привёл к наилучшему качеству?\n",
    "\n",
    "**Ответ:** *лучшие результаты получены при методе фильтрации и методе обёртки (при добавлении признаков), худший результат - при удалении признаков методом обёртки*.\n",
    "- *Встроенный метод:*\n",
    "    - *Преимущества: быстрый отбор признаков (при условии, что веса признаков известны)*\n",
    "    - *Недостатки: нужно два раза обучать модель (первый раз для получения весов)*\n",
    "- *Метод фильтрации:*\n",
    "    - *Преимущества: быстрый отбор признаков, учитывая время обучения*\n",
    "    - *Недостатки: не учитывает связь между значениями признаков и значениями целевой переменной*\n",
    "- *Метод обёртки:*\n",
    "    - *Преимущества: отбирает признаки непосредственно по их влиянию на качество модели*\n",
    "    - *Недостатки: сложность алгоритма, долгое время работы, может удалить недостаточное кол-во признаков, если на обучающей выборке при удалении признаков качество ухудшается*"
   ]
  },
  {
   "cell_type": "markdown",
   "metadata": {},
   "source": [
    "# Часть 3. Оценка экономического эффекта модели\n",
    "\n",
    "В данной части мы займемся тем, что от вас скорее всего потребуется на реальной работе (помимо перекладки `json`, разумеется). А именно: мы соберем несколько специализированных метрик качества, попытаемся настроить модель на максимизацию _прибыли_ и оценим, сколько вообще получится заработать на этом. Разумеется, здесь будет сделано множество упрощающих жизнь допущений, но обо всем по порядку. \n",
    "\n",
    "__Задание 12 (1 балл).__ Допустим, работники вашего колл-центра получают за один звонок клиенту 1 доллар. При согласии клиента на предлагаемые условия он принесет в банк 10 долларов.\n",
    "\n",
    "Если вы всё прослушали на экономике, то напомним, что выручка — это сколько денег нам принесли клиенты, а прибыль — выручка за вычетом расходов на зарплату и прочее.\n",
    "\n",
    "Загрузите данные о телемаркетинге из предыдущего блока заданий. В этой части не нужно делить выборку - мы будем использовать кросс-валидацию. Используйте 5 фолдов, сделайте `shuffle=True, random_state=500`. По кросс-валидации у вас получится 5 вариантов обучающей и тестовой выборки. Обучите логистическую регрессию на каждой обучающей выборке (воспользуйтесь one-hot для категориальных признаков, гиперпараметры оставьте со значениями по умолчанию) и сделайте предсказания для соответствующих тестовых выборок. Допустим, всем положительным прогнозам ваши сотрудники решили позвонить. Посчитайте на всех тестовых выборках выручку и усредните. Сколько денег вы в среднем заработаете? Также вычислите стандартное отклонение.\n",
    "\n",
    "Сколько из заработанных денег придётся отдать операторам вашего колл-центра?"
   ]
  },
  {
   "cell_type": "code",
   "execution_count": 116,
   "metadata": {},
   "outputs": [],
   "source": [
    "df = pd.read_csv('bank-additional/bank-additional-full.csv', sep=';')\n",
    "\n",
    "X_12 = df.drop(columns=['duration', 'y'])\n",
    "y_12 = (df.y == 'yes')"
   ]
  },
  {
   "cell_type": "code",
   "execution_count": 117,
   "metadata": {},
   "outputs": [],
   "source": [
    "from sklearn.model_selection import KFold\n",
    "kf = KFold(n_splits=5, shuffle=True, random_state=500)\n",
    "column_transformer_12 = ColumnTransformer([\n",
    "    ('ohe', OneHotEncoder(handle_unknown='ignore'), categorical),\n",
    "    ('scaling', StandardScaler(), numerical)\n",
    "])\n",
    "lr_pipeline_12 = Pipeline([\n",
    "    ('col_tf', column_transformer_12),\n",
    "    ('lr', LogisticRegression(penalty='l2', max_iter=1000))\n",
    "])"
   ]
  },
  {
   "cell_type": "code",
   "execution_count": 118,
   "metadata": {},
   "outputs": [],
   "source": [
    "expense_per_call = 1\n",
    "income_per_call = 10\n",
    "income = []\n",
    "preds = []\n",
    "for train_index, test_index in kf.split(X_12):\n",
    "    X_train_12 = X_12.loc[train_index,:]\n",
    "    y_train_12 = y_12[train_index]\n",
    "    X_test_12 = X_12.loc[test_index,:]\n",
    "    y_test_12 = y_12[test_index]\n",
    "    model = lr_pipeline_12.fit(X_train_12, y_train_12)\n",
    "    y_preds = model.predict(X_test_12)\n",
    "    preds.append(y_preds)\n",
    "    income.append(y_test_12[y_preds == 1].sum() * income_per_call)"
   ]
  },
  {
   "cell_type": "markdown",
   "metadata": {},
   "source": [
    "*Рассмотрим значения выручки и расходов:*"
   ]
  },
  {
   "cell_type": "code",
   "execution_count": 119,
   "metadata": {},
   "outputs": [
    {
     "name": "stdout",
     "output_type": "stream",
     "text": [
      "Mean income: 2130.0\n",
      "Income standard deviation: 107.1448\n"
     ]
    }
   ],
   "source": [
    "print('Mean income:', np.mean(income))\n",
    "print('Income standard deviation: %.4f' % np.std(income))"
   ]
  },
  {
   "cell_type": "code",
   "execution_count": 120,
   "metadata": {},
   "outputs": [
    {
     "name": "stdout",
     "output_type": "stream",
     "text": [
      "Expenses: 310 330 330 330 321 \n",
      "Mean expense: 324.2\n"
     ]
    }
   ],
   "source": [
    "print('Expenses:',end=' ')\n",
    "mean_expense = 0\n",
    "for pred in preds:\n",
    "    mean_expense += pred.sum() * expense_per_call\n",
    "    print(pred.sum() * expense_per_call, end=' ')\n",
    "print('\\nMean expense:', mean_expense / len(preds))"
   ]
  },
  {
   "cell_type": "markdown",
   "metadata": {},
   "source": [
    "*Рассмотрим значения прибыли:*"
   ]
  },
  {
   "cell_type": "code",
   "execution_count": 121,
   "metadata": {},
   "outputs": [
    {
     "name": "stdout",
     "output_type": "stream",
     "text": [
      "Profits: [1930, 1780, 1760, 1920, 1639]\n",
      "Mean profit: 1805.8000\n"
     ]
    }
   ],
   "source": [
    "profit_12 = []\n",
    "for i in range(len(preds)):\n",
    "    profit_12.append(income[i] - preds[i].sum() * expense_per_call)\n",
    "print('Profits:', profit_12)\n",
    "print('Mean profit: %.4f' % np.mean(profit_12))"
   ]
  },
  {
   "cell_type": "markdown",
   "metadata": {},
   "source": [
    "Внесем некоторую долю случайности. Пусть теперь согласный на условия клиент будет приносить не 10 долларов, а случайную величину, равномерно распределенную в интервале $[0;20)$. Проделайте все те же самые действия. Для имитации реальной ситуации **НЕ** фиксируйте `random_seed` при подсчете выручки с клиента. Что получилось?"
   ]
  },
  {
   "cell_type": "code",
   "execution_count": 122,
   "metadata": {},
   "outputs": [],
   "source": [
    "max_income = 20\n",
    "income_rand = []\n",
    "preds_rand = []\n",
    "for train_index, test_index in kf.split(X_12):\n",
    "    X_train_12 = X_12.loc[train_index,:]\n",
    "    y_train_12 = y_12[train_index]\n",
    "    X_test_12 = X_12.loc[test_index,:]\n",
    "    y_test_12 = y_12[test_index]\n",
    "    model = lr_pipeline_12.fit(X_train_12, y_train_12)\n",
    "    y_preds = model.predict(X_test_12)\n",
    "    preds_rand.append(y_preds)\n",
    "    income_rand.append(y_test_12[y_preds == 1].sum() * np.random.uniform(0, max_income))"
   ]
  },
  {
   "cell_type": "code",
   "execution_count": 123,
   "metadata": {},
   "outputs": [
    {
     "name": "stdout",
     "output_type": "stream",
     "text": [
      "Mean income: 2166.7573\n",
      "Income standard deviation: 1549.0851\n"
     ]
    }
   ],
   "source": [
    "print('Mean income: %.4f' % np.mean(income_rand))\n",
    "print('Income standard deviation: %.4f' % np.std(income_rand))"
   ]
  },
  {
   "cell_type": "markdown",
   "metadata": {},
   "source": [
    "*Средний заработок получился примерно таким же, как в случае с фиксированном значением прибыли за один звонок (вероятно из-за того, что это значение (10) является серединой интервала, использованного во втором случае). Стандартное отклонение в первом случае существенно меньше.*"
   ]
  },
  {
   "cell_type": "markdown",
   "metadata": {},
   "source": [
    "Настройте по кросс-валидации коэффициент регуляризации модели для максимизации прибыли (считайте как случайную величину выше). Удалось ли получить какой-то выигрыш? При каком коэффициенте регуляризации прибыль максимальна? Постройте график зависимости ожидаемой прибыли от коэффициента, также укажите стандартные отклонения (вам поможет `plt.errorbar`)."
   ]
  },
  {
   "cell_type": "code",
   "execution_count": 124,
   "metadata": {},
   "outputs": [],
   "source": [
    "def cv_reg_by_profit(reg_Cs):\n",
    "    max_profit = 0\n",
    "    best_C = None\n",
    "    best_estimator = None\n",
    "    profits = []\n",
    "    for C in reg_Cs:\n",
    "        profit_rand = []\n",
    "        for train_index, test_index in kf.split(X_12):\n",
    "            X_train_12 = X_12.loc[train_index,:]\n",
    "            y_train_12 = y_12[train_index]\n",
    "            X_test_12 = X_12.loc[test_index,:]\n",
    "            y_test_12 = y_12[test_index]\n",
    "            lr_pipeline_12_ = Pipeline([\n",
    "                ('col_tf', column_transformer_12),\n",
    "                ('lr', LogisticRegression(penalty='l2', max_iter=1000, C=C))\n",
    "            ])\n",
    "            model = lr_pipeline_12_.fit(X_train_12, y_train_12)\n",
    "            y_preds = model.predict(X_test_12)\n",
    "            income_ = y_test_12[y_preds == 1].sum() * np.random.uniform(0, max_income)\n",
    "            expense_ = y_preds.sum() * expense_per_call\n",
    "            profit_rand.append(income_ - expense_)\n",
    "\n",
    "        profits.append(profit_rand)\n",
    "        if (np.mean(profit_rand) > max_profit):\n",
    "            best_C = C\n",
    "            best_estimator = lr_pipeline_12_\n",
    "            max_profit = np.mean(profit_rand)\n",
    "        \n",
    "    return {'best_C':best_C, 'best_estimator':best_estimator, 'max_profit':max_profit, 'profits':profits}"
   ]
  },
  {
   "cell_type": "code",
   "execution_count": 125,
   "metadata": {},
   "outputs": [],
   "source": [
    "res_1 = cv_reg_by_profit(reg_Cs = np.logspace(-2,3,20))\n",
    "mean_profits = np.mean(res_1['profits'], axis=1)\n",
    "std_profits = np.std(res_1['profits'], axis=1)"
   ]
  },
  {
   "cell_type": "code",
   "execution_count": 126,
   "metadata": {
    "scrolled": false
   },
   "outputs": [
    {
     "data": {
      "image/png": "[encoded data removed]",
      "text/plain": [
       "<Figure size 720x432 with 1 Axes>"
      ]
     },
     "metadata": {},
     "output_type": "display_data"
    }
   ],
   "source": [
    "plt.figure(figsize=(10,6))\n",
    "plt.errorbar(np.logspace(-2,3,20), mean_profits, std_profits, marker='x', color='green', ecolor='grey', elinewidth=1, ms=5)\n",
    "plt.xscale('log')\n",
    "plt.title('Profits (with standard deviation)', size=14)\n",
    "plt.xlabel('regularization coefficient C')\n",
    "plt.ylabel('profit')\n",
    "plt.show()"
   ]
  },
  {
   "cell_type": "code",
   "execution_count": 128,
   "metadata": {},
   "outputs": [
    {
     "name": "stdout",
     "output_type": "stream",
     "text": [
      "Best regularization coefficient C: 162.3777\n",
      "Max profit: 3140.2109\n"
     ]
    }
   ],
   "source": [
    "print('Best regularization coefficient C: %.4f' % res_1['best_C'])\n",
    "print('Max profit: %.4f' % res_1['max_profit'])"
   ]
  },
  {
   "cell_type": "markdown",
   "metadata": {},
   "source": [
    "*Как можно заметить, прибыль увеличилась на несколько сотен единиц.*"
   ]
  },
  {
   "cell_type": "markdown",
   "metadata": {},
   "source": [
    "Попробуйте запустить перебор несколько раз. Находится ли каждый раз один и тот же \"лучший\" коэффициент? Присутствует ли какая-то закономерность? Какие вы можете сделать из этого выводы?"
   ]
  },
  {
   "cell_type": "code",
   "execution_count": 129,
   "metadata": {},
   "outputs": [
    {
     "name": "stdout",
     "output_type": "stream",
     "text": [
      "C: 88.5867, profit: 2482.9072\n",
      "C: 88.5867, profit: 2998.4943\n",
      "C: 88.5867, profit: 2717.9922\n",
      "C: 7.8476, profit: 3196.7235\n",
      "C: 7.8476, profit: 2495.6652\n",
      "C: 0.0616, profit: 2728.1068\n",
      "C: 0.0183, profit: 2888.0035\n",
      "C: 0.1129, profit: 2598.3287\n",
      "C: 162.3777, profit: 3089.9661\n",
      "C: 2.3357, profit: 2427.0676\n"
     ]
    }
   ],
   "source": [
    "for i in range(10):    # change from 6 to 10?\n",
    "    res = cv_reg_by_profit(np.logspace(-2,3,20))\n",
    "    print('C: %.4f, profit: %.4f' % (res['best_C'], res['max_profit']))"
   ]
  },
  {
   "cell_type": "markdown",
   "metadata": {},
   "source": [
    "*В некоторых случаях находятся одинаковые коэффициенты (88.59, 7.85, 162.377). Однако нет определённой закономерности между найденными коэффициентами и полученными для них значениями прибыли (скорее всего, из-за случайности значения выручки за один звонок).*"
   ]
  },
  {
   "cell_type": "markdown",
   "metadata": {},
   "source": [
    "__Задание 13 (1 балл).__ Выше мы уже описали примерную экономическую модель вашей задачи. Как вы считаете, что для вашего бизнеса важнее — хороший precision или recall модели? Почему?\n",
    "\n",
    "__Ответ:__ *recall, т.е. полнота, важнее, поскольку для задачи нужно, чтобы модель охватила как можно больше объектов из положительного класса (интересны именно случаи, когда клиент соглашается на условия и компания получает выручку).*\n",
    "\n"
   ]
  },
  {
   "cell_type": "markdown",
   "metadata": {},
   "source": [
    "Вспомним, что на самом деле логистическая регрессия предсказывает нам вероятности положительного класса для объекта. Возможно, путем настройки порога бинаризации этих вероятностей мы сможем получить какой-то выигрыш? Проверьте ваши рассуждения выше с помощью настройки порога бинаризации на кросс-валидации для максимизации прибыли. Воспользуйтесь сеткой от 0 до 1 с шагом 0.01. Напомним, что снижение порога дает нам более высокий recall и более низкий precision, и наоборот."
   ]
  },
  {
   "cell_type": "code",
   "execution_count": 130,
   "metadata": {},
   "outputs": [],
   "source": [
    "def cv_threshold_by_profit(thresholds):\n",
    "    max_profit = 0\n",
    "    best_threshold = None\n",
    "    best_estimator = None\n",
    "    profits = []\n",
    "    for t in thresholds:\n",
    "        profit_rand = []\n",
    "        for train_index, test_index in kf.split(X_12):\n",
    "            X_train_12 = X_12.loc[train_index,:]\n",
    "            y_train_12 = y_12[train_index]\n",
    "            X_test_12 = X_12.loc[test_index,:]\n",
    "            y_test_12 = y_12[test_index]\n",
    "            lr_pipeline_12_ = Pipeline([\n",
    "                ('col_tf', column_transformer_12),\n",
    "                ('lr', LogisticRegression(penalty='l2', max_iter=1000))\n",
    "            ])\n",
    "            model = lr_pipeline_12_.fit(X_train_12, y_train_12)\n",
    "            y_preds = model.predict_proba(X_test_12)[:,1]\n",
    "            y_preds = (y_preds > t)    # split classes by threshold\n",
    "            income_ = y_test_12[y_preds == 1].sum() * np.random.uniform(0, max_income)\n",
    "            expense_ = y_preds.sum() * expense_per_call\n",
    "            profit_rand.append(income_ - expense_)\n",
    "\n",
    "        profits.append(profit_rand)\n",
    "        if (np.mean(profit_rand) > max_profit):\n",
    "            best_threshold = t\n",
    "            best_estimator = lr_pipeline_12_\n",
    "            max_profit = np.mean(profit_rand)\n",
    "        \n",
    "    return {'best_threshold':best_threshold, 'best_estimator':best_estimator, 'max_profit':max_profit, 'profits':profits}"
   ]
  },
  {
   "cell_type": "code",
   "execution_count": 131,
   "metadata": {},
   "outputs": [],
   "source": [
    "d = cv_threshold_by_profit(np.arange(0,1,0.01))"
   ]
  },
  {
   "cell_type": "markdown",
   "metadata": {},
   "source": [
    "Постройте график зависимости прибыли от порога бинаризации, также отметьте на нем стандартные отклонения. Выделите наилучший порог."
   ]
  },
  {
   "cell_type": "markdown",
   "metadata": {},
   "source": [
    "[Stackoverflow: annotate maximum value](https://stackoverflow.com/questions/43374920/how-to-automatically-annotate-maximum-value-in-pyplot)"
   ]
  },
  {
   "cell_type": "code",
   "execution_count": 132,
   "metadata": {},
   "outputs": [],
   "source": [
    "def annot_max(x,y, ax=None):\n",
    "    xmax = x[np.argmax(y)]\n",
    "    ymax = y.max()\n",
    "    text= \"t={:.3f}, profit={:.3f}\".format(xmax, ymax)\n",
    "    if not ax:\n",
    "        ax=plt.gca()\n",
    "    bbox_props = dict(boxstyle=\"square,pad=0.3\", fc=\"w\", ec=\"k\", lw=0.72)\n",
    "    arrowprops=dict(arrowstyle=\"->\",connectionstyle=\"angle,angleA=0,angleB=60\", color='black')\n",
    "    kw = dict(xycoords='data',textcoords=\"axes fraction\",\n",
    "              arrowprops=arrowprops, bbox=bbox_props, ha=\"right\", va=\"top\")\n",
    "    ax.annotate(text, xy=(xmax, ymax), xytext=(0.94,0.96), **kw)"
   ]
  },
  {
   "cell_type": "code",
   "execution_count": 133,
   "metadata": {
    "scrolled": false
   },
   "outputs": [
    {
     "data": {
      "image/png": "[encoded data removed]",
      "text/plain": [
       "<Figure size 1080x432 with 1 Axes>"
      ]
     },
     "metadata": {},
     "output_type": "display_data"
    }
   ],
   "source": [
    "mean_profits_ = np.mean(d['profits'], axis=1)\n",
    "std_profits_ = np.std(d['profits'], axis=1)\n",
    "fig, ax = plt.subplots(figsize=(15,6))\n",
    "ax.errorbar(np.arange(0,1,0.01), mean_profits_, std_profits_, marker='x', color='green', elinewidth=1, ms=5, ecolor='grey')\n",
    "ax.set_title('Profits (with standard deviation)', size=14)\n",
    "ax.set(xlabel='threshold', ylabel='profit')\n",
    "annot_max(np.arange(0,1,0.01), mean_profits_)\n",
    "plt.show()"
   ]
  },
  {
   "cell_type": "markdown",
   "metadata": {},
   "source": [
    "__Вопрос:__ Замечаете ли вы какую-то закономерность? Для правильного ответа на этот вопрос попробуйте запустить несколько раз и задумайтесь, почему порог получается в какой-то конкретной области?"
   ]
  },
  {
   "cell_type": "code",
   "execution_count": 150,
   "metadata": {
    "scrolled": false
   },
   "outputs": [
    {
     "name": "stdout",
     "output_type": "stream",
     "text": [
      "Threshold: 0.1000, profit: 9271.0989\n",
      "Threshold: 0.0700, profit: 6860.0470\n",
      "Threshold: 0.0700, profit: 8620.8938\n",
      "Threshold: 0.0700, profit: 7391.6832\n",
      "Threshold: 0.0700, profit: 7402.6898\n"
     ]
    }
   ],
   "source": [
    "for i in range(5):\n",
    "    res = cv_threshold_by_profit(np.arange(0,1,0.01))\n",
    "    print('Threshold: %.4f, profit: %.4f' % (res['best_threshold'], res['max_profit']))"
   ]
  },
  {
   "cell_type": "markdown",
   "metadata": {},
   "source": [
    "*Значения порога получаются в пределах 0.07, возможно, потому, что при меньшем пороге значение recall выше (тогда и прибыль будет больше).*"
   ]
  },
  {
   "cell_type": "markdown",
   "metadata": {},
   "source": [
    "Каковы значения precision и recall на выбранном пороге? Оцените по кросс-валидации. Также вычислите стандартное отклонение."
   ]
  },
  {
   "cell_type": "code",
   "execution_count": 135,
   "metadata": {},
   "outputs": [],
   "source": [
    "threshold = d['best_threshold']\n",
    "\n",
    "from sklearn.metrics import recall_score, precision_score\n",
    "\n",
    "recall_scores = []\n",
    "precision_scores = []\n",
    "for train_index, test_index in kf.split(X_12):\n",
    "    X_train_12 = X_12.loc[train_index,:]\n",
    "    y_train_12 = y_12[train_index]\n",
    "    X_test_12 = X_12.loc[test_index,:]\n",
    "    y_test_12 = y_12[test_index]\n",
    "    lr_pipeline_12_ = Pipeline([\n",
    "        ('col_tf', column_transformer_12),\n",
    "        ('lr', LogisticRegression(penalty='l2', max_iter=1000))\n",
    "    ])\n",
    "    model = lr_pipeline_12_.fit(X_train_12, y_train_12)\n",
    "    y_preds = model.predict_proba(X_test_12)[:,1]\n",
    "    y_preds = (y_preds > threshold)    # split classes by threshold\n",
    "    recall_scores.append(recall_score(y_test_12, y_preds))\n",
    "    precision_scores.append(precision_score(y_test_12, y_preds))"
   ]
  },
  {
   "cell_type": "code",
   "execution_count": 136,
   "metadata": {},
   "outputs": [
    {
     "name": "stdout",
     "output_type": "stream",
     "text": [
      "Chosen threshold = 0.06\n",
      "Mean precision score: 0.1943, standard deviation: 0.0054\n",
      "Mean recall score: 0.7964, standard deviation: 0.0098\n"
     ]
    }
   ],
   "source": [
    "print('Chosen threshold =', threshold)\n",
    "print('Mean precision score: %.4f, standard deviation: %.4f' % (np.mean(precision_scores), np.std(precision_scores)))\n",
    "print('Mean recall score: %.4f, standard deviation: %.4f' % (np.mean(recall_scores), np.std(recall_scores)))"
   ]
  },
  {
   "cell_type": "markdown",
   "metadata": {},
   "source": [
    "Как вы, вероятно, уже поняли, ваша модель склоняется к более высокому recall. Попробуйте оценить качество модели с помощью `PR-AUC` в зоне recall $\\geq$ 0.5. Сделайте это следующим образом - выберите только те пороги, на которых достигается необходимый recall, затем интерпретируйте отсеченный в единичном квадрате прямоугольник как новый единичный квадрат и посчитайте площадь под отсеченной кривой. "
   ]
  },
  {
   "cell_type": "code",
   "execution_count": 137,
   "metadata": {},
   "outputs": [],
   "source": [
    "# ¯\\_(ツ)_/¯"
   ]
  },
  {
   "cell_type": "markdown",
   "metadata": {},
   "source": [
    "__Бонус (0.01 балла):__ что вы кушали в день сдачи данного ДЗ на завтрак?\n",
    "\n",
    "__Ответ:__ [miến gà!](https://www.hungryhuy.com/mien-ga/)"
   ]
  }
 ],
 "metadata": {
  "kernelspec": {
   "display_name": "Python 3",
   "language": "python",
   "name": "python3"
  },
  "language_info": {
   "codemirror_mode": {
    "name": "ipython",
    "version": 3
   },
   "file_extension": ".py",
   "mimetype": "text/x-python",
   "name": "python",
   "nbconvert_exporter": "python",
   "pygments_lexer": "ipython3",
   "version": "3.8.3"
  }
 },
 "nbformat": 4,
 "nbformat_minor": 4
}
