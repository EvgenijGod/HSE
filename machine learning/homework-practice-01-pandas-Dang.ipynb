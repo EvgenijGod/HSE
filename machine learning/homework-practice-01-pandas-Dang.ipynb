{
 "cells": [
  {
   "cell_type": "markdown",
   "metadata": {},
   "source": [
    "## Машинное обучение 1, ПМИ ФКН ВШЭ\n",
    "\n",
    "## Практическое домашнее задание 1\n",
    "\n",
    "### Общая информация\n",
    "\n",
    "Дата выдачи: 11.09.2020\n",
    "\n",
    "Мягкий дедлайн: 04:59MSK 21.09.2020 (но лучше сдайте пораньше и успейте выспаться)\n",
    "\n",
    "Жесткий дедлайн: 23:59MSK 24.09.2020"
   ]
  },
  {
   "cell_type": "markdown",
   "metadata": {},
   "source": [
    "### О задании\n",
    "\n",
    "Задание состоит из двух разделов, посвященных работе с табличными данными с помощью библиотеки pandas и визуализации с помощью matplotlib. В первом разделе вам предстоит выполнить базовые задания с помощью вышеуказанных библиотек, а во втором распределить студентов по курсам. Баллы даются за выполнение отдельных пунктов. Задачи в рамках одного раздела рекомендуется решать в том порядке, в котором они даны в задании.\n",
    "\n",
    "Задание направлено на освоение jupyter notebook (будет использоваться в дальнейших заданиях), библиотек pandas и matplotlib.\n",
    "\n",
    "### Оценивание и штрафы\n",
    "Каждая из задач имеет определенную «стоимость» (указана в скобках около задачи). Максимально допустимая оценка за работу — 10 баллов.\n",
    "\n",
    "Сдавать задание после жёсткого дедлайна нельзя. При выставлении неполного балла за задание в связи с наличием ошибок на усмотрение проверяющего предусмотрена возможность исправить работу на указанных в ответном письме условиях.\n",
    "\n",
    "Задание выполняется самостоятельно. «Похожие» решения считаются плагиатом и все задействованные студенты (в том числе те, у кого списали) не могут получить за него больше 0 баллов (подробнее о плагиате см. на странице курса). Если вы нашли решение какого-то из заданий (или его часть) в открытом источнике, необходимо указать ссылку на этот источник (скорее всего вы будете не единственным, кто это нашел, поэтому чтобы исключить подозрение в плагиате, необходима ссылка на источник).\n",
    "\n",
    "### Формат сдачи\n",
    "Задания сдаются через систему Anytask. Инвайт можно получить у семинариста или ассистента. Присылать необходимо ноутбук с выполненным заданием. Сам ноутбук называйте в формате homework-practice-01-pandas-Username.ipynb, где Username — ваша фамилия.\n",
    "\n",
    "Для удобства проверки самостоятельно посчитайте свою максимальную оценку (исходя из набора решенных задач) и укажите ниже.\n",
    "\n",
    "Оценка: 10 + 2."
   ]
  },
  {
   "cell_type": "markdown",
   "metadata": {},
   "source": [
    "## 0. Введение"
   ]
  },
  {
   "cell_type": "markdown",
   "metadata": {},
   "source": [
    "Сейчас мы находимся в jupyter-ноутбуке (или ipython-ноутбуке). Это удобная среда для написания кода, проведения экспериментов, изучения данных, построения визуализаций и других нужд, не связанных с написанием production-кода. \n",
    "\n",
    "Ноутбук состоит из ячеек, каждая из которых может быть либо ячейкой с кодом, либо ячейкой с текстом размеченным и неразмеченным. Текст поддерживает markdown-разметку и формулы в Latex.\n",
    "\n",
    "Для работы с содержимым ячейки используется *режим редактирования* (*Edit mode*, включается нажатием клавиши **Enter** после выбора ячейки), а для навигации между ячейками искользуется *командный режим* (*Command mode*, включается нажатием клавиши **Esc**). Тип ячейки можно задать в командном режиме либо с помощью горячих клавиш (**y** to code, **m** to markdown, **r** to edit raw text), либо в меню *Cell -> Cell type*. \n",
    "\n",
    "После заполнения ячейки нужно нажать *Shift + Enter*, эта команда обработает содержимое ячейки: проинтерпретирует код или сверстает размеченный текст."
   ]
  },
  {
   "cell_type": "code",
   "execution_count": null,
   "metadata": {},
   "outputs": [],
   "source": [
    "# ячейка с кодом, при выполнении которой появится output\n",
    "2 + 2"
   ]
  },
  {
   "cell_type": "markdown",
   "metadata": {},
   "source": [
    "Ячейка с неразмеченыным текстом."
   ]
  },
  {
   "cell_type": "markdown",
   "metadata": {},
   "source": [
    "Попробуйте создать свои ячейки, написать какой-нибудь код и текст какой-нибудь формулой."
   ]
  },
  {
   "cell_type": "code",
   "execution_count": null,
   "metadata": {},
   "outputs": [],
   "source": [
    "print('Legen - wait for it - and I hope you\\'re not lactose intolerant because the second half of that word is - dairy!')"
   ]
  },
  {
   "cell_type": "markdown",
   "metadata": {},
   "source": [
    "$X \\sim \\mathcal{N}(0,1)\\, Y \\sim Pois(\\lambda)$"
   ]
  },
  {
   "cell_type": "markdown",
   "metadata": {},
   "source": [
    "[Здесь](https://athena.brynmawr.edu/jupyter/hub/dblank/public/Jupyter%20Notebook%20Users%20Manual.ipynb) находится <s>не</s>большая заметка о используемом языке разметки Markdown. Он позволяет:\n",
    "\n",
    "0. Составлять упорядоченные списки\n",
    "1. Выделять *текст* <s>при</s> **необходимости**\n",
    "2. Добавлять [ссылки](http://imgs.xkcd.com/comics/the_universal_label.png)\n",
    "\n",
    "\n",
    "* Составлять неупорядоченные списки\n",
    "\n",
    "Делать вставки с помощью LaTex:\n",
    "    \n",
    "$\n",
    "\\left\\{\n",
    "\\begin{array}{ll}\n",
    "x = 16 \\sin^3 (t) \\\\ \n",
    "y = 13 \\cos (t) - 5 \\cos (2t) - 2 \\cos (3t) - \\cos (4t) \\\\\n",
    "t \\in [0, 2 \\pi]\n",
    "\\end{array}\n",
    "\\right.$"
   ]
  },
  {
   "cell_type": "markdown",
   "metadata": {},
   "source": [
    "А ещё можно вставлять картинки, или гифки, или что захотите:\n",
    "\n",
    "<img src=\"https://media.giphy.com/media/FpNuDc5b6P6SI/giphy.gif\" style=\"width: 400px\">"
   ]
  },
  {
   "cell_type": "markdown",
   "metadata": {},
   "source": [
    "### Google Colab"
   ]
  },
  {
   "cell_type": "markdown",
   "metadata": {},
   "source": [
    "Что за колаб? \n",
    "\n",
    "**Google Colab (Colaboratory)** это **Jupyter Notebook + Cloud + Google Drive.**\n",
    "\n",
    "Компания Google предоставляет возможность бесплатно запускать ноутбуки (предварительно загрузив их на свой гугл-диск) прямо в облаке. При этом вам не требуется установка никаких пакетов на свою машину, а работать можно прямиком из браузера. Вот ссылка:"
   ]
  },
  {
   "cell_type": "markdown",
   "metadata": {},
   "source": [
    "https://colab.research.google.com"
   ]
  },
  {
   "cell_type": "markdown",
   "metadata": {},
   "source": [
    "При использовании вы увидете много сходств с jupyter ноутбуком. Одним из преимуществ является доступность GPU, соответствующую опцию можно активировать в настройках сервиса. При желании вы сможете найти в интернете много туториалов по использованию или разобраться самостоятельно =)"
   ]
  },
  {
   "cell_type": "markdown",
   "metadata": {},
   "source": [
    "## 1. Табличные данные и Pandas"
   ]
  },
  {
   "cell_type": "markdown",
   "metadata": {},
   "source": [
    "Pandas — удобная библиотека для работы с табличными данными в Python, если данных не слишком много и они помещаются в оперативную память вашего компьютера. Несмотря на неэффективность реализации и некоторые проблемы, библиотека стала стандартом в анализе данных.\n",
    "\n",
    "Основной объект в pandas — это DataFrame, представляющий собой таблицу с именованными колонками различных типов, индексом (может быть многоуровневым). DataFrame можно создавать, считывая таблицу из файла или задавая вручную из других объектов.\n",
    "\n",
    "В этой части потребуется выполнить несколько небольших заданий. Можно пойти двумя путями: сначала изучить материалы, а потом приступить к заданиям, или же разбираться \"по ходу\". Выбирайте сами.\n",
    "\n",
    "Материалы:\n",
    "1. [Pandas за 10 минут из официального руководства](http://pandas.pydata.org/pandas-docs/stable/10min.html)\n",
    "2. [Документация](http://pandas.pydata.org/pandas-docs/stable/index.html) (стоит обращаться, если не понятно, как вызывать конкретный метод)\n",
    "3. [Примеры использования функционала](http://nbviewer.jupyter.org/github/justmarkham/pandas-videos/blob/master/pandas.ipynb)\n",
    "\n",
    "Многие из заданий можно выполнить несколькими способами. Не существуют единственно верного, но попробуйте максимально задействовать арсенал pandas и ориентируйтесь на простоту и понятность вашего кода. Мы не будем подсказывать, что нужно использовать для решения конкретной задачи, попробуйте находить необходимый функционал сами (название метода чаще всего очевидно). В помощь вам документация, поиск и stackoverflow."
   ]
  },
  {
   "cell_type": "code",
   "execution_count": 1,
   "metadata": {},
   "outputs": [
    {
     "name": "stdout",
     "output_type": "stream",
     "text": [
      "Populating the interactive namespace from numpy and matplotlib\n"
     ]
    }
   ],
   "source": [
    "%pylab inline  \n",
    "import pandas as pd"
   ]
  },
  {
   "cell_type": "markdown",
   "metadata": {},
   "source": [
    "Скачаем данные:"
   ]
  },
  {
   "cell_type": "code",
   "execution_count": null,
   "metadata": {},
   "outputs": [],
   "source": [
    "# !wget  -O 'end_seminar.xlsx' -q 'https://www.dropbox.com/s/f4rm8sjc3v99p0m/_end_seminar.xlsx?dl=0'"
   ]
  },
  {
   "cell_type": "markdown",
   "metadata": {},
   "source": [
    "Для пользователей Windows: скачайте файл самостоятельно и поместите его в папку с тетрадкой. Или попробуйте один из следующих вариантов:"
   ]
  },
  {
   "cell_type": "code",
   "execution_count": null,
   "metadata": {},
   "outputs": [],
   "source": [
    "# !powershell iwr -outf somefile https://somesite/somefile"
   ]
  },
  {
   "cell_type": "code",
   "execution_count": null,
   "metadata": {},
   "outputs": [],
   "source": [
    "# !pip install wget\n",
    "# import wget \n",
    "# wget.download('https://dropbox.com/s/f4rm8sjc3v99p0m/_end_seminar.xlsx?dl=1', 'end_seminar.xlsx')"
   ]
  },
  {
   "cell_type": "markdown",
   "metadata": {},
   "source": [
    "##### В первой части задания (до раздела \"Распределение студентов по курсам\") использование циклов запрещается и повлечет за собой снижение оценки"
   ]
  },
  {
   "cell_type": "markdown",
   "metadata": {},
   "source": [
    "Для каждой задачи из этого раздела вы должны написать код для получения ответа, а также дать текстовый ответ, если он предполагается.\n",
    "\n",
    "На некоторые вопросы вы можете получить путём пристального взгляда на таблицу, но это не будет засчитываться. Вы в любом случае должны получить ответ с помощью кода."
   ]
  },
  {
   "cell_type": "markdown",
   "metadata": {},
   "source": [
    "#### 1. [0 баллов] Откройте файл с таблицей (не забудьте про её формат). Выведите последние 10 строк.\n",
    "\n",
    "Посмотрите на данные и скажите, что они из себя представляют, сколько в таблице строк, какие столбцы? (на это не надо отвечать, просто подумайте об этом)"
   ]
  },
  {
   "cell_type": "code",
   "execution_count": 2,
   "metadata": {},
   "outputs": [],
   "source": [
    "df = pd.read_excel('end_seminar.xlsx')"
   ]
  },
  {
   "cell_type": "code",
   "execution_count": 3,
   "metadata": {},
   "outputs": [
    {
     "data": {
      "text/html": [
       "<div>\n",
       "<style scoped>\n",
       "    .dataframe tbody tr th:only-of-type {\n",
       "        vertical-align: middle;\n",
       "    }\n",
       "\n",
       "    .dataframe tbody tr th {\n",
       "        vertical-align: top;\n",
       "    }\n",
       "\n",
       "    .dataframe thead th {\n",
       "        text-align: right;\n",
       "    }\n",
       "</style>\n",
       "<table border=\"1\" class=\"dataframe\">\n",
       "  <thead>\n",
       "    <tr style=\"text-align: right;\">\n",
       "      <th></th>\n",
       "      <th>timestamp</th>\n",
       "      <th>id</th>\n",
       "      <th>rating</th>\n",
       "      <th>18_group</th>\n",
       "      <th>is_mi</th>\n",
       "      <th>fall_1</th>\n",
       "      <th>fall_2</th>\n",
       "      <th>fall_3</th>\n",
       "      <th>spring_1</th>\n",
       "      <th>spring_2</th>\n",
       "      <th>spring_3</th>\n",
       "      <th>is_first_time</th>\n",
       "      <th>percentile</th>\n",
       "      <th>17_group</th>\n",
       "      <th>blended</th>\n",
       "      <th>is_ml_student</th>\n",
       "    </tr>\n",
       "  </thead>\n",
       "  <tbody>\n",
       "    <tr>\n",
       "      <th>351</th>\n",
       "      <td>2020-05-18 23:58:33.903</td>\n",
       "      <td>8fe79f84f36e3a5d2d6745621321302c</td>\n",
       "      <td>1016</td>\n",
       "      <td>NaN</td>\n",
       "      <td>NaN</td>\n",
       "      <td>Безопасность компьютерных систем</td>\n",
       "      <td>Высокопроизводительные вычисления</td>\n",
       "      <td>Сбор и обработка данных с помощью краудсорсинга</td>\n",
       "      <td>Конфликты и кооперация</td>\n",
       "      <td>Проектирование и разработка высоконагруженных ...</td>\n",
       "      <td>Символьные вычисления</td>\n",
       "      <td>Да</td>\n",
       "      <td>0.942029</td>\n",
       "      <td>174.0</td>\n",
       "      <td>DevOps</td>\n",
       "      <td>NaN</td>\n",
       "    </tr>\n",
       "    <tr>\n",
       "      <th>352</th>\n",
       "      <td>2020-05-18 23:59:20.831</td>\n",
       "      <td>f93afd8e92c336b471aa3bbbc579aefe</td>\n",
       "      <td>1298</td>\n",
       "      <td>NaN</td>\n",
       "      <td>NaN</td>\n",
       "      <td>Высокопроизводительные вычисления</td>\n",
       "      <td>Сбор и обработка данных с помощью краудсорсинга</td>\n",
       "      <td>Statistical Learning Theory</td>\n",
       "      <td>Методы сжатия и передачи медиаданных</td>\n",
       "      <td>Проектирование и разработка высоконагруженных ...</td>\n",
       "      <td>Конфликты и кооперация</td>\n",
       "      <td>Да</td>\n",
       "      <td>0.057971</td>\n",
       "      <td>175.0</td>\n",
       "      <td>DevOps</td>\n",
       "      <td>NaN</td>\n",
       "    </tr>\n",
       "    <tr>\n",
       "      <th>353</th>\n",
       "      <td>2020-05-18 23:59:28.998</td>\n",
       "      <td>9963fc00d9405a35b894cc04a7e19855</td>\n",
       "      <td>1135</td>\n",
       "      <td>NaN</td>\n",
       "      <td>NaN</td>\n",
       "      <td>Безопасность компьютерных систем</td>\n",
       "      <td>Высокопроизводительные вычисления</td>\n",
       "      <td>Безопасность компьютерных систем</td>\n",
       "      <td>Проектирование и разработка высоконагруженных ...</td>\n",
       "      <td>Методы сжатия и передачи медиаданных</td>\n",
       "      <td>Символьные вычисления</td>\n",
       "      <td>Да</td>\n",
       "      <td>0.572464</td>\n",
       "      <td>175.0</td>\n",
       "      <td>DevOps</td>\n",
       "      <td>NaN</td>\n",
       "    </tr>\n",
       "    <tr>\n",
       "      <th>354</th>\n",
       "      <td>2020-05-19 08:55:39.509</td>\n",
       "      <td>98c5a2548d93f26bd4195466e93178b3</td>\n",
       "      <td>1035</td>\n",
       "      <td>NaN</td>\n",
       "      <td>NaN</td>\n",
       "      <td>Байесовские методы машинного обучения</td>\n",
       "      <td>Глубинное обучение в обработке звука</td>\n",
       "      <td>Statistical Learning Theory</td>\n",
       "      <td>Обучение с подкреплением</td>\n",
       "      <td>Генеративные модели в машинном обучении</td>\n",
       "      <td>Методы сжатия и передачи медиаданных</td>\n",
       "      <td>Нет</td>\n",
       "      <td>0.905797</td>\n",
       "      <td>171.0</td>\n",
       "      <td>DevOps</td>\n",
       "      <td>NaN</td>\n",
       "    </tr>\n",
       "    <tr>\n",
       "      <th>355</th>\n",
       "      <td>2020-05-19 18:58:06.283</td>\n",
       "      <td>ba298cbd9be59b84bab33325e956f27e</td>\n",
       "      <td>1155</td>\n",
       "      <td>NaN</td>\n",
       "      <td>NaN</td>\n",
       "      <td>Сбор и обработка данных с помощью краудсорсинга</td>\n",
       "      <td>Байесовские методы машинного обучения</td>\n",
       "      <td>Анализ неструктурированных данных</td>\n",
       "      <td>Конфликты и кооперация</td>\n",
       "      <td>Обучение с подкреплением</td>\n",
       "      <td>Компьютерное зрение</td>\n",
       "      <td>Да</td>\n",
       "      <td>0.507246</td>\n",
       "      <td>171.0</td>\n",
       "      <td>Соревновательный анализ данных</td>\n",
       "      <td>NaN</td>\n",
       "    </tr>\n",
       "    <tr>\n",
       "      <th>356</th>\n",
       "      <td>2020-05-19 19:04:17.873</td>\n",
       "      <td>c5870b37ee3f672e4259dfb2fc02ed8f</td>\n",
       "      <td>1029</td>\n",
       "      <td>NaN</td>\n",
       "      <td>NaN</td>\n",
       "      <td>Statistical Learning Theory</td>\n",
       "      <td>Анализ неструктурированных данных</td>\n",
       "      <td>Сбор и обработка данных с помощью краудсорсинга</td>\n",
       "      <td>Обучение с подкреплением</td>\n",
       "      <td>Конфликты и кооперация</td>\n",
       "      <td>Компьютерное зрение</td>\n",
       "      <td>Да</td>\n",
       "      <td>0.920290</td>\n",
       "      <td>174.0</td>\n",
       "      <td>DevOps</td>\n",
       "      <td>NaN</td>\n",
       "    </tr>\n",
       "    <tr>\n",
       "      <th>357</th>\n",
       "      <td>2020-05-19 20:19:25.815</td>\n",
       "      <td>f44aea1095f9f5b8e2f5f0ed2b17891b</td>\n",
       "      <td>1060</td>\n",
       "      <td>NaN</td>\n",
       "      <td>NaN</td>\n",
       "      <td>Анализ неструктурированных данных</td>\n",
       "      <td>Высокопроизводительные вычисления</td>\n",
       "      <td>Моделирование временных рядов</td>\n",
       "      <td>Конфликты и кооперация</td>\n",
       "      <td>Обучение с подкреплением</td>\n",
       "      <td>Численные методы</td>\n",
       "      <td>Да</td>\n",
       "      <td>0.840580</td>\n",
       "      <td>174.0</td>\n",
       "      <td>DevOps</td>\n",
       "      <td>NaN</td>\n",
       "    </tr>\n",
       "    <tr>\n",
       "      <th>358</th>\n",
       "      <td>2020-05-20 11:54:38.318</td>\n",
       "      <td>d7118b44c7e8fdbbaaca226d2da6fef1</td>\n",
       "      <td>1111</td>\n",
       "      <td>NaN</td>\n",
       "      <td>NaN</td>\n",
       "      <td>Сбор и обработка данных с помощью краудсорсинга</td>\n",
       "      <td>Statistical Learning Theory</td>\n",
       "      <td>Анализ неструктурированных данных</td>\n",
       "      <td>Проектирование и разработка высоконагруженных ...</td>\n",
       "      <td>Методы сжатия и передачи медиаданных</td>\n",
       "      <td>Численные методы</td>\n",
       "      <td>Да</td>\n",
       "      <td>0.652174</td>\n",
       "      <td>173.0</td>\n",
       "      <td>Соревновательный анализ данных</td>\n",
       "      <td>NaN</td>\n",
       "    </tr>\n",
       "    <tr>\n",
       "      <th>359</th>\n",
       "      <td>2020-05-23 21:16:40.916</td>\n",
       "      <td>79d14db48e4737af731960ae212d5134</td>\n",
       "      <td>966</td>\n",
       "      <td>NaN</td>\n",
       "      <td>NaN</td>\n",
       "      <td>Безопасность компьютерных систем</td>\n",
       "      <td>Принятие решений в условиях риска и неопределё...</td>\n",
       "      <td>Анализ неструктурированных данных</td>\n",
       "      <td>Проектирование и разработка высоконагруженных ...</td>\n",
       "      <td>Методы сжатия и передачи медиаданных</td>\n",
       "      <td>Компьютерное зрение</td>\n",
       "      <td>Да</td>\n",
       "      <td>0.985507</td>\n",
       "      <td>172.0</td>\n",
       "      <td>DevOps</td>\n",
       "      <td>NaN</td>\n",
       "    </tr>\n",
       "    <tr>\n",
       "      <th>360</th>\n",
       "      <td>2020-05-23 21:16:40.916</td>\n",
       "      <td>f2d210ace25a841e1e58036b257d5d47</td>\n",
       "      <td>1195</td>\n",
       "      <td>NaN</td>\n",
       "      <td>NaN</td>\n",
       "      <td>Анализ неструктурированных данных</td>\n",
       "      <td>Моделирование временных рядов</td>\n",
       "      <td>Высокопроизводительные вычисления</td>\n",
       "      <td>Обучение с подкреплением</td>\n",
       "      <td>Компьютерное зрение</td>\n",
       "      <td>Методы сжатия и передачи медиаданных</td>\n",
       "      <td>NaN</td>\n",
       "      <td>0.369565</td>\n",
       "      <td>176.0</td>\n",
       "      <td>Соревновательный анализ данных</td>\n",
       "      <td>NaN</td>\n",
       "    </tr>\n",
       "  </tbody>\n",
       "</table>\n",
       "</div>"
      ],
      "text/plain": [
       "                  timestamp                                id  rating  \\\n",
       "351 2020-05-18 23:58:33.903  8fe79f84f36e3a5d2d6745621321302c    1016   \n",
       "352 2020-05-18 23:59:20.831  f93afd8e92c336b471aa3bbbc579aefe    1298   \n",
       "353 2020-05-18 23:59:28.998  9963fc00d9405a35b894cc04a7e19855    1135   \n",
       "354 2020-05-19 08:55:39.509  98c5a2548d93f26bd4195466e93178b3    1035   \n",
       "355 2020-05-19 18:58:06.283  ba298cbd9be59b84bab33325e956f27e    1155   \n",
       "356 2020-05-19 19:04:17.873  c5870b37ee3f672e4259dfb2fc02ed8f    1029   \n",
       "357 2020-05-19 20:19:25.815  f44aea1095f9f5b8e2f5f0ed2b17891b    1060   \n",
       "358 2020-05-20 11:54:38.318  d7118b44c7e8fdbbaaca226d2da6fef1    1111   \n",
       "359 2020-05-23 21:16:40.916  79d14db48e4737af731960ae212d5134     966   \n",
       "360 2020-05-23 21:16:40.916  f2d210ace25a841e1e58036b257d5d47    1195   \n",
       "\n",
       "     18_group  is_mi                                           fall_1  \\\n",
       "351       NaN    NaN                 Безопасность компьютерных систем   \n",
       "352       NaN    NaN                Высокопроизводительные вычисления   \n",
       "353       NaN    NaN                 Безопасность компьютерных систем   \n",
       "354       NaN    NaN            Байесовские методы машинного обучения   \n",
       "355       NaN    NaN  Сбор и обработка данных с помощью краудсорсинга   \n",
       "356       NaN    NaN                      Statistical Learning Theory   \n",
       "357       NaN    NaN                Анализ неструктурированных данных   \n",
       "358       NaN    NaN  Сбор и обработка данных с помощью краудсорсинга   \n",
       "359       NaN    NaN                 Безопасность компьютерных систем   \n",
       "360       NaN    NaN                Анализ неструктурированных данных   \n",
       "\n",
       "                                                fall_2  \\\n",
       "351                  Высокопроизводительные вычисления   \n",
       "352    Сбор и обработка данных с помощью краудсорсинга   \n",
       "353                  Высокопроизводительные вычисления   \n",
       "354               Глубинное обучение в обработке звука   \n",
       "355              Байесовские методы машинного обучения   \n",
       "356                  Анализ неструктурированных данных   \n",
       "357                  Высокопроизводительные вычисления   \n",
       "358                        Statistical Learning Theory   \n",
       "359  Принятие решений в условиях риска и неопределё...   \n",
       "360                      Моделирование временных рядов   \n",
       "\n",
       "                                              fall_3  \\\n",
       "351  Сбор и обработка данных с помощью краудсорсинга   \n",
       "352                      Statistical Learning Theory   \n",
       "353                 Безопасность компьютерных систем   \n",
       "354                      Statistical Learning Theory   \n",
       "355                Анализ неструктурированных данных   \n",
       "356  Сбор и обработка данных с помощью краудсорсинга   \n",
       "357                    Моделирование временных рядов   \n",
       "358                Анализ неструктурированных данных   \n",
       "359                Анализ неструктурированных данных   \n",
       "360                Высокопроизводительные вычисления   \n",
       "\n",
       "                                              spring_1  \\\n",
       "351                             Конфликты и кооперация   \n",
       "352               Методы сжатия и передачи медиаданных   \n",
       "353  Проектирование и разработка высоконагруженных ...   \n",
       "354                           Обучение с подкреплением   \n",
       "355                             Конфликты и кооперация   \n",
       "356                           Обучение с подкреплением   \n",
       "357                             Конфликты и кооперация   \n",
       "358  Проектирование и разработка высоконагруженных ...   \n",
       "359  Проектирование и разработка высоконагруженных ...   \n",
       "360                           Обучение с подкреплением   \n",
       "\n",
       "                                              spring_2  \\\n",
       "351  Проектирование и разработка высоконагруженных ...   \n",
       "352  Проектирование и разработка высоконагруженных ...   \n",
       "353               Методы сжатия и передачи медиаданных   \n",
       "354            Генеративные модели в машинном обучении   \n",
       "355                           Обучение с подкреплением   \n",
       "356                             Конфликты и кооперация   \n",
       "357                           Обучение с подкреплением   \n",
       "358               Методы сжатия и передачи медиаданных   \n",
       "359               Методы сжатия и передачи медиаданных   \n",
       "360                                Компьютерное зрение   \n",
       "\n",
       "                                 spring_3 is_first_time  percentile  17_group  \\\n",
       "351                 Символьные вычисления            Да    0.942029     174.0   \n",
       "352                Конфликты и кооперация            Да    0.057971     175.0   \n",
       "353                 Символьные вычисления            Да    0.572464     175.0   \n",
       "354  Методы сжатия и передачи медиаданных           Нет    0.905797     171.0   \n",
       "355                   Компьютерное зрение            Да    0.507246     171.0   \n",
       "356                   Компьютерное зрение            Да    0.920290     174.0   \n",
       "357                      Численные методы            Да    0.840580     174.0   \n",
       "358                      Численные методы            Да    0.652174     173.0   \n",
       "359                   Компьютерное зрение            Да    0.985507     172.0   \n",
       "360  Методы сжатия и передачи медиаданных           NaN    0.369565     176.0   \n",
       "\n",
       "                            blended  is_ml_student  \n",
       "351                          DevOps            NaN  \n",
       "352                          DevOps            NaN  \n",
       "353                          DevOps            NaN  \n",
       "354                          DevOps            NaN  \n",
       "355  Соревновательный анализ данных            NaN  \n",
       "356                          DevOps            NaN  \n",
       "357                          DevOps            NaN  \n",
       "358  Соревновательный анализ данных            NaN  \n",
       "359                          DevOps            NaN  \n",
       "360  Соревновательный анализ данных            NaN  "
      ]
     },
     "execution_count": 3,
     "metadata": {},
     "output_type": "execute_result"
    }
   ],
   "source": [
    "df.tail(10)"
   ]
  },
  {
   "cell_type": "markdown",
   "metadata": {},
   "source": [
    "#### 2. [0.5 балла] Ответьте на вопросы:\n",
    "1. Сколько было заявок из групп 18-го года набора, а сколько из групп 17-го года?\n",
    "2. Есть ли студенты с равными перцентилями?"
   ]
  },
  {
   "cell_type": "code",
   "execution_count": 4,
   "metadata": {},
   "outputs": [
    {
     "name": "stdout",
     "output_type": "stream",
     "text": [
      "223 applications from class 2018-2022\n"
     ]
    }
   ],
   "source": [
    "num_18 = df['18_group'].count()\n",
    "print(num_18, 'applications from class 2018-2022')"
   ]
  },
  {
   "cell_type": "code",
   "execution_count": 5,
   "metadata": {},
   "outputs": [
    {
     "name": "stdout",
     "output_type": "stream",
     "text": [
      "138 applications from class 2017-2021\n"
     ]
    }
   ],
   "source": [
    "num_17 = df['17_group'].count()\n",
    "print(num_17, 'applications from class 2017-2021')"
   ]
  },
  {
   "cell_type": "code",
   "execution_count": 6,
   "metadata": {},
   "outputs": [
    {
     "name": "stdout",
     "output_type": "stream",
     "text": [
      "There are students with the same percentile.\n"
     ]
    }
   ],
   "source": [
    "print('There are students with the same percentile.') if df.groupby('percentile')['id'].nunique().max() > 1 else print('Percentile values are unique.')"
   ]
  },
  {
   "cell_type": "markdown",
   "metadata": {},
   "source": [
    "#### 3. [0.5 балла] Есть ли в данных пропуски? В каких колонках? Сколько их в каждой из этих колонок?"
   ]
  },
  {
   "cell_type": "code",
   "execution_count": 7,
   "metadata": {},
   "outputs": [
    {
     "name": "stdout",
     "output_type": "stream",
     "text": [
      "Number of missing values in each column\n"
     ]
    },
    {
     "data": {
      "text/plain": [
       "timestamp          0\n",
       "id                 0\n",
       "rating             0\n",
       "18_group         138\n",
       "is_mi            343\n",
       "fall_1             0\n",
       "fall_2             0\n",
       "fall_3             0\n",
       "spring_1           0\n",
       "spring_2           0\n",
       "spring_3           0\n",
       "is_first_time      2\n",
       "percentile         0\n",
       "17_group         223\n",
       "blended          223\n",
       "is_ml_student    304\n",
       "dtype: int64"
      ]
     },
     "execution_count": 7,
     "metadata": {},
     "output_type": "execute_result"
    }
   ],
   "source": [
    "print ('Number of missing values in each column')\n",
    "pd.isna(df).sum()"
   ]
  },
  {
   "cell_type": "markdown",
   "metadata": {},
   "source": [
    "**Ответ:** Есть пропуски в колонках 18_group, is_mi, 17_group, blended, is_ml_student."
   ]
  },
  {
   "cell_type": "markdown",
   "metadata": {},
   "source": [
    "Заполните пропуски пустой строкой для строковых колонок и нулём для числовых."
   ]
  },
  {
   "cell_type": "code",
   "execution_count": 8,
   "metadata": {},
   "outputs": [
    {
     "data": {
      "text/plain": [
       "timestamp        datetime64[ns]\n",
       "id                       object\n",
       "rating                    int64\n",
       "18_group                float64\n",
       "is_mi                   float64\n",
       "fall_1                   object\n",
       "fall_2                   object\n",
       "fall_3                   object\n",
       "spring_1                 object\n",
       "spring_2                 object\n",
       "spring_3                 object\n",
       "is_first_time            object\n",
       "percentile              float64\n",
       "17_group                float64\n",
       "blended                  object\n",
       "is_ml_student           float64\n",
       "dtype: object"
      ]
     },
     "execution_count": 8,
     "metadata": {},
     "output_type": "execute_result"
    }
   ],
   "source": [
    "# check dtypes\n",
    "df.dtypes"
   ]
  },
  {
   "cell_type": "markdown",
   "metadata": {},
   "source": [
    "[Stackoverflow: fillna in selected columns](https://stackoverflow.com/questions/38134012/pandas-dataframe-fillna-only-some-columns-in-place/47315262)"
   ]
  },
  {
   "cell_type": "code",
   "execution_count": 9,
   "metadata": {},
   "outputs": [],
   "source": [
    "df[['18_group', '17_group', 'is_mi', 'is_ml_student']] = df[['18_group', '17_group', 'is_mi', 'is_ml_student']].fillna(0)\n",
    "\n",
    "df[['is_first_time', 'blended']] = df[['is_first_time', 'blended']].fillna(value=\"\")"
   ]
  },
  {
   "cell_type": "markdown",
   "metadata": {},
   "source": [
    "**Проверка:**"
   ]
  },
  {
   "cell_type": "code",
   "execution_count": 10,
   "metadata": {},
   "outputs": [],
   "source": [
    "assert df.isna().sum().sum() == 0, 'В таблице остались пропуски'"
   ]
  },
  {
   "cell_type": "markdown",
   "metadata": {},
   "source": [
    "#### 4. [0.5 балла] Посмотрите повнимательнее на колонку 'is_first_time'. \n",
    "\n",
    "Есть ли в ней ответы \"Нет\"? Сколько их?\n",
    "\n",
    "Если вы найдете повторные обращения студентов, оставьте только самую позднюю версию. "
   ]
  },
  {
   "cell_type": "code",
   "execution_count": 11,
   "metadata": {},
   "outputs": [
    {
     "name": "stdout",
     "output_type": "stream",
     "text": [
      "There are 51 applications with answer \"Нет\".\n"
     ]
    }
   ],
   "source": [
    "num_of_no = df.is_first_time[df['is_first_time'] == 'Нет'].count()\n",
    "print ('There are', num_of_no, 'applications with answer \\\"Нет\\\".')"
   ]
  },
  {
   "cell_type": "markdown",
   "metadata": {},
   "source": [
    "[Stackoverflow: keep last timestamp](https://stackoverflow.com/questions/49425727/how-do-i-drop-duplicates-and-keep-the-last-timestamp-on-pandas)"
   ]
  },
  {
   "cell_type": "code",
   "execution_count": 12,
   "metadata": {},
   "outputs": [],
   "source": [
    "df = df.loc[df.groupby('id')['timestamp'].idxmax()].sort_index(axis=0).reset_index(drop=True)"
   ]
  },
  {
   "cell_type": "markdown",
   "metadata": {},
   "source": [
    "**Проверка:**"
   ]
  },
  {
   "cell_type": "code",
   "execution_count": 13,
   "metadata": {},
   "outputs": [],
   "source": [
    "assert df.id.nunique() == df.shape[0], 'В таблице остались повторы'"
   ]
  },
  {
   "cell_type": "markdown",
   "metadata": {},
   "source": [
    "#### 5. [0.5 балла] Какие  blended-курсы для четверокурсников существуют? На какой blended-курс записалось наибольшее количество студентов? На каком из курсов собрались студенты с самым высоким средним рейтингом? "
   ]
  },
  {
   "cell_type": "code",
   "execution_count": 14,
   "metadata": {},
   "outputs": [
    {
     "name": "stdout",
     "output_type": "stream",
     "text": [
      "The available blended courses are:\n",
      "['DevOps' 'Введение в дифференциальную геометрию'\n",
      " 'Соревновательный анализ данных']\n"
     ]
    }
   ],
   "source": [
    "print('The available blended courses are:')\n",
    "print(df[df['17_group'] != 0].blended.unique())"
   ]
  },
  {
   "cell_type": "markdown",
   "metadata": {},
   "source": [
    "[Converting groupby to dataframe](https://technology.amis.nl/2019/10/11/convert-groupby-result-on-pandas-data-frame-into-a-data-frame-using-to_frame/)"
   ]
  },
  {
   "cell_type": "code",
   "execution_count": 15,
   "metadata": {},
   "outputs": [
    {
     "data": {
      "text/html": [
       "<div>\n",
       "<style scoped>\n",
       "    .dataframe tbody tr th:only-of-type {\n",
       "        vertical-align: middle;\n",
       "    }\n",
       "\n",
       "    .dataframe tbody tr th {\n",
       "        vertical-align: top;\n",
       "    }\n",
       "\n",
       "    .dataframe thead th {\n",
       "        text-align: right;\n",
       "    }\n",
       "</style>\n",
       "<table border=\"1\" class=\"dataframe\">\n",
       "  <thead>\n",
       "    <tr style=\"text-align: right;\">\n",
       "      <th></th>\n",
       "      <th>blended</th>\n",
       "      <th>number of students</th>\n",
       "    </tr>\n",
       "  </thead>\n",
       "  <tbody>\n",
       "    <tr>\n",
       "      <th>0</th>\n",
       "      <td>DevOps</td>\n",
       "      <td>87</td>\n",
       "    </tr>\n",
       "    <tr>\n",
       "      <th>1</th>\n",
       "      <td>Введение в дифференциальную геометрию</td>\n",
       "      <td>15</td>\n",
       "    </tr>\n",
       "    <tr>\n",
       "      <th>2</th>\n",
       "      <td>Соревновательный анализ данных</td>\n",
       "      <td>32</td>\n",
       "    </tr>\n",
       "  </tbody>\n",
       "</table>\n",
       "</div>"
      ],
      "text/plain": [
       "                                 blended  number of students\n",
       "0                                 DevOps                  87\n",
       "1  Введение в дифференциальную геометрию                  15\n",
       "2         Соревновательный анализ данных                  32"
      ]
     },
     "execution_count": 15,
     "metadata": {},
     "output_type": "execute_result"
    }
   ],
   "source": [
    "blended_df = df[df['17_group'] != 0].groupby('blended')\n",
    "blended_count = blended_df.count()[['id']]['id'].to_frame(name='number of students').reset_index()\n",
    "\n",
    "blended_count"
   ]
  },
  {
   "cell_type": "code",
   "execution_count": 16,
   "metadata": {},
   "outputs": [
    {
     "name": "stdout",
     "output_type": "stream",
     "text": [
      "The most popular course is DevOps with 87 students.\n"
     ]
    }
   ],
   "source": [
    "blended_cnt_idxmax = blended_count['number of students'].idxmax()\n",
    "print('The most popular course is', blended_count.loc[blended_cnt_idxmax,'blended'], \n",
    "      'with', blended_count.loc[blended_cnt_idxmax,'number of students'], 'students.')"
   ]
  },
  {
   "cell_type": "code",
   "execution_count": 17,
   "metadata": {},
   "outputs": [
    {
     "data": {
      "text/html": [
       "<div>\n",
       "<style scoped>\n",
       "    .dataframe tbody tr th:only-of-type {\n",
       "        vertical-align: middle;\n",
       "    }\n",
       "\n",
       "    .dataframe tbody tr th {\n",
       "        vertical-align: top;\n",
       "    }\n",
       "\n",
       "    .dataframe thead th {\n",
       "        text-align: right;\n",
       "    }\n",
       "</style>\n",
       "<table border=\"1\" class=\"dataframe\">\n",
       "  <thead>\n",
       "    <tr style=\"text-align: right;\">\n",
       "      <th></th>\n",
       "      <th>blended</th>\n",
       "      <th>mean rating</th>\n",
       "    </tr>\n",
       "  </thead>\n",
       "  <tbody>\n",
       "    <tr>\n",
       "      <th>0</th>\n",
       "      <td>DevOps</td>\n",
       "      <td>1154.172414</td>\n",
       "    </tr>\n",
       "    <tr>\n",
       "      <th>1</th>\n",
       "      <td>Введение в дифференциальную геометрию</td>\n",
       "      <td>1210.733333</td>\n",
       "    </tr>\n",
       "    <tr>\n",
       "      <th>2</th>\n",
       "      <td>Соревновательный анализ данных</td>\n",
       "      <td>1144.218750</td>\n",
       "    </tr>\n",
       "  </tbody>\n",
       "</table>\n",
       "</div>"
      ],
      "text/plain": [
       "                                 blended  mean rating\n",
       "0                                 DevOps  1154.172414\n",
       "1  Введение в дифференциальную геометрию  1210.733333\n",
       "2         Соревновательный анализ данных  1144.218750"
      ]
     },
     "execution_count": 17,
     "metadata": {},
     "output_type": "execute_result"
    }
   ],
   "source": [
    "blended_mean = blended_df.mean()[['rating']]['rating'].to_frame(name='mean rating').reset_index()\n",
    "blended_mean"
   ]
  },
  {
   "cell_type": "code",
   "execution_count": 18,
   "metadata": {},
   "outputs": [
    {
     "name": "stdout",
     "output_type": "stream",
     "text": [
      "The course with the highest mean rating is Введение в дифференциальную геометрию (mean rating = 1210.7333333333333 )\n"
     ]
    }
   ],
   "source": [
    "blended_mr_idxmax = blended_mean['mean rating'].idxmax()\n",
    "print('The course with the highest mean rating is', blended_mean.loc[blended_mr_idxmax,'blended'], \n",
    "      '(mean rating =', blended_mean.loc[blended_mr_idxmax,'mean rating'],')')"
   ]
  },
  {
   "cell_type": "markdown",
   "metadata": {},
   "source": [
    "#### 6. [1 балл] Выясните, есть ли в данных студенты с абсолютно одинаковыми предпочтениями по всем курсам (не забудьте учесть blended-курсы для четверокурсников). Сколько таких наборов, которые взяли несколько студентов? Выведите их все вместе с количеством выбравших их студентов."
   ]
  },
  {
   "cell_type": "code",
   "execution_count": 19,
   "metadata": {
    "scrolled": false
   },
   "outputs": [
    {
     "name": "stdout",
     "output_type": "stream",
     "text": [
      "9 non-unique combinations for class 2018-2022\n"
     ]
    },
    {
     "data": {
      "text/html": [
       "<div>\n",
       "<style scoped>\n",
       "    .dataframe tbody tr th:only-of-type {\n",
       "        vertical-align: middle;\n",
       "    }\n",
       "\n",
       "    .dataframe tbody tr th {\n",
       "        vertical-align: top;\n",
       "    }\n",
       "\n",
       "    .dataframe thead th {\n",
       "        text-align: right;\n",
       "    }\n",
       "</style>\n",
       "<table border=\"1\" class=\"dataframe\">\n",
       "  <thead>\n",
       "    <tr style=\"text-align: right;\">\n",
       "      <th></th>\n",
       "      <th>fall_1</th>\n",
       "      <th>fall_2</th>\n",
       "      <th>fall_3</th>\n",
       "      <th>spring_1</th>\n",
       "      <th>spring_2</th>\n",
       "      <th>spring_3</th>\n",
       "      <th>number of students</th>\n",
       "    </tr>\n",
       "  </thead>\n",
       "  <tbody>\n",
       "    <tr>\n",
       "      <th>0</th>\n",
       "      <td>Безопасность компьютерных систем</td>\n",
       "      <td>Statistical Learning Theory</td>\n",
       "      <td>Матричные вычисления</td>\n",
       "      <td>Дискретная оптимизация</td>\n",
       "      <td>Промышленное программирование на языке Java</td>\n",
       "      <td>Дополнительные главы прикладной статистики</td>\n",
       "      <td>3</td>\n",
       "    </tr>\n",
       "    <tr>\n",
       "      <th>1</th>\n",
       "      <td>Безопасность компьютерных систем</td>\n",
       "      <td>Высокопроизводительные вычисления</td>\n",
       "      <td>Язык SQL</td>\n",
       "      <td>Компьютерные сети</td>\n",
       "      <td>Промышленное программирование на языке Java</td>\n",
       "      <td>Дискретная оптимизация</td>\n",
       "      <td>3</td>\n",
       "    </tr>\n",
       "    <tr>\n",
       "      <th>2</th>\n",
       "      <td>Безопасность компьютерных систем</td>\n",
       "      <td>Высокопроизводительные вычисления</td>\n",
       "      <td>Язык SQL</td>\n",
       "      <td>Промышленное программирование на языке Java</td>\n",
       "      <td>Компьютерные сети</td>\n",
       "      <td>Системы баз данных</td>\n",
       "      <td>2</td>\n",
       "    </tr>\n",
       "    <tr>\n",
       "      <th>3</th>\n",
       "      <td>Безопасность компьютерных систем</td>\n",
       "      <td>Матричные вычисления</td>\n",
       "      <td>Моделирование временных рядов</td>\n",
       "      <td>Промышленное программирование на языке Java</td>\n",
       "      <td>Компьютерные сети</td>\n",
       "      <td>Дискретная оптимизация</td>\n",
       "      <td>2</td>\n",
       "    </tr>\n",
       "    <tr>\n",
       "      <th>4</th>\n",
       "      <td>Безопасность компьютерных систем</td>\n",
       "      <td>Сбор и обработка данных с помощью краудсорсинга</td>\n",
       "      <td>Матричные вычисления</td>\n",
       "      <td>Компьютерные сети</td>\n",
       "      <td>Промышленное программирование на языке Java</td>\n",
       "      <td>Анализ данных в бизнесе</td>\n",
       "      <td>2</td>\n",
       "    </tr>\n",
       "    <tr>\n",
       "      <th>5</th>\n",
       "      <td>Безопасность компьютерных систем</td>\n",
       "      <td>Теория баз данных</td>\n",
       "      <td>Язык SQL</td>\n",
       "      <td>Машинное обучение 2</td>\n",
       "      <td>Компьютерные сети</td>\n",
       "      <td>Промышленное программирование на языке Java</td>\n",
       "      <td>2</td>\n",
       "    </tr>\n",
       "    <tr>\n",
       "      <th>6</th>\n",
       "      <td>Моделирование временных рядов</td>\n",
       "      <td>Сбор и обработка данных с помощью краудсорсинга</td>\n",
       "      <td>Безопасность компьютерных систем</td>\n",
       "      <td>Компьютерные сети</td>\n",
       "      <td>Дополнительные главы прикладной статистики</td>\n",
       "      <td>Системы баз данных</td>\n",
       "      <td>2</td>\n",
       "    </tr>\n",
       "    <tr>\n",
       "      <th>7</th>\n",
       "      <td>Сбор и обработка данных с помощью краудсорсинга</td>\n",
       "      <td>Язык SQL</td>\n",
       "      <td>Теория баз данных</td>\n",
       "      <td>Промышленное программирование на языке Java</td>\n",
       "      <td>Машинное обучение 2</td>\n",
       "      <td>Компьютерные сети</td>\n",
       "      <td>2</td>\n",
       "    </tr>\n",
       "    <tr>\n",
       "      <th>8</th>\n",
       "      <td>Язык SQL</td>\n",
       "      <td>Высокопроизводительные вычисления</td>\n",
       "      <td>Теория баз данных</td>\n",
       "      <td>Компьютерные сети</td>\n",
       "      <td>Промышленное программирование на языке Java</td>\n",
       "      <td>Дискретная оптимизация</td>\n",
       "      <td>2</td>\n",
       "    </tr>\n",
       "  </tbody>\n",
       "</table>\n",
       "</div>"
      ],
      "text/plain": [
       "                                            fall_1  \\\n",
       "0                 Безопасность компьютерных систем   \n",
       "1                 Безопасность компьютерных систем   \n",
       "2                 Безопасность компьютерных систем   \n",
       "3                 Безопасность компьютерных систем   \n",
       "4                 Безопасность компьютерных систем   \n",
       "5                 Безопасность компьютерных систем   \n",
       "6                    Моделирование временных рядов   \n",
       "7  Сбор и обработка данных с помощью краудсорсинга   \n",
       "8                                         Язык SQL   \n",
       "\n",
       "                                            fall_2  \\\n",
       "0                      Statistical Learning Theory   \n",
       "1                Высокопроизводительные вычисления   \n",
       "2                Высокопроизводительные вычисления   \n",
       "3                             Матричные вычисления   \n",
       "4  Сбор и обработка данных с помощью краудсорсинга   \n",
       "5                                Теория баз данных   \n",
       "6  Сбор и обработка данных с помощью краудсорсинга   \n",
       "7                                         Язык SQL   \n",
       "8                Высокопроизводительные вычисления   \n",
       "\n",
       "                             fall_3  \\\n",
       "0              Матричные вычисления   \n",
       "1                          Язык SQL   \n",
       "2                          Язык SQL   \n",
       "3     Моделирование временных рядов   \n",
       "4              Матричные вычисления   \n",
       "5                          Язык SQL   \n",
       "6  Безопасность компьютерных систем   \n",
       "7                 Теория баз данных   \n",
       "8                 Теория баз данных   \n",
       "\n",
       "                                      spring_1  \\\n",
       "0                       Дискретная оптимизация   \n",
       "1                            Компьютерные сети   \n",
       "2  Промышленное программирование на языке Java   \n",
       "3  Промышленное программирование на языке Java   \n",
       "4                            Компьютерные сети   \n",
       "5                          Машинное обучение 2   \n",
       "6                            Компьютерные сети   \n",
       "7  Промышленное программирование на языке Java   \n",
       "8                            Компьютерные сети   \n",
       "\n",
       "                                      spring_2  \\\n",
       "0  Промышленное программирование на языке Java   \n",
       "1  Промышленное программирование на языке Java   \n",
       "2                            Компьютерные сети   \n",
       "3                            Компьютерные сети   \n",
       "4  Промышленное программирование на языке Java   \n",
       "5                            Компьютерные сети   \n",
       "6   Дополнительные главы прикладной статистики   \n",
       "7                          Машинное обучение 2   \n",
       "8  Промышленное программирование на языке Java   \n",
       "\n",
       "                                      spring_3  number of students  \n",
       "0   Дополнительные главы прикладной статистики                   3  \n",
       "1                       Дискретная оптимизация                   3  \n",
       "2                           Системы баз данных                   2  \n",
       "3                       Дискретная оптимизация                   2  \n",
       "4                      Анализ данных в бизнесе                   2  \n",
       "5  Промышленное программирование на языке Java                   2  \n",
       "6                           Системы баз данных                   2  \n",
       "7                            Компьютерные сети                   2  \n",
       "8                       Дискретная оптимизация                   2  "
      ]
     },
     "metadata": {},
     "output_type": "display_data"
    },
    {
     "name": "stdout",
     "output_type": "stream",
     "text": [
      "6 non-unique combinations for class 2017-2021\n"
     ]
    },
    {
     "data": {
      "text/html": [
       "<div>\n",
       "<style scoped>\n",
       "    .dataframe tbody tr th:only-of-type {\n",
       "        vertical-align: middle;\n",
       "    }\n",
       "\n",
       "    .dataframe tbody tr th {\n",
       "        vertical-align: top;\n",
       "    }\n",
       "\n",
       "    .dataframe thead th {\n",
       "        text-align: right;\n",
       "    }\n",
       "</style>\n",
       "<table border=\"1\" class=\"dataframe\">\n",
       "  <thead>\n",
       "    <tr style=\"text-align: right;\">\n",
       "      <th></th>\n",
       "      <th>fall_1</th>\n",
       "      <th>fall_2</th>\n",
       "      <th>fall_3</th>\n",
       "      <th>spring_1</th>\n",
       "      <th>spring_2</th>\n",
       "      <th>spring_3</th>\n",
       "      <th>blended</th>\n",
       "      <th>number of students</th>\n",
       "    </tr>\n",
       "  </thead>\n",
       "  <tbody>\n",
       "    <tr>\n",
       "      <th>0</th>\n",
       "      <td>Statistical Learning Theory</td>\n",
       "      <td>Анализ неструктурированных данных</td>\n",
       "      <td>Сбор и обработка данных с помощью краудсорсинга</td>\n",
       "      <td>Обучение с подкреплением</td>\n",
       "      <td>Конфликты и кооперация</td>\n",
       "      <td>Компьютерное зрение</td>\n",
       "      <td>DevOps</td>\n",
       "      <td>2</td>\n",
       "    </tr>\n",
       "    <tr>\n",
       "      <th>1</th>\n",
       "      <td>Байесовские методы машинного обучения</td>\n",
       "      <td>Анализ неструктурированных данных</td>\n",
       "      <td>Глубинное обучение в обработке звука</td>\n",
       "      <td>Обучение с подкреплением</td>\n",
       "      <td>Генеративные модели в машинном обучении</td>\n",
       "      <td>Компьютерное зрение</td>\n",
       "      <td>DevOps</td>\n",
       "      <td>2</td>\n",
       "    </tr>\n",
       "    <tr>\n",
       "      <th>2</th>\n",
       "      <td>Байесовские методы машинного обучения</td>\n",
       "      <td>Анализ неструктурированных данных</td>\n",
       "      <td>Сбор и обработка данных с помощью краудсорсинга</td>\n",
       "      <td>Обучение с подкреплением</td>\n",
       "      <td>Компьютерное зрение</td>\n",
       "      <td>Генеративные модели в машинном обучении</td>\n",
       "      <td>DevOps</td>\n",
       "      <td>2</td>\n",
       "    </tr>\n",
       "    <tr>\n",
       "      <th>3</th>\n",
       "      <td>Безопасность компьютерных систем</td>\n",
       "      <td>Высокопроизводительные вычисления</td>\n",
       "      <td>Анализ неструктурированных данных</td>\n",
       "      <td>Проектирование и разработка высоконагруженных ...</td>\n",
       "      <td>Методы сжатия и передачи медиаданных</td>\n",
       "      <td>Конфликты и кооперация</td>\n",
       "      <td>DevOps</td>\n",
       "      <td>2</td>\n",
       "    </tr>\n",
       "    <tr>\n",
       "      <th>4</th>\n",
       "      <td>Высокопроизводительные вычисления</td>\n",
       "      <td>Безопасность компьютерных систем</td>\n",
       "      <td>Сбор и обработка данных с помощью краудсорсинга</td>\n",
       "      <td>Проектирование и разработка высоконагруженных ...</td>\n",
       "      <td>Методы сжатия и передачи медиаданных</td>\n",
       "      <td>Компьютерное зрение</td>\n",
       "      <td>DevOps</td>\n",
       "      <td>2</td>\n",
       "    </tr>\n",
       "    <tr>\n",
       "      <th>5</th>\n",
       "      <td>Высокопроизводительные вычисления</td>\n",
       "      <td>Сбор и обработка данных с помощью краудсорсинга</td>\n",
       "      <td>Моделирование временных рядов</td>\n",
       "      <td>Проектирование и разработка высоконагруженных ...</td>\n",
       "      <td>Методы сжатия и передачи медиаданных</td>\n",
       "      <td>Методы сжатия и передачи медиаданных</td>\n",
       "      <td>DevOps</td>\n",
       "      <td>2</td>\n",
       "    </tr>\n",
       "  </tbody>\n",
       "</table>\n",
       "</div>"
      ],
      "text/plain": [
       "                                  fall_1  \\\n",
       "0            Statistical Learning Theory   \n",
       "1  Байесовские методы машинного обучения   \n",
       "2  Байесовские методы машинного обучения   \n",
       "3       Безопасность компьютерных систем   \n",
       "4      Высокопроизводительные вычисления   \n",
       "5      Высокопроизводительные вычисления   \n",
       "\n",
       "                                            fall_2  \\\n",
       "0                Анализ неструктурированных данных   \n",
       "1                Анализ неструктурированных данных   \n",
       "2                Анализ неструктурированных данных   \n",
       "3                Высокопроизводительные вычисления   \n",
       "4                 Безопасность компьютерных систем   \n",
       "5  Сбор и обработка данных с помощью краудсорсинга   \n",
       "\n",
       "                                            fall_3  \\\n",
       "0  Сбор и обработка данных с помощью краудсорсинга   \n",
       "1             Глубинное обучение в обработке звука   \n",
       "2  Сбор и обработка данных с помощью краудсорсинга   \n",
       "3                Анализ неструктурированных данных   \n",
       "4  Сбор и обработка данных с помощью краудсорсинга   \n",
       "5                    Моделирование временных рядов   \n",
       "\n",
       "                                            spring_1  \\\n",
       "0                           Обучение с подкреплением   \n",
       "1                           Обучение с подкреплением   \n",
       "2                           Обучение с подкреплением   \n",
       "3  Проектирование и разработка высоконагруженных ...   \n",
       "4  Проектирование и разработка высоконагруженных ...   \n",
       "5  Проектирование и разработка высоконагруженных ...   \n",
       "\n",
       "                                  spring_2  \\\n",
       "0                   Конфликты и кооперация   \n",
       "1  Генеративные модели в машинном обучении   \n",
       "2                      Компьютерное зрение   \n",
       "3     Методы сжатия и передачи медиаданных   \n",
       "4     Методы сжатия и передачи медиаданных   \n",
       "5     Методы сжатия и передачи медиаданных   \n",
       "\n",
       "                                  spring_3 blended  number of students  \n",
       "0                      Компьютерное зрение  DevOps                   2  \n",
       "1                      Компьютерное зрение  DevOps                   2  \n",
       "2  Генеративные модели в машинном обучении  DevOps                   2  \n",
       "3                   Конфликты и кооперация  DevOps                   2  \n",
       "4                      Компьютерное зрение  DevOps                   2  \n",
       "5     Методы сжатия и передачи медиаданных  DevOps                   2  "
      ]
     },
     "metadata": {},
     "output_type": "display_data"
    }
   ],
   "source": [
    "from IPython.display import display\n",
    "\n",
    "df_18 = df[df['18_group'] != 0]\n",
    "subsets_18 = df_18.groupby(['fall_1','fall_2','fall_3','spring_1','spring_2','spring_3']).count()[['id']]\n",
    "subsets_18 = subsets_18[subsets_18['id'] != 1]\n",
    "subsets_18 = subsets_18['id'].to_frame(name='number of students').reset_index()\n",
    "\n",
    "df_17 = df[df['17_group'] != 0]\n",
    "subsets_17 = df_17.groupby(['fall_1','fall_2','fall_3','spring_1','spring_2','spring_3','blended']).count()[['id']]\n",
    "subsets_17 = subsets_17[subsets_17['id'] != 1]\n",
    "subsets_17 = subsets_17['id'].to_frame(name='number of students').reset_index()\n",
    "\n",
    "print(subsets_18.shape[0], 'non-unique combinations for class 2018-2022')\n",
    "display(subsets_18)\n",
    "print(subsets_17.shape[0], 'non-unique combinations for class 2017-2021')\n",
    "display(subsets_17)"
   ]
  },
  {
   "cell_type": "markdown",
   "metadata": {},
   "source": [
    "#### 7. [0.5 балла] Найдите курсы по выбору, на которые записывались как студенты 18-го года набора, так и студенты 17-го года."
   ]
  },
  {
   "cell_type": "markdown",
   "metadata": {},
   "source": [
    "[Stackoverflow: finding unique values across multiple columns](https://stackoverflow.com/questions/26977076/pandas-unique-values-multiple-columns)"
   ]
  },
  {
   "cell_type": "code",
   "execution_count": 20,
   "metadata": {},
   "outputs": [],
   "source": [
    "courses_18 = np.unique(df_18.loc[:,'fall_1':'spring_3'].values)\n",
    "courses_17 = np.unique(df_17.loc[:,'fall_1':'spring_3'].join(df_17[['blended']]).values)"
   ]
  },
  {
   "cell_type": "code",
   "execution_count": 21,
   "metadata": {},
   "outputs": [
    {
     "name": "stdout",
     "output_type": "stream",
     "text": [
      "Common courses are:\n",
      "['Statistical Learning Theory' 'Безопасность компьютерных систем'\n",
      " 'Высокопроизводительные вычисления' 'Моделирование временных рядов'\n",
      " 'Принятие решений в условиях риска и неопределённости'\n",
      " 'Сбор и обработка данных с помощью краудсорсинга' 'Численные методы']\n"
     ]
    }
   ],
   "source": [
    "common_courses = np.intersect1d(courses_18, courses_17)\n",
    "print('Common courses are:')\n",
    "print(common_courses)"
   ]
  },
  {
   "cell_type": "markdown",
   "metadata": {},
   "source": [
    "Методом исключения найдите курсы, которые предлагались только студентам 18-го года и только студентам 17-го года."
   ]
  },
  {
   "cell_type": "code",
   "execution_count": 22,
   "metadata": {},
   "outputs": [
    {
     "name": "stdout",
     "output_type": "stream",
     "text": [
      "Courses for class 2018-2022 only:\n",
      "['Анализ данных в бизнесе' 'Дискретная оптимизация'\n",
      " 'Дополнительные главы прикладной статистики' 'Компьютерные сети'\n",
      " 'Матричные вычисления' 'Машинное обучение 2'\n",
      " 'Промышленное программирование на языке Java' 'Системы баз данных'\n",
      " 'Теория баз данных' 'Язык SQL']\n",
      "\n",
      "Courses for class 2017-2021 only:\n",
      "['DevOps' 'Анализ неструктурированных данных'\n",
      " 'Байесовские методы машинного обучения'\n",
      " 'Введение в дифференциальную геометрию'\n",
      " 'Генеративные модели в машинном обучении'\n",
      " 'Глубинное обучение в обработке звука' 'Компьютерное зрение'\n",
      " 'Конфликты и кооперация' 'Методы сжатия и передачи медиаданных'\n",
      " 'Обучение с подкреплением'\n",
      " 'Проектирование и разработка высоконагруженных сервисов'\n",
      " 'Символьные вычисления' 'Соревновательный анализ данных']\n"
     ]
    }
   ],
   "source": [
    "only_18 = np.setdiff1d(courses_18, common_courses)\n",
    "only_17 = np.setdiff1d(courses_17, common_courses)\n",
    "print('Courses for class 2018-2022 only:')\n",
    "print(only_18)\n",
    "print()\n",
    "print('Courses for class 2017-2021 only:')\n",
    "print(only_17)"
   ]
  },
  {
   "cell_type": "markdown",
   "metadata": {},
   "source": [
    "### Визуализации и matplotlib"
   ]
  },
  {
   "cell_type": "markdown",
   "metadata": {},
   "source": [
    "При работе с данными часто неудобно делать какие-то выводы, если смотреть на таблицу и числа в частности, поэтому важно уметь визуализировать данные. Здесь будут описаны ключевые правила оформления графиков для **всех** домашних заданий.\n",
    "\n",
    "У matplotlib, конечно же, есть [документация](https://matplotlib.org/users/index.html) с большим количеством [примеров](https://matplotlib.org/examples/), но для начала достаточно знать про несколько основных типов графиков:\n",
    "- plot — обычный поточечный график, которым можно изображать кривые или отдельные точки;\n",
    "- hist — гистограмма, показывающая распределение некоторой величины;\n",
    "- scatter — график, показывающий взаимосвязь двух величин;\n",
    "- bar — столбцовый график, показывающий взаимосвязь количественной величины от категориальной.\n",
    "\n",
    "В этом задании вы попробуете построить один из них. Не забывайте про базовые принципы построения приличных графиков:\n",
    "- оси должны быть подписаны, причём не слишком мелко;\n",
    "- у графика должно быть название;\n",
    "- если изображено несколько графиков, то необходима поясняющая легенда;\n",
    "- все линии на графиках должны быть чётко видны (нет похожих цветов или цветов, сливающихся с фоном);\n",
    "- если отображена величина, имеющая очевидный диапазон значений (например, проценты могут быть от 0 до 100), то желательно масштабировать ось на весь диапазон значений (исключением является случай, когда вам необходимо показать малое отличие, которое незаметно в таких масштабах);\n",
    "- сетка на графике помогает оценить значения в точках на глаз, это обычно полезно, поэтому лучше ее отрисовывать;\n",
    "- если распределение на гистограмме имеет тяжёлые хвосты, лучше использовать логарифмическую шкалу."
   ]
  },
  {
   "cell_type": "code",
   "execution_count": 23,
   "metadata": {},
   "outputs": [],
   "source": [
    "%matplotlib inline\n",
    "import matplotlib.pyplot as plt"
   ]
  },
  {
   "cell_type": "markdown",
   "metadata": {},
   "source": [
    "#### 8. [0.5 балла] Постройте график средних рейтингов по дням получения ответов (bar plot)."
   ]
  },
  {
   "cell_type": "code",
   "execution_count": 24,
   "metadata": {},
   "outputs": [
    {
     "data": {
      "image/png": "[encoded data removed]",
      "text/plain": [
       "<Figure size 1080x720 with 1 Axes>"
      ]
     },
     "metadata": {
      "needs_background": "light"
     },
     "output_type": "display_data"
    }
   ],
   "source": [
    "import datetime as dt\n",
    "mean_ratings = df.groupby([df['timestamp'].dt.date])['rating'].mean().to_frame(name='mean rating').reset_index()\n",
    "day = pd.unique(df.timestamp.dt.date)\n",
    "ratings = mean_ratings['mean rating']\n",
    "\n",
    "fig, ax = plt.subplots(figsize=(15,10))\n",
    "fig.suptitle('Mean rating over time', fontsize=20)\n",
    "mrplt = ax.bar(day, ratings,color='g')\n",
    "ax.grid(axis='y')\n",
    "\n",
    "plt.xlabel('date', fontsize=15)\n",
    "plt.ylabel('mean rating',fontsize=15)\n",
    "plt.show()"
   ]
  },
  {
   "cell_type": "markdown",
   "metadata": {},
   "source": [
    "Сохраните график в формате pdf (так он останется векторизованным)."
   ]
  },
  {
   "cell_type": "code",
   "execution_count": 25,
   "metadata": {},
   "outputs": [],
   "source": [
    "fig.savefig('mean_rating.pdf',format='pdf')"
   ]
  },
  {
   "cell_type": "markdown",
   "metadata": {},
   "source": [
    "Еще одна билиотека для визуализации: [seaborn](https://jakevdp.github.io/PythonDataScienceHandbook/04.14-visualization-with-seaborn.html). Это настройка над matplotlib, иногда удобнее и красивее делать визуализации через неё. "
   ]
  },
  {
   "cell_type": "markdown",
   "metadata": {},
   "source": [
    "### 2. Распределение студентов по курсам."
   ]
  },
  {
   "cell_type": "markdown",
   "metadata": {},
   "source": [
    "Теперь вам нужно распределить студентов по осенним курсам по выбору, учитывая их предпочтения."
   ]
  },
  {
   "cell_type": "markdown",
   "metadata": {},
   "source": [
    "Алгоритм распределения студентов по курсам:\n",
    "1. По умолчанию на каждой дисциплине по выбору у 3 и 4 курсов может учиться 1 группа (до 30 студентов). Исключения описаны ниже. На blended-дисциплинах для четверокурсников количество мест не ограничено.\n",
    "2. Проводится первая волна отбора. Для каждой дисциплины формируется список тех, кто указал её первым приоритетом (если студент должен выбрать два курса по выбору, то для него дисциплины, которые он указал первым и вторым приоритетом, рассматриваются как дисциплины первого приоритета). Если желающих больше, чем мест, то выбирается топ по перцентилю рейтинга.\n",
    "3. На дисциплинах, где остались места после первой волны, формируются списки тех, кто выбрал их вторым приоритетом, и места заполняются лучшими по перцентили рейтинга студентами. После этого проводится такая же процедура для дисциплин третьего приоритета.\n",
    "4. Если студент не попал на необходимое количество курсов по итогам трёх волн, с ним связывается учебный офис и решает вопрос в индивидуальном порядке."
   ]
  },
  {
   "cell_type": "markdown",
   "metadata": {},
   "source": [
    "Обращаем ваше внимание на следующие детали:\n",
    "\n",
    "- По умолчанию студент выбирает один осенний и один весенний курс по выбору, а также четверокурсники выбирают один blended-курс. Студенты групп 17-го года специализаций МОП и ТИ выбирают по 2 осенних и 2 весенних курса по выбору, также студенты групп 18' специализации МИ выбирают 2 осенних курса.\n",
    "\n",
    "- Студенты специализации МОП не могут выбрать весенним курсом по выбору Машинное обучение 2.\n",
    "\n",
    "- Blended-курсы не трогайте, по ним не надо распределять, на другие курсы они никак не влияют.\n",
    "\n",
    "- Постарайтесь воздержаться от использования циклов там, где это возможно.\n",
    "\n",
    "- На выходе ожидается файл res_fall.csv с результатами распределения на осенние курсы по выбору. Файл должен быть следующего формата:\n",
    "\n",
    "    * три столбца: ID, course1, course2\n",
    "    \n",
    "    * Если студент не попал на курс, но должен был, то вместо названия курса в ячейке должна быть строка \"???\"\n",
    "    \n",
    "    * Если студент должен выбрать только один курс, то в колонке course2 для него должна стоять строка \"-\"\n",
    "    \n",
    "    * Формат csv: для сохранения воспользуйтесь df.to_csv('solution.csv', index=None)\n",
    "    \n",
    "\n",
    "Для работы вам могут понадобиться следующие данные:\n",
    "\n",
    "- Результаты опроса (вы уже использовали этот файл в первой части задания, но на всякий случай ссылка: https://www.dropbox.com/s/f4rm8sjc3v99p0m/_end_seminar.xlsx?dl=0)\n",
    "\n",
    "- Соответствие номеров групп специализациям:\n",
    "\n",
    "    * 171, 172 - МОП; 173 - ТИ; 174 — АДИС; 175, 176 — РС; 177 — АПР\n",
    "    \n",
    "    * 181, 182 - МОП; 183 - ТИ; 184 - АДИС; 185, 186 - РС; 187 - АПР; 188 - МИ \n",
    "\n",
    "- Ограничения по количеству мест на курсах по выбору:\n",
    "\n",
    "    * Осенние: везде 30 мест, кроме Statistical Learning Theory (60 мест), Высокопроизводительных вычислений (60 мест), Анализа неструктурированных данных ($\\infty$ мест)\n",
    "\n",
    "    * Весенние: везде 30 мест, кроме Обучения с подкреплением (60 мест), Анализа данных в бизнесе (60 мест).\n",
    "\n",
    "\n",
    "Кстати, убедитесь, что в данных больше нет пропусков и повторных записей."
   ]
  },
  {
   "cell_type": "markdown",
   "metadata": {},
   "source": [
    "#### 0. Проверка\n",
    "\n",
    "Для начала давайте убедимся, что вы успешно выполнили задания первой части и проверим ваши данные на наличие пропусков и повторов:"
   ]
  },
  {
   "cell_type": "code",
   "execution_count": 26,
   "metadata": {},
   "outputs": [],
   "source": [
    "assert df.shape[0] == 347, 'В таблице остались повторы или потеряны данные'\n",
    "\n",
    "assert df.isna().sum().sum() == 0, 'В таблице остались пропуски'"
   ]
  },
  {
   "cell_type": "markdown",
   "metadata": {},
   "source": [
    "Если вы не получили AssertionError, то можете продолжать."
   ]
  },
  {
   "cell_type": "markdown",
   "metadata": {},
   "source": [
    "#### 1. [1 балл] Создайте новый признак, обозначающий, сколько осенних курсов должен выбрать студент\n",
    "\n",
    "В этом вам может помочь информация о специализации и группе стундента."
   ]
  },
  {
   "cell_type": "code",
   "execution_count": 27,
   "metadata": {},
   "outputs": [],
   "source": [
    "df['fall_courses_cnt'] = 1 + 1 * (((df['18_group'] != 0) & (df['is_mi'] != 0)) | \n",
    "                                  #(df['18_group'] == 188) |\n",
    "                                  ((df['17_group'] != 0) & (df['is_ml_student'] != 0)) |\n",
    "                                  (df['17_group'] == 171) |\n",
    "                                  (df['17_group'] == 172) |\n",
    "                                  (df['17_group'] == 173))"
   ]
  },
  {
   "cell_type": "markdown",
   "metadata": {},
   "source": [
    "**Примечание:** Номера групп для набора 18ого года старые, без распределения на специализации (188 != МИ)."
   ]
  },
  {
   "cell_type": "markdown",
   "metadata": {},
   "source": [
    "Проверка:"
   ]
  },
  {
   "cell_type": "code",
   "execution_count": 28,
   "metadata": {},
   "outputs": [],
   "source": [
    "col_name = 'fall_courses_cnt'\n",
    "\n",
    "assert(df[df['id'] == '2662600c2c37e11e62f6ee0b88452f22'][col_name] == 2).all()\n",
    "assert(df[df['id'] == 'd555d2805e1d93d4f023e57dc4c8f403'][col_name] == 2).all()\n",
    "assert(df[df['id'] == '8fe79f84f36e3a5d2d6745621321302c'][col_name] == 1).all()\n",
    "assert(df[df['id'] == 'e4caca755ee0bdd711e18fb8084958b5'][col_name] == 1).all()"
   ]
  },
  {
   "cell_type": "markdown",
   "metadata": {},
   "source": [
    "#### 2. [2 балла] Распределите студентов в соответствии с первым приоритетом"
   ]
  },
  {
   "cell_type": "markdown",
   "metadata": {},
   "source": [
    "#### Первая волна\n",
    "Составляется таблица для распределения *fall_course_df*. Циклом по названиям осенних курсов составляем для каждого из них список по первой волне: находятся строки с указанной дисциплиной в первом приоритете (конкатинируем *df1* для студентов с выбором одного курса и *df2* для студентов с выбором двух курсов) *cc*; из отсортированной по значениям перцентилей таблицы получившихся студентов отбираются первые *capacity* студентов. Получившуюся таблицу слияем с таблицей распределения и обновляем значения *course1*, *course2* там, где надо. Для сохранения информации по каждому курсу сохраняем получившуюся таблицу в список таблиц *fall_first_wave*."
   ]
  },
  {
   "cell_type": "code",
   "execution_count": null,
   "metadata": {},
   "outputs": [],
   "source": [
    "#df_copy = df.copy(deep=True) # for df restoration (do not change)"
   ]
  },
  {
   "cell_type": "code",
   "execution_count": null,
   "metadata": {},
   "outputs": [],
   "source": [
    "#df = df_copy.copy(deep=True) # for df restoration"
   ]
  },
  {
   "cell_type": "code",
   "execution_count": 29,
   "metadata": {},
   "outputs": [],
   "source": [
    "# CREATE DATAFRAME FOR FALL COURSE DISTRIBUTION\n",
    "fall_course_df = pd.DataFrame({'id': df['id']})\n",
    "fall_course_df['course1'] = '???'\n",
    "fall_course_df['course2'] = np.where(df['fall_courses_cnt'] == 1, '-', '???' )"
   ]
  },
  {
   "cell_type": "code",
   "execution_count": 30,
   "metadata": {},
   "outputs": [],
   "source": [
    "# LIST OF FALL COURSES\n",
    "fall_courses = np.unique(df.loc[:,'fall_1':'fall_3'])"
   ]
  },
  {
   "cell_type": "code",
   "execution_count": 31,
   "metadata": {},
   "outputs": [],
   "source": [
    "fall_first_wave = list()\n",
    "for course_name in fall_courses:\n",
    "    df1 = df[(df['fall_courses_cnt'] == 1) & (df['fall_1'] == course_name)]\n",
    "    df2 = df[(df['fall_courses_cnt'] == 2) & ((df['fall_1'] == course_name) | (df['fall_2'] == course_name))]\n",
    "    cc = pd.concat([df1, df2])\n",
    "    \n",
    "    # capacity = 30 for all, except for Statistical Learning Theory and Высокопроизводительные вычисления (60) and\n",
    "    # Анализ неструктурированных данных (not limited, 430 > number of applications)\n",
    "    capacity = 30 + 30 * ((course_name == 'Statistical Learning Theory') | \n",
    "                          (course_name == 'Высокопроизводительные вычисления')) + 400 * (course_name == 'Анализ неструктурированных данных')\n",
    "    \n",
    "    cc = cc.sort_values('percentile').head(capacity)\n",
    "    fall_first_wave.append(cc)                         # save list of students' information of a course after first wave\n",
    "    \n",
    "    cc = cc.filter(items=['id'])\n",
    "    cc['course'] = course_name\n",
    "    \n",
    "    fall_course_df = pd.merge(fall_course_df, cc, on='id', how='left')\n",
    "    fall_course_df['course1'] = np.where((~fall_course_df['course'].isnull()) & (fall_course_df['course1'] == '???'), \n",
    "                                course_name, fall_course_df.course1)\n",
    "    fall_course_df['course2'] = np.where((~fall_course_df['course'].isnull()) & (fall_course_df['course1'] != '???') & \n",
    "                                (fall_course_df['course2'] == '???') & (fall_course_df['course1'] != course_name), \n",
    "                                course_name, fall_course_df.course2)\n",
    "    fall_course_df.drop(columns=['course'], inplace=True)"
   ]
  },
  {
   "cell_type": "markdown",
   "metadata": {},
   "source": [
    "**Примечание:** При слиянии *fall_course_df* с *cc* в колонке *course* находится либо название текущего курса, либо NaN. В случае NaN (~fall_course_df\\['course'\\].isnull()) ячейки *course1* и *course2* не изменяются. Иначе, ячейка *course1* изменяется, если она не заполнена (== '???'), ячейка *course2* заполняется в случае, если *course1* заполнена, *course2* не заполнена и студент ещё не зачислен на текущий курс (fall_course_df\\['course1'\\] != course_name).\n",
    "\n",
    "После обновления ячеек в таблице распределения, из неё удаляется лишняя колонка с названием курса."
   ]
  },
  {
   "cell_type": "markdown",
   "metadata": {},
   "source": [
    "Нахождение первого и последнего студента на каждом курсе из информации в *fall_first_wave* (проверим, что в каждом курсе нет повторяющихся перцентилей, тогда студенты с максимальным и минимальным перцентилями будут находиться на первом и последнем местах соответственно):"
   ]
  },
  {
   "cell_type": "code",
   "execution_count": 32,
   "metadata": {},
   "outputs": [],
   "source": [
    "for course in fall_first_wave:\n",
    "    assert course.id.nunique() == course.shape[0], 'There are students with the same percentile in a course'"
   ]
  },
  {
   "cell_type": "code",
   "execution_count": 33,
   "metadata": {},
   "outputs": [],
   "source": [
    "first_last = pd.DataFrame({'id':df['id'],'first':False,'last':False})\n",
    "\n",
    "for i in range(len(fall_courses)):\n",
    "    id_first = fall_first_wave[i].head(1).iloc[0,1]                       # get id of first in course\n",
    "    id_last = fall_first_wave[i].tail(1).iloc[0,1]                        # get id last in course\n",
    "    id_first = first_last[first_last.id == id_first].index[0]             # find place of id in first_last\n",
    "    id_last = first_last[first_last.id == id_last].index[0]               # -//-\n",
    "\n",
    "    first_last.at[id_first,'first'] = True\n",
    "    first_last.at[id_last,'last'] = True"
   ]
  },
  {
   "cell_type": "code",
   "execution_count": 34,
   "metadata": {},
   "outputs": [],
   "source": [
    "# create columns for first and last places in initial dataframe\n",
    "df = pd.merge(df, first_last[first_last['first'] == True][['id','first']], on='id', how='left')\n",
    "df = pd.merge(df, first_last[first_last['last'] == True][['id','last']], on='id', how='left')"
   ]
  },
  {
   "cell_type": "markdown",
   "metadata": {},
   "source": [
    "Здесь для проверки приведена таблица, в которой есть 2 дополнительные колонки:\n",
    "    \n",
    "    1) is_first_place - является ли студент лучшим по перцентили хотя бы на одном из курсов, куда он был зачислен \n",
    "    (True / NaN)\n",
    "    \n",
    "    2) is_last_place  - является ли студент худшим по перцентили хотя бы на одном из курсов, куда он был зачислен (True / NaN)"
   ]
  },
  {
   "cell_type": "code",
   "execution_count": null,
   "metadata": {},
   "outputs": [],
   "source": [
    "# !wget  -O '2_task_check.csv' -q 'https://www.dropbox.com/s/v8o2zzq3iz5gc9w/_2_task_check.csv?dl=0'"
   ]
  },
  {
   "cell_type": "code",
   "execution_count": 35,
   "metadata": {},
   "outputs": [],
   "source": [
    "check_df = pd.read_csv('2_task_check.csv')"
   ]
  },
  {
   "cell_type": "markdown",
   "metadata": {},
   "source": [
    "После распределения студентов в соответствии с первым приоритетом добавьте в свой датафрейм аналогичные признаки и запустите проверку:"
   ]
  },
  {
   "cell_type": "code",
   "execution_count": 36,
   "metadata": {},
   "outputs": [],
   "source": [
    "fir_col_name = 'first'\n",
    "last_col_name = 'last'\n",
    "\n",
    "assert((df[df[fir_col_name].isna() == False][['id']].sort_values('id').reset_index(drop=True)\n",
    "        ==\n",
    "        check_df[check_df['is_first_place'].isna() == False][['id']].sort_values('id').reset_index(drop=True)\n",
    "       ).id.values).all()\n",
    "\n",
    "\n",
    "assert((df[df[last_col_name].isna() == False][['id']].sort_values('id').reset_index(drop=True)\n",
    "       == \n",
    "       check_df[check_df['is_last_place'].isna() == False][['id']].sort_values('id').reset_index(drop=True)\n",
    "      ).id.values).all()"
   ]
  },
  {
   "cell_type": "markdown",
   "metadata": {},
   "source": [
    "#### 3. [3 балла] Проведите все три волны отбора студентов на курсы по выбору"
   ]
  },
  {
   "cell_type": "code",
   "execution_count": null,
   "metadata": {},
   "outputs": [],
   "source": [
    "# DISPLAY COURSE DISTRIBUTION AND NUMBER OF STUDENTS IN EACH COURSE AFTER FIRST WAVE\n",
    "\n",
    "# print('First wave')\n",
    "# display(fall_course_df)\n",
    "# for i in range(len(fall_courses)):\n",
    "#     course_name = fall_courses[i]    \n",
    "#     capacity = 30 + 30 * ((course_name == 'Statistical Learning Theory') | \n",
    "#                           (course_name == 'Высокопроизводительные вычисления')) + 400 * (course_name == 'Анализ неструктурированных данных')\n",
    "#     print(course_name, fall_first_wave[i].shape[0], '/', capacity)"
   ]
  },
  {
   "cell_type": "markdown",
   "metadata": {},
   "source": [
    "**Примечание:** Отборы во вторую и третью волны проводятся аналогичным первой волне образом, изменяются только некоторые детали: *capacity = оставшееся кол-во мест*, при отсутствии свободных мест в список *fall_second_wave* добавляется пустой список; рассматриваются предметы второго (и третьего) приоритета, отдельно проводится проверка, был ли студент (с выбором 2х курсов) уже зачислен на рассматриваемый курс (line 14: *fall_course_df\\['course1'\\] != df\\['fall_3'\\]*)."
   ]
  },
  {
   "cell_type": "code",
   "execution_count": 37,
   "metadata": {},
   "outputs": [],
   "source": [
    "fall_second_wave = [None] * len(fall_courses)\n",
    "for i in range(len(fall_courses)):\n",
    "    course_name = fall_courses[i]\n",
    "    \n",
    "    capacity = 30 + 30 * ((course_name == 'Statistical Learning Theory') | \n",
    "                          (course_name == 'Высокопроизводительные вычисления')) + 400 * (course_name == 'Анализ неструктурированных данных')\n",
    "    \n",
    "    if fall_first_wave[i].shape[0] >= capacity:                       # no places available\n",
    "        fall_second_wave[i] = pd.DataFrame(columns=df.columns)\n",
    "        continue\n",
    "    capacity -= fall_first_wave[i].shape[0]                           # update capacity (places left)\n",
    "    \n",
    "    df1 = df[(df['fall_courses_cnt'] == 1) & (df['fall_2'] == course_name) & \n",
    "             (fall_course_df['course1'] == '???')]\n",
    "    df2 = df[(df['fall_courses_cnt'] == 2) & (df['fall_3'] == course_name) & \n",
    "             ((fall_course_df['course1'] == '???') | (fall_course_df['course2'] == '???')) & \n",
    "             (fall_course_df['course1'] != df['fall_3'])]\n",
    "    cc = pd.concat([df1, df2])\n",
    "    \n",
    "    cc = cc.sort_values('percentile').head(capacity)\n",
    "    fall_second_wave[i] = cc                                         # save list of students' information after second wave\n",
    "    \n",
    "    cc = cc.filter(items=['id'])\n",
    "    cc['course'] = course_name\n",
    "    \n",
    "    fall_course_df = pd.merge(fall_course_df, cc, on='id', how='left')\n",
    "    fall_course_df['course1'] = np.where((~fall_course_df['course'].isnull()) & (fall_course_df['course1'] == '???'), \n",
    "                                course_name, fall_course_df.course1)\n",
    "    fall_course_df['course2'] = np.where((~fall_course_df['course'].isnull()) & (fall_course_df['course1'] != '???') & \n",
    "                                (fall_course_df['course2'] == '???') & (fall_course_df['course1'] != course_name), \n",
    "                                course_name, fall_course_df.course2)\n",
    "    fall_course_df.drop(columns=['course'], inplace=True)"
   ]
  },
  {
   "cell_type": "code",
   "execution_count": null,
   "metadata": {},
   "outputs": [],
   "source": [
    "# DISPLAY COURSE DISTRIBUTION AND NUMBER OF STUDENTS IN EACH COURSE AFTER SECOND WAVE\n",
    "\n",
    "# print('Second wave')\n",
    "# display(fall_course_df)\n",
    "# for i in range(len(fall_courses)):\n",
    "#     course_name = fall_courses[i]\n",
    "#     capacity = 30 + 30 * ((course_name == 'Statistical Learning Theory') | \n",
    "#                           (course_name == 'Высокопроизводительные вычисления')) + 400 * (course_name == 'Анализ неструктурированных данных')\n",
    "    \n",
    "#     num = fall_first_wave[i].shape[0]\n",
    "#     if (not fall_second_wave[i].empty):\n",
    "#         num += fall_second_wave[i].shape[0]\n",
    "#     print(course_name, num,'/',capacity)"
   ]
  },
  {
   "cell_type": "code",
   "execution_count": 38,
   "metadata": {},
   "outputs": [],
   "source": [
    "fall_third_wave = [None] * len(fall_courses)\n",
    "for i in range(len(fall_courses)):\n",
    "    course_name = fall_courses[i]\n",
    "    capacity = 30 + 30 * ((course_name == 'Statistical Learning Theory') | \n",
    "                          (course_name == 'Высокопроизводительные вычисления')) + 400 * (course_name == 'Анализ неструктурированных данных')\n",
    "    num = fall_first_wave[i].shape[0]\n",
    "    if (not fall_second_wave[i].empty):\n",
    "        num += fall_second_wave[i].shape[0]\n",
    "\n",
    "    if num >= capacity:                                           # no available places left\n",
    "        fall_third_wave[i] = pd.DataFrame(columns=df.columns)     \n",
    "        continue\n",
    "    capacity -= num                                               # update capacity (places left)\n",
    "    \n",
    "    cc = df[(df['fall_courses_cnt'] == 1) & (df['fall_3'] == course_name) & (fall_course_df['course1'] == '???')]\n",
    "    \n",
    "    cc = cc.sort_values('percentile').head(capacity)\n",
    "    fall_third_wave[i] = cc                                       # save list of students' information after third wave\n",
    "    \n",
    "    cc = cc.filter(items=['id'])\n",
    "    cc['course'] = course_name\n",
    "    \n",
    "    fall_course_df = pd.merge(fall_course_df, cc, on='id', how='left')\n",
    "    fall_course_df['course1'] = np.where((~fall_course_df['course'].isnull()) & (fall_course_df['course1'] == '???'), \n",
    "                                course_name, fall_course_df.course1)\n",
    "    fall_course_df.drop(columns=['course'], inplace=True)"
   ]
  },
  {
   "cell_type": "code",
   "execution_count": null,
   "metadata": {},
   "outputs": [],
   "source": [
    "# DISPLAY COURSE DISTRIBUTION AND NUMBER OF STUDENTS IN EACH COURSE AFTER THIRD WAVE\n",
    "\n",
    "# print('Third wave')\n",
    "# display(fall_course_df)\n",
    "# for i in range(len(fall_courses)):\n",
    "#     course_name = fall_courses[i]\n",
    "#     capacity = 30 + 30 * ((course_name == 'Statistical Learning Theory') | \n",
    "#                           (course_name == 'Высокопроизводительные вычисления')) + 400 * (course_name == 'Анализ неструктурированных данных')\n",
    "    \n",
    "#     num = fall_first_wave[i].shape[0]\n",
    "#     if (not fall_second_wave[i].empty):\n",
    "#         num += fall_second_wave[i].shape[0]\n",
    "#     if (not fall_third_wave[i].empty):\n",
    "#         num += fall_third_wave[i].shape[0]\n",
    "#     print(course_name, num,'/',capacity)"
   ]
  },
  {
   "cell_type": "code",
   "execution_count": 39,
   "metadata": {},
   "outputs": [],
   "source": [
    "# rename id column and save to csv file\n",
    "fall_course_df.rename(columns={'id':'ID'}, inplace=True)\n",
    "fall_course_df.to_csv('res_fall.csv', index=None)"
   ]
  },
  {
   "cell_type": "markdown",
   "metadata": {},
   "source": [
    "**Отправьте свой файл res_fall.csv в контест (https://contest.yandex.ru/contest/19782/problems/A/) и прикрепите/укажите ниже ваш никнейм и ссылку на успешную посылку.**"
   ]
  },
  {
   "cell_type": "markdown",
   "metadata": {},
   "source": [
    "**Contest nickname:** dangkuin.nina\n",
    "\n",
    "**Submission ID:** 34604524"
   ]
  },
  {
   "cell_type": "markdown",
   "metadata": {},
   "source": [
    "*Дисклеймер:*\n",
    "\n",
    "Контест выдаётся для самопроверки. Если ваша посылка получила ОК, то код, скорее всего, правильный. Но при этом оценка всё равно может быть снижена в случае обнаружения неэффективностей или ошибок в коде. Если вы сдадите в AnyTask очевидно неработающий код или ноутбук без кода, но при этом в контест будет сдан корректный файл, то это будет расцениваться как плагиат."
   ]
  },
  {
   "cell_type": "markdown",
   "metadata": {},
   "source": [
    "На всякий случай просим вас сдать вместе с ноутбуком файл res_fall.csv в anytask"
   ]
  },
  {
   "cell_type": "markdown",
   "metadata": {},
   "source": [
    "**Дополнительное задание. [2 бонусных балла] Распределите таким же образом студентов еще и на весенние курсы по выбору.**\n",
    "\n",
    "Если ваш код был хорошо структурирован, то это не составит проблем. \n",
    "\n",
    "Если вы выполнили это задание, сдайте среди прочего файл res_spring.csv в таком же формате, как и res_fall.csv."
   ]
  },
  {
   "cell_type": "code",
   "execution_count": null,
   "metadata": {},
   "outputs": [],
   "source": [
    "#df_new_copy = df.copy(deep=True) # for df restoration (do not change)"
   ]
  },
  {
   "cell_type": "code",
   "execution_count": null,
   "metadata": {},
   "outputs": [],
   "source": [
    "#df = df_new_copy.copy(deep=True) # for df restoration"
   ]
  },
  {
   "cell_type": "markdown",
   "metadata": {},
   "source": [
    "Составим признак, обозначающий количество весенних курсов, который студент должен выбрать:"
   ]
  },
  {
   "cell_type": "code",
   "execution_count": 40,
   "metadata": {},
   "outputs": [],
   "source": [
    "df['spring_courses_cnt'] = 1 + 1 * (((df['17_group'] != 0) & (df['is_ml_student'] != 0)) |\n",
    "                                  (df['17_group'] == 171) |\n",
    "                                  (df['17_group'] == 172) |\n",
    "                                  (df['17_group'] == 173))"
   ]
  },
  {
   "cell_type": "markdown",
   "metadata": {},
   "source": [
    "Обработаем заявки, в которых студенты МОП выбрали одним из курсов Машиное обучение 2. Составим признак, показывающий приоритет курса \"Машинное обучение 2\" для таких студентов."
   ]
  },
  {
   "cell_type": "code",
   "execution_count": 41,
   "metadata": {},
   "outputs": [],
   "source": [
    "df['ml2_spring'] = 1 * ((df['is_ml_student'] == 1) & (df['spring_1'] == 'Машинное обучение 2')) + 2 * ((df['is_ml_student'] == 1) & (df['spring_2'] == 'Машинное обучение 2')) + 3 * ((df['is_ml_student'] == 1) & (df['spring_3'] == 'Машинное обучение 2'))"
   ]
  },
  {
   "cell_type": "code",
   "execution_count": 42,
   "metadata": {},
   "outputs": [
    {
     "data": {
      "text/html": [
       "<div>\n",
       "<style scoped>\n",
       "    .dataframe tbody tr th:only-of-type {\n",
       "        vertical-align: middle;\n",
       "    }\n",
       "\n",
       "    .dataframe tbody tr th {\n",
       "        vertical-align: top;\n",
       "    }\n",
       "\n",
       "    .dataframe thead th {\n",
       "        text-align: right;\n",
       "    }\n",
       "</style>\n",
       "<table border=\"1\" class=\"dataframe\">\n",
       "  <thead>\n",
       "    <tr style=\"text-align: right;\">\n",
       "      <th></th>\n",
       "      <th>id</th>\n",
       "      <th>18_group</th>\n",
       "      <th>spring_1</th>\n",
       "      <th>spring_2</th>\n",
       "      <th>spring_3</th>\n",
       "      <th>is_ml_student</th>\n",
       "      <th>ml2_spring</th>\n",
       "    </tr>\n",
       "  </thead>\n",
       "  <tbody>\n",
       "    <tr>\n",
       "      <th>20</th>\n",
       "      <td>f0f6f3881894172a0f04e79b554b49e6</td>\n",
       "      <td>181.0</td>\n",
       "      <td>Машинное обучение 2</td>\n",
       "      <td>Численные методы</td>\n",
       "      <td>Дополнительные главы прикладной статистики</td>\n",
       "      <td>1.0</td>\n",
       "      <td>1</td>\n",
       "    </tr>\n",
       "    <tr>\n",
       "      <th>26</th>\n",
       "      <td>5daee1bd98559bb2c52373e416942225</td>\n",
       "      <td>182.0</td>\n",
       "      <td>Машинное обучение 2</td>\n",
       "      <td>Промышленное программирование на языке Java</td>\n",
       "      <td>Анализ данных в бизнесе</td>\n",
       "      <td>1.0</td>\n",
       "      <td>1</td>\n",
       "    </tr>\n",
       "    <tr>\n",
       "      <th>116</th>\n",
       "      <td>fc2c60b8004aa91bc272df84628621ff</td>\n",
       "      <td>183.0</td>\n",
       "      <td>Системы баз данных</td>\n",
       "      <td>Машинное обучение 2</td>\n",
       "      <td>Анализ данных в бизнесе</td>\n",
       "      <td>1.0</td>\n",
       "      <td>2</td>\n",
       "    </tr>\n",
       "    <tr>\n",
       "      <th>132</th>\n",
       "      <td>6ed89e424179b0510e3f7c0cb7369ad6</td>\n",
       "      <td>187.0</td>\n",
       "      <td>Анализ данных в бизнесе</td>\n",
       "      <td>Промышленное программирование на языке Java</td>\n",
       "      <td>Машинное обучение 2</td>\n",
       "      <td>1.0</td>\n",
       "      <td>3</td>\n",
       "    </tr>\n",
       "    <tr>\n",
       "      <th>171</th>\n",
       "      <td>abceddfa2fc4eae8cff4a4e712abb3fb</td>\n",
       "      <td>183.0</td>\n",
       "      <td>Машинное обучение 2</td>\n",
       "      <td>Промышленное программирование на языке Java</td>\n",
       "      <td>Дополнительные главы прикладной статистики</td>\n",
       "      <td>1.0</td>\n",
       "      <td>1</td>\n",
       "    </tr>\n",
       "  </tbody>\n",
       "</table>\n",
       "</div>"
      ],
      "text/plain": [
       "                                   id  18_group                 spring_1  \\\n",
       "20   f0f6f3881894172a0f04e79b554b49e6     181.0      Машинное обучение 2   \n",
       "26   5daee1bd98559bb2c52373e416942225     182.0      Машинное обучение 2   \n",
       "116  fc2c60b8004aa91bc272df84628621ff     183.0       Системы баз данных   \n",
       "132  6ed89e424179b0510e3f7c0cb7369ad6     187.0  Анализ данных в бизнесе   \n",
       "171  abceddfa2fc4eae8cff4a4e712abb3fb     183.0      Машинное обучение 2   \n",
       "\n",
       "                                        spring_2  \\\n",
       "20                              Численные методы   \n",
       "26   Промышленное программирование на языке Java   \n",
       "116                          Машинное обучение 2   \n",
       "132  Промышленное программирование на языке Java   \n",
       "171  Промышленное программирование на языке Java   \n",
       "\n",
       "                                       spring_3  is_ml_student  ml2_spring  \n",
       "20   Дополнительные главы прикладной статистики            1.0           1  \n",
       "26                      Анализ данных в бизнесе            1.0           1  \n",
       "116                     Анализ данных в бизнесе            1.0           2  \n",
       "132                         Машинное обучение 2            1.0           3  \n",
       "171  Дополнительные главы прикладной статистики            1.0           1  "
      ]
     },
     "execution_count": 42,
     "metadata": {},
     "output_type": "execute_result"
    }
   ],
   "source": [
    "df[df['ml2_spring'] >= 1][['id','18_group','spring_1','spring_2','spring_3','is_ml_student','ml2_spring']]"
   ]
  },
  {
   "cell_type": "markdown",
   "metadata": {},
   "source": [
    "Сдвинем приоритеты курсов для этих заявок:"
   ]
  },
  {
   "cell_type": "code",
   "execution_count": 43,
   "metadata": {},
   "outputs": [],
   "source": [
    "# shift priority in case MO 2 is in spring_1\n",
    "df.loc[df['ml2_spring'] == 1,'spring_1'] = df.loc[df['ml2_spring'] == 1,'spring_2']\n",
    "df.loc[df['ml2_spring'] == 1,'spring_2'] = df.loc[df['ml2_spring'] == 1,'spring_3']\n",
    "df.loc[df['ml2_spring'] == 1,'spring_3'] = \"\""
   ]
  },
  {
   "cell_type": "code",
   "execution_count": 44,
   "metadata": {},
   "outputs": [],
   "source": [
    "# shift priority in case MO 2 is in spring_2\n",
    "df.loc[df['ml2_spring'] == 2,'spring_2'] = df.loc[df['ml2_spring'] == 2,'spring_3']\n",
    "df.loc[df['ml2_spring'] == 2,'spring_3'] = \"\""
   ]
  },
  {
   "cell_type": "code",
   "execution_count": 45,
   "metadata": {},
   "outputs": [],
   "source": [
    "# shift priority in case MO 2 is in spring_3\n",
    "df.loc[df['ml2_spring'] == 3,'spring_3'] = \"\""
   ]
  },
  {
   "cell_type": "markdown",
   "metadata": {},
   "source": [
    "Уберём признак ml2_spring:"
   ]
  },
  {
   "cell_type": "code",
   "execution_count": 46,
   "metadata": {},
   "outputs": [],
   "source": [
    "df.drop(columns=['ml2_spring'],inplace=True)"
   ]
  },
  {
   "cell_type": "markdown",
   "metadata": {},
   "source": [
    "Создадим таблицу для распределения весенних курсов:"
   ]
  },
  {
   "cell_type": "code",
   "execution_count": 47,
   "metadata": {},
   "outputs": [],
   "source": [
    "spring_course_df = pd.DataFrame({'id': df['id']})\n",
    "spring_course_df['course1'] = '???'\n",
    "spring_course_df['course2'] = np.where(df['spring_courses_cnt'] == 1, '-', '???' )"
   ]
  },
  {
   "cell_type": "code",
   "execution_count": 48,
   "metadata": {},
   "outputs": [],
   "source": [
    "# LIST OF SPRING COURSES\n",
    "spring_courses = np.unique(df.loc[:,'spring_1':'spring_3'])\n",
    "spring_courses = spring_courses[spring_courses != '']         # remove empty string from list"
   ]
  },
  {
   "cell_type": "markdown",
   "metadata": {},
   "source": [
    "Распределение по весенним курсам проводится так же, как в случае осенних курсов, отличается лишь значение capacity (число свободных мест в каждом курсе)."
   ]
  },
  {
   "cell_type": "code",
   "execution_count": 49,
   "metadata": {},
   "outputs": [],
   "source": [
    "spring_first_wave = list()\n",
    "for course_name in spring_courses:\n",
    "    df1 = df[(df['spring_courses_cnt'] == 1) & (df['spring_1'] == course_name)]\n",
    "    df2 = df[(df['spring_courses_cnt'] == 2) & ((df['spring_1'] == course_name) | (df['spring_2'] == course_name))]\n",
    "    cc = pd.concat([df1, df2])\n",
    "    \n",
    "    # capacity is 30 except for \"Обучение с подкреплением\" и \"Анализ данных в бизнесе\" (60)\n",
    "    capacity = 30 + 30 * ((course_name == 'Обучение с подкреплением') | \n",
    "                          (course_name == 'Анализ данных в бизнесе'))\n",
    "    \n",
    "    cc = cc.sort_values('percentile').head(capacity)\n",
    "    spring_first_wave.append(cc)                        # save students' information after first wave\n",
    "    \n",
    "    cc = cc.filter(items=['id'])\n",
    "    cc['course'] = course_name\n",
    "    \n",
    "    spring_course_df = pd.merge(spring_course_df, cc, on='id', how='left')\n",
    "    spring_course_df['course1'] = np.where((~spring_course_df['course'].isnull()) & (spring_course_df['course1'] == '???'), \n",
    "                                course_name, spring_course_df.course1)\n",
    "    spring_course_df['course2'] = np.where((~spring_course_df['course'].isnull()) & (spring_course_df['course1'] != '???') & \n",
    "                                (spring_course_df['course2'] == '???') & (spring_course_df['course1'] != course_name), \n",
    "                                course_name, spring_course_df.course2)\n",
    "    spring_course_df.drop(columns=['course'], inplace=True)"
   ]
  },
  {
   "cell_type": "code",
   "execution_count": null,
   "metadata": {},
   "outputs": [],
   "source": [
    "# DISPLAY COURSE DISTRIBUTION AND NUMBER OF STUDENTS IN EACH COURSE AFTER FIRST WAVE\n",
    "\n",
    "# print('First wave')\n",
    "# display(spring_course_df)\n",
    "# for i in range(len(spring_courses)):\n",
    "#     course_name = spring_courses[i]    \n",
    "#     capacity = 30 + 30 * ((course_name == 'Обучение с подкреплением') | \n",
    "#                           (course_name == 'Анализ данных в бизнесе'))\n",
    "#     print(course_name, spring_first_wave[i].shape[0], '/', capacity)"
   ]
  },
  {
   "cell_type": "code",
   "execution_count": 50,
   "metadata": {},
   "outputs": [],
   "source": [
    "spring_second_wave = [None] * len(spring_courses)\n",
    "for i in range(len(spring_courses)):\n",
    "    course_name = spring_courses[i]\n",
    "    \n",
    "    capacity = 30 + 30 * ((course_name == 'Обучение с подкреплением') | \n",
    "                          (course_name == 'Анализ данных в бизнесе'))\n",
    "    if spring_first_wave[i].shape[0] >= capacity:                          # no places available\n",
    "        spring_second_wave[i] = pd.DataFrame(columns=df.columns)\n",
    "        continue\n",
    "    capacity -= spring_first_wave[i].shape[0]                              # update capacity (places left)\n",
    "    \n",
    "    df1 = df[(df['spring_courses_cnt'] == 1) & (df['spring_2'] == course_name) & \n",
    "             (spring_course_df['course1'] == '???')]\n",
    "    df2 = df[(df['spring_courses_cnt'] == 2) & (df['spring_3'] == course_name) & \n",
    "             ((spring_course_df['course1'] == '???') | (spring_course_df['course2'] == '???')) & \n",
    "             (spring_course_df['course1'] != df['spring_3'])]\n",
    "    cc = pd.concat([df1, df2])\n",
    "    \n",
    "    cc = cc.sort_values('percentile').head(capacity)\n",
    "    spring_second_wave[i] = cc                                             # save students' information after second wave\n",
    "    \n",
    "    cc = cc.filter(items=['id'])\n",
    "    cc['course'] = course_name\n",
    "    \n",
    "    spring_course_df = pd.merge(spring_course_df, cc, on='id', how='left')\n",
    "    spring_course_df['course1'] = np.where((~spring_course_df['course'].isnull()) & (spring_course_df['course1'] == '???'), \n",
    "                                course_name, spring_course_df.course1)\n",
    "    spring_course_df['course2'] = np.where((~spring_course_df['course'].isnull()) & (spring_course_df['course1'] != '???') & \n",
    "                                (spring_course_df['course2'] == '???') & (spring_course_df['course1'] != course_name), \n",
    "                                course_name, spring_course_df.course2)\n",
    "    spring_course_df.drop(columns=['course'], inplace=True)"
   ]
  },
  {
   "cell_type": "code",
   "execution_count": null,
   "metadata": {},
   "outputs": [],
   "source": [
    "# DISPLAY COURSE DISTRIBUTION AND NUMBER OF STUDENTS IN EACH COURSE AFTER SECOND WAVE\n",
    "\n",
    "# print('Second wave')\n",
    "# display(spring_course_df)\n",
    "# for i in range(len(spring_courses)):\n",
    "#     course_name = spring_courses[i]\n",
    "#     capacity = 30 + 30 * ((course_name == 'Обучение с подкреплением') | \n",
    "#                           (course_name == 'Анализ данных в бизнесе'))\n",
    "#     num = spring_first_wave[i].shape[0]\n",
    "#     if (not spring_second_wave[i].empty):\n",
    "#         num += spring_second_wave[i].shape[0]\n",
    "#     print(course_name, num,'/',capacity)"
   ]
  },
  {
   "cell_type": "code",
   "execution_count": 51,
   "metadata": {},
   "outputs": [],
   "source": [
    "spring_third_wave = [None] * len(spring_courses)\n",
    "for i in range(len(spring_courses)):\n",
    "    course_name = spring_courses[i]\n",
    "    \n",
    "    capacity = 30 + 30 * ((course_name == 'Обучение с подкреплением') | \n",
    "                          (course_name == 'Анализ данных в бизнесе'))\n",
    "    num = spring_first_wave[i].shape[0]\n",
    "    if (not spring_second_wave[i].empty):\n",
    "        num += spring_second_wave[i].shape[0]\n",
    "\n",
    "    if num >= capacity:                                                # no available places\n",
    "        spring_third_wave[i] = pd.DataFrame(columns=df.columns)\n",
    "        continue\n",
    "    capacity -= num                                                    # update capacity (places left)\n",
    "    \n",
    "    cc = df[(df['spring_courses_cnt'] == 1) & (df['spring_3'] == course_name) & (spring_course_df['course1'] == '???')]\n",
    "    \n",
    "    cc = cc.sort_values('percentile').head(capacity)\n",
    "    spring_third_wave[i] = cc                                          # save students' information after third wave\n",
    "    \n",
    "    cc = cc.filter(items=['id'])\n",
    "    cc['course'] = course_name\n",
    "    \n",
    "    spring_course_df = pd.merge(spring_course_df, cc, on='id', how='left')\n",
    "    spring_course_df['course1'] = np.where((~spring_course_df['course'].isnull()) & (spring_course_df['course1'] == '???'), \n",
    "                                course_name, spring_course_df.course1)\n",
    "    spring_course_df.drop(columns=['course'], inplace=True)"
   ]
  },
  {
   "cell_type": "code",
   "execution_count": null,
   "metadata": {},
   "outputs": [],
   "source": [
    "# DISPLAY COURSE DISTRIBUTION AND NUMBER OF STUDENTS IN EACH COURSE AFTER SECOND WAVE\n",
    "\n",
    "# print('Third wave')\n",
    "# display(spring_course_df)\n",
    "# for i in range(len(spring_courses)):\n",
    "#     course_name = spring_courses[i]\n",
    "#     capacity = 30 + 30 * ((course_name == 'Обучение с подкреплением') | \n",
    "#                           (course_name == 'Анализ данных в бизнесе'))\n",
    "#     num = spring_first_wave[i].shape[0]\n",
    "#     if (not spring_second_wave[i].empty):\n",
    "#         num += spring_second_wave[i].shape[0]\n",
    "#     if (not spring_third_wave[i].empty):\n",
    "#         num += spring_third_wave[i].shape[0]\n",
    "#     print(course_name, num,'/',capacity)"
   ]
  },
  {
   "cell_type": "code",
   "execution_count": 52,
   "metadata": {},
   "outputs": [],
   "source": [
    "# rename column 'id' and save to csv file\n",
    "spring_course_df.rename(columns={'id':'ID'}, inplace=True)\n",
    "spring_course_df.to_csv('res_spring.csv', index=None)"
   ]
  },
  {
   "cell_type": "markdown",
   "metadata": {},
   "source": [
    "**Отправьте свой файл res_spring.csv в контест (https://contest.yandex.ru/contest/19782/problems/B/) и прикрепите/укажите ниже ваш никнейм и ссылку на успешную посылку.**"
   ]
  },
  {
   "cell_type": "markdown",
   "metadata": {},
   "source": [
    "**Contest nickname:** dangkuin.nina\n",
    "\n",
    "**Submission ID:** 34604974"
   ]
  },
  {
   "cell_type": "markdown",
   "metadata": {},
   "source": [
    "На всякий случай просим вас сдать вместе с ноутбуком файл res_spring.csv в anytask"
   ]
  },
  {
   "cell_type": "markdown",
   "metadata": {},
   "source": [
    "Вставьте картинку, описывающую ваш опыт выполнения этого задания:"
   ]
  },
  {
   "cell_type": "markdown",
   "metadata": {},
   "source": [
    "<img src=\"https://media.giphy.com/media/ny7UCd6JETnmE/giphy.gif\" style=\"width: 400px\">"
   ]
  }
 ],
 "metadata": {
  "kernelspec": {
   "display_name": "Python 3",
   "language": "python",
   "name": "python3"
  },
  "language_info": {
   "codemirror_mode": {
    "name": "ipython",
    "version": 3
   },
   "file_extension": ".py",
   "mimetype": "text/x-python",
   "name": "python",
   "nbconvert_exporter": "python",
   "pygments_lexer": "ipython3",
   "version": "3.8.3"
  }
 },
 "nbformat": 4,
 "nbformat_minor": 2
}
